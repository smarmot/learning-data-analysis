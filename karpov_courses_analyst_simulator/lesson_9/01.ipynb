{
 "cells": [
  {
   "cell_type": "markdown",
   "id": "ec7319fe-ca62-4c33-b8a7-e63a3f6f8a94",
   "metadata": {},
   "source": [
    "## Задание 1\n",
    "Первое, что мы можем сделать - это посчитать описательные статистики по лайкам и просмотрам.\n",
    "\n",
    "Укажите, что из этого НЕ ХАРАКТЕРНО для наших данных. Возможно, вы догадаетесь о правильном ответе даже без описательных статистик :)\n",
    "\n",
    "- [ ] По мерам центральной тенденции просмотры опережают лайки\n",
    "- [ ] Медиана лайков приблизительно такая же, как и среднее по ним же\n",
    "- [ ] Самые популярные посты собирают миллионы просмотров"
   ]
  },
  {
   "cell_type": "code",
   "execution_count": 3,
   "id": "f434f1f1-617a-4f99-93cc-c5bc57ea2fc7",
   "metadata": {},
   "outputs": [],
   "source": [
    "import pandas as pd\n",
    "from read_db import Getch"
   ]
  },
  {
   "cell_type": "markdown",
   "id": "fc8b1e0d-db15-4589-bfdc-91567af1425e",
   "metadata": {
    "tags": []
   },
   "source": [
    "### По мерам центральной тенденции просмотры опережают лайки\n",
    "Будем считать по дням.  \n",
    "МЦТ: мода, медиана, среднее.   \n",
    "Думаю, что тут ничего не надо считать, так как понятно, что просмотров больше лайков, и, следовательно, среднее, мода и медиана у просмотров будет больше, чем у лайков.\n",
    "\n",
    "Ответ: этот вариант не нужно выбирать"
   ]
  },
  {
   "cell_type": "code",
   "execution_count": 11,
   "id": "ad01b18d-ab02-4b4e-8628-49de975e2ae3",
   "metadata": {},
   "outputs": [],
   "source": [
    "view_query = \"\"\"\n",
    "SELECT\n",
    "    toDate(time) date,\n",
    "    count(distinct user_id) count_users\n",
    "FROM simulator_20220420.feed_actions\n",
    "WHERE action = 'view'\n",
    "GROUP BY toDate(time)\n",
    "\"\"\""
   ]
  },
  {
   "cell_type": "code",
   "execution_count": 12,
   "id": "79000f55-e145-4357-a4a1-a5b3368a779f",
   "metadata": {},
   "outputs": [],
   "source": [
    "view_data = Getch(view_query).df"
   ]
  },
  {
   "cell_type": "code",
   "execution_count": 13,
   "id": "3dadc3df-2146-442d-8aed-d0ce8a68776c",
   "metadata": {},
   "outputs": [
    {
     "data": {
      "text/html": [
       "<div>\n",
       "<style scoped>\n",
       "    .dataframe tbody tr th:only-of-type {\n",
       "        vertical-align: middle;\n",
       "    }\n",
       "\n",
       "    .dataframe tbody tr th {\n",
       "        vertical-align: top;\n",
       "    }\n",
       "\n",
       "    .dataframe thead th {\n",
       "        text-align: right;\n",
       "    }\n",
       "</style>\n",
       "<table border=\"1\" class=\"dataframe\">\n",
       "  <thead>\n",
       "    <tr style=\"text-align: right;\">\n",
       "      <th></th>\n",
       "      <th>date</th>\n",
       "      <th>count_users</th>\n",
       "    </tr>\n",
       "  </thead>\n",
       "  <tbody>\n",
       "    <tr>\n",
       "      <th>0</th>\n",
       "      <td>2022-03-08</td>\n",
       "      <td>1198</td>\n",
       "    </tr>\n",
       "    <tr>\n",
       "      <th>1</th>\n",
       "      <td>2022-03-09</td>\n",
       "      <td>2325</td>\n",
       "    </tr>\n",
       "    <tr>\n",
       "      <th>2</th>\n",
       "      <td>2022-03-10</td>\n",
       "      <td>3388</td>\n",
       "    </tr>\n",
       "    <tr>\n",
       "      <th>3</th>\n",
       "      <td>2022-03-11</td>\n",
       "      <td>4121</td>\n",
       "    </tr>\n",
       "    <tr>\n",
       "      <th>4</th>\n",
       "      <td>2022-03-12</td>\n",
       "      <td>4917</td>\n",
       "    </tr>\n",
       "  </tbody>\n",
       "</table>\n",
       "</div>"
      ],
      "text/plain": [
       "        date  count_users\n",
       "0 2022-03-08         1198\n",
       "1 2022-03-09         2325\n",
       "2 2022-03-10         3388\n",
       "3 2022-03-11         4121\n",
       "4 2022-03-12         4917"
      ]
     },
     "execution_count": 13,
     "metadata": {},
     "output_type": "execute_result"
    }
   ],
   "source": [
    "view_data.head(5)"
   ]
  },
  {
   "cell_type": "code",
   "execution_count": 14,
   "id": "995220ee-0fee-4fe3-92bd-5068604e5e93",
   "metadata": {},
   "outputs": [
    {
     "data": {
      "text/html": [
       "<div>\n",
       "<style scoped>\n",
       "    .dataframe tbody tr th:only-of-type {\n",
       "        vertical-align: middle;\n",
       "    }\n",
       "\n",
       "    .dataframe tbody tr th {\n",
       "        vertical-align: top;\n",
       "    }\n",
       "\n",
       "    .dataframe thead th {\n",
       "        text-align: right;\n",
       "    }\n",
       "</style>\n",
       "<table border=\"1\" class=\"dataframe\">\n",
       "  <thead>\n",
       "    <tr style=\"text-align: right;\">\n",
       "      <th></th>\n",
       "      <th>count_users</th>\n",
       "    </tr>\n",
       "  </thead>\n",
       "  <tbody>\n",
       "    <tr>\n",
       "      <th>count</th>\n",
       "      <td>57.000000</td>\n",
       "    </tr>\n",
       "    <tr>\n",
       "      <th>mean</th>\n",
       "      <td>12548.666667</td>\n",
       "    </tr>\n",
       "    <tr>\n",
       "      <th>std</th>\n",
       "      <td>4699.846070</td>\n",
       "    </tr>\n",
       "    <tr>\n",
       "      <th>min</th>\n",
       "      <td>1198.000000</td>\n",
       "    </tr>\n",
       "    <tr>\n",
       "      <th>25%</th>\n",
       "      <td>9637.000000</td>\n",
       "    </tr>\n",
       "    <tr>\n",
       "      <th>50%</th>\n",
       "      <td>13173.000000</td>\n",
       "    </tr>\n",
       "    <tr>\n",
       "      <th>75%</th>\n",
       "      <td>16079.000000</td>\n",
       "    </tr>\n",
       "    <tr>\n",
       "      <th>max</th>\n",
       "      <td>19129.000000</td>\n",
       "    </tr>\n",
       "  </tbody>\n",
       "</table>\n",
       "</div>"
      ],
      "text/plain": [
       "        count_users\n",
       "count     57.000000\n",
       "mean   12548.666667\n",
       "std     4699.846070\n",
       "min     1198.000000\n",
       "25%     9637.000000\n",
       "50%    13173.000000\n",
       "75%    16079.000000\n",
       "max    19129.000000"
      ]
     },
     "execution_count": 14,
     "metadata": {},
     "output_type": "execute_result"
    }
   ],
   "source": [
    "view_data.describe()"
   ]
  },
  {
   "cell_type": "code",
   "execution_count": 18,
   "id": "4106208c-e715-4957-ad44-51ec412e989c",
   "metadata": {
    "collapsed": true,
    "jupyter": {
     "outputs_hidden": true
    },
    "tags": []
   },
   "outputs": [
    {
     "data": {
      "text/plain": [
       "1198     1\n",
       "13201    1\n",
       "14539    1\n",
       "14774    1\n",
       "14638    1\n",
       "14218    1\n",
       "14688    1\n",
       "15071    1\n",
       "15758    1\n",
       "15963    1\n",
       "16422    1\n",
       "19123    1\n",
       "15609    1\n",
       "16079    1\n",
       "16781    1\n",
       "16968    1\n",
       "17671    1\n",
       "17960    1\n",
       "17369    1\n",
       "17132    1\n",
       "14073    1\n",
       "18248    1\n",
       "18666    1\n",
       "18608    1\n",
       "19129    1\n",
       "18613    1\n",
       "18572    1\n",
       "13928    1\n",
       "12968    1\n",
       "2325     1\n",
       "12651    1\n",
       "3388     1\n",
       "4121     1\n",
       "4917     1\n",
       "5245     1\n",
       "5281     1\n",
       "5996     1\n",
       "6970     1\n",
       "7743     1\n",
       "8373     1\n",
       "8870     1\n",
       "8855     1\n",
       "8865     1\n",
       "9637     1\n",
       "9926     1\n",
       "10600    1\n",
       "10717    1\n",
       "11388    1\n",
       "11188    1\n",
       "11035    1\n",
       "11373    1\n",
       "11901    1\n",
       "12478    1\n",
       "12780    1\n",
       "13173    1\n",
       "12829    1\n",
       "14682    1\n",
       "Name: count_users, dtype: int64"
      ]
     },
     "execution_count": 18,
     "metadata": {},
     "output_type": "execute_result"
    }
   ],
   "source": [
    "view_data['count_users'].value_counts()"
   ]
  },
  {
   "cell_type": "markdown",
   "id": "68855681-13dc-4a4d-b3b2-6c28898d986a",
   "metadata": {},
   "source": [
    "### Медиана лайков приблизительно такая же, как и среднее по ним же"
   ]
  },
  {
   "cell_type": "code",
   "execution_count": 4,
   "id": "65a29177-741b-44c8-b4ff-1bba66ef96f3",
   "metadata": {},
   "outputs": [],
   "source": [
    "likes_query = \"\"\"\n",
    "SELECT\n",
    "    toDate(time) date,\n",
    "    count(distinct user_id) count_users\n",
    "FROM simulator_20220420.feed_actions\n",
    "WHERE action = 'like'\n",
    "GROUP BY toDate(time)\n",
    "\"\"\""
   ]
  },
  {
   "cell_type": "code",
   "execution_count": 5,
   "id": "70efb139-c8b0-4bc9-9d7a-9335be7a9c18",
   "metadata": {},
   "outputs": [],
   "source": [
    "likes_data = Getch(likes_query).df"
   ]
  },
  {
   "cell_type": "code",
   "execution_count": 6,
   "id": "29abc8e6-5ab5-43fe-a214-d9302085dfae",
   "metadata": {},
   "outputs": [
    {
     "data": {
      "text/html": [
       "<div>\n",
       "<style scoped>\n",
       "    .dataframe tbody tr th:only-of-type {\n",
       "        vertical-align: middle;\n",
       "    }\n",
       "\n",
       "    .dataframe tbody tr th {\n",
       "        vertical-align: top;\n",
       "    }\n",
       "\n",
       "    .dataframe thead th {\n",
       "        text-align: right;\n",
       "    }\n",
       "</style>\n",
       "<table border=\"1\" class=\"dataframe\">\n",
       "  <thead>\n",
       "    <tr style=\"text-align: right;\">\n",
       "      <th></th>\n",
       "      <th>date</th>\n",
       "      <th>count_users</th>\n",
       "    </tr>\n",
       "  </thead>\n",
       "  <tbody>\n",
       "    <tr>\n",
       "      <th>0</th>\n",
       "      <td>2022-03-08</td>\n",
       "      <td>844</td>\n",
       "    </tr>\n",
       "    <tr>\n",
       "      <th>1</th>\n",
       "      <td>2022-03-09</td>\n",
       "      <td>2251</td>\n",
       "    </tr>\n",
       "    <tr>\n",
       "      <th>2</th>\n",
       "      <td>2022-03-10</td>\n",
       "      <td>3344</td>\n",
       "    </tr>\n",
       "    <tr>\n",
       "      <th>3</th>\n",
       "      <td>2022-03-11</td>\n",
       "      <td>4063</td>\n",
       "    </tr>\n",
       "    <tr>\n",
       "      <th>4</th>\n",
       "      <td>2022-03-12</td>\n",
       "      <td>4851</td>\n",
       "    </tr>\n",
       "  </tbody>\n",
       "</table>\n",
       "</div>"
      ],
      "text/plain": [
       "        date  count_users\n",
       "0 2022-03-08          844\n",
       "1 2022-03-09         2251\n",
       "2 2022-03-10         3344\n",
       "3 2022-03-11         4063\n",
       "4 2022-03-12         4851"
      ]
     },
     "execution_count": 6,
     "metadata": {},
     "output_type": "execute_result"
    }
   ],
   "source": [
    "likes_data.head(5)"
   ]
  },
  {
   "cell_type": "code",
   "execution_count": 7,
   "id": "30b51666-6f5f-46ad-92c6-afbc00f8b8f0",
   "metadata": {},
   "outputs": [
    {
     "data": {
      "text/html": [
       "<div>\n",
       "<style scoped>\n",
       "    .dataframe tbody tr th:only-of-type {\n",
       "        vertical-align: middle;\n",
       "    }\n",
       "\n",
       "    .dataframe tbody tr th {\n",
       "        vertical-align: top;\n",
       "    }\n",
       "\n",
       "    .dataframe thead th {\n",
       "        text-align: right;\n",
       "    }\n",
       "</style>\n",
       "<table border=\"1\" class=\"dataframe\">\n",
       "  <thead>\n",
       "    <tr style=\"text-align: right;\">\n",
       "      <th></th>\n",
       "      <th>count_users</th>\n",
       "    </tr>\n",
       "  </thead>\n",
       "  <tbody>\n",
       "    <tr>\n",
       "      <th>count</th>\n",
       "      <td>57.000000</td>\n",
       "    </tr>\n",
       "    <tr>\n",
       "      <th>mean</th>\n",
       "      <td>12301.210526</td>\n",
       "    </tr>\n",
       "    <tr>\n",
       "      <th>std</th>\n",
       "      <td>4610.210457</td>\n",
       "    </tr>\n",
       "    <tr>\n",
       "      <th>min</th>\n",
       "      <td>844.000000</td>\n",
       "    </tr>\n",
       "    <tr>\n",
       "      <th>25%</th>\n",
       "      <td>9526.000000</td>\n",
       "    </tr>\n",
       "    <tr>\n",
       "      <th>50%</th>\n",
       "      <td>12740.000000</td>\n",
       "    </tr>\n",
       "    <tr>\n",
       "      <th>75%</th>\n",
       "      <td>15909.000000</td>\n",
       "    </tr>\n",
       "    <tr>\n",
       "      <th>max</th>\n",
       "      <td>18769.000000</td>\n",
       "    </tr>\n",
       "  </tbody>\n",
       "</table>\n",
       "</div>"
      ],
      "text/plain": [
       "        count_users\n",
       "count     57.000000\n",
       "mean   12301.210526\n",
       "std     4610.210457\n",
       "min      844.000000\n",
       "25%     9526.000000\n",
       "50%    12740.000000\n",
       "75%    15909.000000\n",
       "max    18769.000000"
      ]
     },
     "execution_count": 7,
     "metadata": {},
     "output_type": "execute_result"
    }
   ],
   "source": [
    "likes_data.describe()"
   ]
  },
  {
   "cell_type": "markdown",
   "id": "a3653650-f934-4086-ac76-2b244c5778c4",
   "metadata": {},
   "source": [
    "Среднее = 12300.21, медиана = 12740.   \n",
    "Ответ: этот вариант не нужно выбирать.\n",
    "UPD. Оказалось, что это вариант нужно выбрать, потому что они не равны."
   ]
  },
  {
   "cell_type": "code",
   "execution_count": 20,
   "id": "3ebc5e15-7e80-4d77-8a00-112e7cd35da8",
   "metadata": {
    "collapsed": true,
    "jupyter": {
     "outputs_hidden": true
    },
    "tags": []
   },
   "outputs": [
    {
     "data": {
      "text/plain": [
       "844      1\n",
       "12740    1\n",
       "14260    1\n",
       "14573    1\n",
       "14451    1\n",
       "14070    1\n",
       "14559    1\n",
       "14872    1\n",
       "15421    1\n",
       "15595    1\n",
       "16020    1\n",
       "18769    1\n",
       "15313    1\n",
       "15909    1\n",
       "16483    1\n",
       "16633    1\n",
       "17385    1\n",
       "17700    1\n",
       "16957    1\n",
       "16899    1\n",
       "13831    1\n",
       "17902    1\n",
       "18319    1\n",
       "18206    1\n",
       "18592    1\n",
       "18170    1\n",
       "17879    1\n",
       "13585    1\n",
       "12580    1\n",
       "2251     1\n",
       "12418    1\n",
       "3344     1\n",
       "4063     1\n",
       "4851     1\n",
       "5131     1\n",
       "5163     1\n",
       "5880     1\n",
       "6781     1\n",
       "7628     1\n",
       "8264     1\n",
       "8765     1\n",
       "8751     1\n",
       "8782     1\n",
       "9526     1\n",
       "9753     1\n",
       "10331    1\n",
       "10497    1\n",
       "11154    1\n",
       "10950    1\n",
       "10846    1\n",
       "11137    1\n",
       "11759    1\n",
       "12277    1\n",
       "12655    1\n",
       "13045    1\n",
       "12642    1\n",
       "14008    1\n",
       "Name: count_users, dtype: int64"
      ]
     },
     "execution_count": 20,
     "metadata": {},
     "output_type": "execute_result"
    }
   ],
   "source": [
    "likes_data['count_users'].value_counts()"
   ]
  },
  {
   "cell_type": "markdown",
   "id": "adfef03b-a2db-49ef-b9f6-bc36bed29922",
   "metadata": {},
   "source": [
    "### Самые популярные посты собирают миллионы просмотров"
   ]
  },
  {
   "cell_type": "code",
   "execution_count": 8,
   "id": "877ffa94-fc57-47a1-a5ab-9f609d81ff9e",
   "metadata": {},
   "outputs": [],
   "source": [
    "# Посмотрим топ-10 постов по просмотрам за все время\n",
    "top_10_posts_query = \"\"\"\n",
    "SELECT\n",
    "    post_id,\n",
    "    count(user_id) count_views\n",
    "FROM simulator_20220420.feed_actions\n",
    "WHERE action = 'view'\n",
    "GROUP BY post_id\n",
    "ORDER BY count_views desc\n",
    "LIMIT 10\n",
    "\"\"\""
   ]
  },
  {
   "cell_type": "code",
   "execution_count": 9,
   "id": "382f9607-80b6-443d-9358-910218ad5709",
   "metadata": {},
   "outputs": [],
   "source": [
    "top_10_posts_data = Getch(top_10_posts_query).df"
   ]
  },
  {
   "cell_type": "code",
   "execution_count": 10,
   "id": "6ce51b58-21b8-4a65-993c-12b6ea14fd6c",
   "metadata": {},
   "outputs": [
    {
     "data": {
      "text/html": [
       "<div>\n",
       "<style scoped>\n",
       "    .dataframe tbody tr th:only-of-type {\n",
       "        vertical-align: middle;\n",
       "    }\n",
       "\n",
       "    .dataframe tbody tr th {\n",
       "        vertical-align: top;\n",
       "    }\n",
       "\n",
       "    .dataframe thead th {\n",
       "        text-align: right;\n",
       "    }\n",
       "</style>\n",
       "<table border=\"1\" class=\"dataframe\">\n",
       "  <thead>\n",
       "    <tr style=\"text-align: right;\">\n",
       "      <th></th>\n",
       "      <th>post_id</th>\n",
       "      <th>count_views</th>\n",
       "    </tr>\n",
       "  </thead>\n",
       "  <tbody>\n",
       "    <tr>\n",
       "      <th>0</th>\n",
       "      <td>3192</td>\n",
       "      <td>89909</td>\n",
       "    </tr>\n",
       "    <tr>\n",
       "      <th>1</th>\n",
       "      <td>3246</td>\n",
       "      <td>76393</td>\n",
       "    </tr>\n",
       "    <tr>\n",
       "      <th>2</th>\n",
       "      <td>1930</td>\n",
       "      <td>75750</td>\n",
       "    </tr>\n",
       "    <tr>\n",
       "      <th>3</th>\n",
       "      <td>3795</td>\n",
       "      <td>75448</td>\n",
       "    </tr>\n",
       "    <tr>\n",
       "      <th>4</th>\n",
       "      <td>3689</td>\n",
       "      <td>70686</td>\n",
       "    </tr>\n",
       "    <tr>\n",
       "      <th>5</th>\n",
       "      <td>2287</td>\n",
       "      <td>67761</td>\n",
       "    </tr>\n",
       "    <tr>\n",
       "      <th>6</th>\n",
       "      <td>2235</td>\n",
       "      <td>66728</td>\n",
       "    </tr>\n",
       "    <tr>\n",
       "      <th>7</th>\n",
       "      <td>3172</td>\n",
       "      <td>64376</td>\n",
       "    </tr>\n",
       "    <tr>\n",
       "      <th>8</th>\n",
       "      <td>3238</td>\n",
       "      <td>62093</td>\n",
       "    </tr>\n",
       "    <tr>\n",
       "      <th>9</th>\n",
       "      <td>3538</td>\n",
       "      <td>60968</td>\n",
       "    </tr>\n",
       "  </tbody>\n",
       "</table>\n",
       "</div>"
      ],
      "text/plain": [
       "   post_id  count_views\n",
       "0     3192        89909\n",
       "1     3246        76393\n",
       "2     1930        75750\n",
       "3     3795        75448\n",
       "4     3689        70686\n",
       "5     2287        67761\n",
       "6     2235        66728\n",
       "7     3172        64376\n",
       "8     3238        62093\n",
       "9     3538        60968"
      ]
     },
     "execution_count": 10,
     "metadata": {},
     "output_type": "execute_result"
    }
   ],
   "source": [
    "top_10_posts_data"
   ]
  },
  {
   "cell_type": "markdown",
   "id": "1fd1218c-302d-404a-a0fe-fb557e9776be",
   "metadata": {},
   "source": [
    "На миллион не похоже :)    \n",
    "\n",
    "Ответ: выбираем этот вариант"
   ]
  }
 ],
 "metadata": {
  "kernelspec": {
   "display_name": "Python 3 (ipykernel)",
   "language": "python",
   "name": "python3"
  },
  "language_info": {
   "codemirror_mode": {
    "name": "ipython",
    "version": 3
   },
   "file_extension": ".py",
   "mimetype": "text/x-python",
   "name": "python",
   "nbconvert_exporter": "python",
   "pygments_lexer": "ipython3",
   "version": "3.8.10"
  }
 },
 "nbformat": 4,
 "nbformat_minor": 5
}
