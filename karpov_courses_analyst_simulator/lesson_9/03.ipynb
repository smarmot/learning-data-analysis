{
 "cells": [
  {
   "cell_type": "markdown",
   "id": "1085423f-50bf-42f7-8c5d-cda3a9d64c9d",
   "metadata": {},
   "source": [
    "## Задание 2\n",
    "\n",
    "\"Сырые\" лайки и просмотры могут быть познавательными сами по себе, но качество поста можно оценить не только по ним. Полезной может оказаться такая метрика как CTR - в данном случае это отношение количества лайков ко всем просмотрам данного поста. Также важную информацию может дать время существования поста - насколько продолжительное время конкретный пост смотрят и лайкают.   \n",
    "\n",
    "Посчитайте CTR и время существования для каждого из постов (от первого просмотра поста).    \n",
    "\n",
    "Затем:\n",
    "- Нарисуйте их распределения\n",
    "- Постройте корреляционную матрицу между ними, просмотрами и лайками\n",
    "- Визуализируйте все эти взаимосвязи в виде диаграмм рассеяния\n",
    "\n",
    "Какие суждения об этих величинах верны? Суждение может быть одно, а может быть несколько.\n",
    "\n",
    "- [ ] Между количеством лайков и временем существования поста связь линейная\n",
    "- [ ] Сильнее всего коррелируют CTR и время существования поста\n",
    "- [ ] По сравнению с просмотрами и лайками CTR менее асимметричен\n",
    "- [ ] В среднем посты \"живут\" пять дней"
   ]
  },
  {
   "cell_type": "code",
   "execution_count": 1,
   "id": "c16096a8-b934-485e-bbde-aeddf73714a8",
   "metadata": {},
   "outputs": [],
   "source": [
    "import pandas as pd\n",
    "import seaborn as sns\n",
    "import matplotlib.pyplot as plt\n",
    "\n",
    "from read_db import Getch"
   ]
  },
  {
   "cell_type": "code",
   "execution_count": 13,
   "id": "847510d1-f212-4b1a-b230-3bce575e59d2",
   "metadata": {},
   "outputs": [],
   "source": [
    "sns.set(rc={'figure.figsize': (11.7, 8.27)})"
   ]
  },
  {
   "cell_type": "code",
   "execution_count": 5,
   "id": "32d060e7-b8d6-42dc-bbcc-e573713f7196",
   "metadata": {},
   "outputs": [],
   "source": [
    "query = \"\"\"\n",
    "SELECT\n",
    "    post_id,\n",
    "    sum(action = 'view') views,\n",
    "    sum(action = 'like') likes,\n",
    "    likes / views as ctr,\n",
    "    dateDiff('day', min(time), max(time)) + 1 lifetime\n",
    "FROM simulator_20220420.feed_actions\n",
    "GROUP BY post_id\n",
    "\"\"\""
   ]
  },
  {
   "cell_type": "code",
   "execution_count": 6,
   "id": "c73e0dd4-d5c6-415a-9ae7-16c0bef41433",
   "metadata": {},
   "outputs": [],
   "source": [
    "data = Getch(query).df"
   ]
  },
  {
   "cell_type": "code",
   "execution_count": 7,
   "id": "22d0c8af-4de7-4796-a056-f32d632b1c22",
   "metadata": {},
   "outputs": [
    {
     "data": {
      "text/html": [
       "<div>\n",
       "<style scoped>\n",
       "    .dataframe tbody tr th:only-of-type {\n",
       "        vertical-align: middle;\n",
       "    }\n",
       "\n",
       "    .dataframe tbody tr th {\n",
       "        vertical-align: top;\n",
       "    }\n",
       "\n",
       "    .dataframe thead th {\n",
       "        text-align: right;\n",
       "    }\n",
       "</style>\n",
       "<table border=\"1\" class=\"dataframe\">\n",
       "  <thead>\n",
       "    <tr style=\"text-align: right;\">\n",
       "      <th></th>\n",
       "      <th>post_id</th>\n",
       "      <th>views</th>\n",
       "      <th>likes</th>\n",
       "      <th>ctr</th>\n",
       "      <th>lifetime</th>\n",
       "    </tr>\n",
       "  </thead>\n",
       "  <tbody>\n",
       "    <tr>\n",
       "      <th>0</th>\n",
       "      <td>610</td>\n",
       "      <td>10727</td>\n",
       "      <td>2271</td>\n",
       "      <td>0.211709</td>\n",
       "      <td>5</td>\n",
       "    </tr>\n",
       "    <tr>\n",
       "      <th>1</th>\n",
       "      <td>4660</td>\n",
       "      <td>1637</td>\n",
       "      <td>192</td>\n",
       "      <td>0.117288</td>\n",
       "      <td>2</td>\n",
       "    </tr>\n",
       "    <tr>\n",
       "      <th>2</th>\n",
       "      <td>4742</td>\n",
       "      <td>11</td>\n",
       "      <td>1</td>\n",
       "      <td>0.090909</td>\n",
       "      <td>1</td>\n",
       "    </tr>\n",
       "    <tr>\n",
       "      <th>3</th>\n",
       "      <td>720</td>\n",
       "      <td>6120</td>\n",
       "      <td>1089</td>\n",
       "      <td>0.177941</td>\n",
       "      <td>4</td>\n",
       "    </tr>\n",
       "    <tr>\n",
       "      <th>4</th>\n",
       "      <td>948</td>\n",
       "      <td>9846</td>\n",
       "      <td>2051</td>\n",
       "      <td>0.208308</td>\n",
       "      <td>4</td>\n",
       "    </tr>\n",
       "  </tbody>\n",
       "</table>\n",
       "</div>"
      ],
      "text/plain": [
       "   post_id  views  likes       ctr  lifetime\n",
       "0      610  10727   2271  0.211709         5\n",
       "1     4660   1637    192  0.117288         2\n",
       "2     4742     11      1  0.090909         1\n",
       "3      720   6120   1089  0.177941         4\n",
       "4      948   9846   2051  0.208308         4"
      ]
     },
     "execution_count": 7,
     "metadata": {},
     "output_type": "execute_result"
    }
   ],
   "source": [
    "data.head()"
   ]
  },
  {
   "cell_type": "code",
   "execution_count": 11,
   "id": "b254f140-85f0-4e59-ba9e-1cde11c1d43f",
   "metadata": {},
   "outputs": [
    {
     "data": {
      "text/html": [
       "<div>\n",
       "<style scoped>\n",
       "    .dataframe tbody tr th:only-of-type {\n",
       "        vertical-align: middle;\n",
       "    }\n",
       "\n",
       "    .dataframe tbody tr th {\n",
       "        vertical-align: top;\n",
       "    }\n",
       "\n",
       "    .dataframe thead th {\n",
       "        text-align: right;\n",
       "    }\n",
       "</style>\n",
       "<table border=\"1\" class=\"dataframe\">\n",
       "  <thead>\n",
       "    <tr style=\"text-align: right;\">\n",
       "      <th></th>\n",
       "      <th>views</th>\n",
       "      <th>likes</th>\n",
       "      <th>ctr</th>\n",
       "      <th>lifetime</th>\n",
       "    </tr>\n",
       "  </thead>\n",
       "  <tbody>\n",
       "    <tr>\n",
       "      <th>views</th>\n",
       "      <td>1.000000</td>\n",
       "      <td>0.990347</td>\n",
       "      <td>0.795002</td>\n",
       "      <td>0.835273</td>\n",
       "    </tr>\n",
       "    <tr>\n",
       "      <th>likes</th>\n",
       "      <td>0.990347</td>\n",
       "      <td>1.000000</td>\n",
       "      <td>0.746809</td>\n",
       "      <td>0.791010</td>\n",
       "    </tr>\n",
       "    <tr>\n",
       "      <th>ctr</th>\n",
       "      <td>0.795002</td>\n",
       "      <td>0.746809</td>\n",
       "      <td>1.000000</td>\n",
       "      <td>0.878119</td>\n",
       "    </tr>\n",
       "    <tr>\n",
       "      <th>lifetime</th>\n",
       "      <td>0.835273</td>\n",
       "      <td>0.791010</td>\n",
       "      <td>0.878119</td>\n",
       "      <td>1.000000</td>\n",
       "    </tr>\n",
       "  </tbody>\n",
       "</table>\n",
       "</div>"
      ],
      "text/plain": [
       "             views     likes       ctr  lifetime\n",
       "views     1.000000  0.990347  0.795002  0.835273\n",
       "likes     0.990347  1.000000  0.746809  0.791010\n",
       "ctr       0.795002  0.746809  1.000000  0.878119\n",
       "lifetime  0.835273  0.791010  0.878119  1.000000"
      ]
     },
     "execution_count": 11,
     "metadata": {},
     "output_type": "execute_result"
    }
   ],
   "source": [
    "data.drop(['post_id'], axis=1).corr(method='pearson')"
   ]
  },
  {
   "cell_type": "markdown",
   "id": "13c5f0df-a255-4b3c-9c0a-df6b3627620d",
   "metadata": {},
   "source": [
    "### Между количеством лайков и временем существования поста связь линейная\n",
    "Коэффициент корреляции между лайками и временем существования равен 0.791 – связь не очень сильная"
   ]
  },
  {
   "cell_type": "markdown",
   "id": "23e63b56-6cba-48c9-a9b5-dca1e03e44c5",
   "metadata": {},
   "source": [
    "### Сильнее всего коррелируют CTR и время существования поста\n",
    "Коэффициент корреляции между CTR и временем существования равен 0.878. Это не максимум."
   ]
  },
  {
   "cell_type": "markdown",
   "id": "d41f88c5-7440-49f8-a005-fb24c0f22263",
   "metadata": {
    "tags": []
   },
   "source": [
    "### В среднем посты \"живут\" пять дней"
   ]
  },
  {
   "cell_type": "code",
   "execution_count": 9,
   "id": "6cc80208-b83e-4abb-a94d-8e7e98638431",
   "metadata": {},
   "outputs": [
    {
     "data": {
      "text/plain": [
       "2.863730084348641"
      ]
     },
     "execution_count": 9,
     "metadata": {},
     "output_type": "execute_result"
    }
   ],
   "source": [
    "# среднее время жизни в днях\n",
    "data['lifetime'].mean()"
   ]
  },
  {
   "cell_type": "markdown",
   "id": "b26f4df9-b244-43eb-af85-f57bf837d1e5",
   "metadata": {},
   "source": [
    "### По сравнению с просмотрами и лайками CTR менее асимметричен"
   ]
  },
  {
   "cell_type": "code",
   "execution_count": 16,
   "id": "7a35f9e1-7bed-4740-a99a-aac069df4c13",
   "metadata": {},
   "outputs": [
    {
     "data": {
      "text/plain": [
       "<matplotlib.legend.Legend at 0x7f9c58ffb0d0>"
      ]
     },
     "execution_count": 16,
     "metadata": {},
     "output_type": "execute_result"
    },
    {
     "data": {
      "image/png": "[encoded data removed]",
      "text/plain": [
       "<Figure size 842.4x595.44 with 1 Axes>"
      ]
     },
     "metadata": {},
     "output_type": "display_data"
    }
   ],
   "source": [
    "sns.distplot(data['views'], kde = False, label='views')\n",
    "sns.distplot(data['likes'], kde = False, label='likes')\n",
    "plt.legend()"
   ]
  },
  {
   "cell_type": "code",
   "execution_count": 17,
   "id": "f090294b-c09e-42d5-8dbc-41817e57fb25",
   "metadata": {},
   "outputs": [
    {
     "data": {
      "text/plain": [
       "<AxesSubplot:xlabel='ctr'>"
      ]
     },
     "execution_count": 17,
     "metadata": {},
     "output_type": "execute_result"
    },
    {
     "data": {
      "image/png": "[encoded data removed]",
      "text/plain": [
       "<Figure size 842.4x595.44 with 1 Axes>"
      ]
     },
     "metadata": {},
     "output_type": "display_data"
    }
   ],
   "source": [
    "sns.distplot(data['ctr'], kde = False, label='ctr')"
   ]
  },
  {
   "cell_type": "markdown",
   "id": "c0b85b6c-ed81-4251-9153-52ba01302122",
   "metadata": {},
   "source": [
    "Итого:\n",
    "- [ ] Между количеством лайков и временем существования поста связь линейная\n",
    "- [ ] Сильнее всего коррелируют CTR и время существования поста\n",
    "- [x] По сравнению с просмотрами и лайками CTR менее асимметричен\n",
    "- [ ] В среднем посты \"живут\" пять дней"
   ]
  },
  {
   "cell_type": "code",
   "execution_count": null,
   "id": "3dbf530a-3d75-4d9a-86ad-88e45ed5aecd",
   "metadata": {},
   "outputs": [],
   "source": []
  }
 ],
 "metadata": {
  "kernelspec": {
   "display_name": "Python 3 (ipykernel)",
   "language": "python",
   "name": "python3"
  },
  "language_info": {
   "codemirror_mode": {
    "name": "ipython",
    "version": 3
   },
   "file_extension": ".py",
   "mimetype": "text/x-python",
   "name": "python",
   "nbconvert_exporter": "python",
   "pygments_lexer": "ipython3",
   "version": "3.8.10"
  }
 },
 "nbformat": 4,
 "nbformat_minor": 5
}
