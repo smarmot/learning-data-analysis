{
 "cells": [
  {
   "cell_type": "markdown",
   "id": "c20dfdee-1a73-4f8e-a398-68b023a253d4",
   "metadata": {
    "tags": []
   },
   "source": [
    "### Задание 2\n",
    "\n",
    "Соберите единый отчет по работе всего приложения. В отчете должна быть информация и по ленте новостей, и по сервису отправки сообщений.   \n",
    "\n",
    "Продумайте, какие метрики необходимо отобразить в этом отчете? Как можно показать их динамику?  Приложите к отчету графики или файлы, чтобы сделать его более наглядным и информативным.    \n",
    "\n",
    "Сохраните скрипт сборки отчета в свой репозиторий в GitLab для автоматизации отчетности. Автоматизируйте отправку отчета с помощью GitLab CI/CD. Отчет должен приходить ежедневно в 11:00 в чат. \n"
   ]
  },
  {
   "cell_type": "code",
   "execution_count": 2,
   "id": "b997cf24-9f74-4929-82df-2f9975c6c4f2",
   "metadata": {},
   "outputs": [],
   "source": [
    "import telegram\n",
    "import numpy as np\n",
    "import matplotlib.pyplot as plt\n",
    "import seaborn as sns\n",
    "import io\n",
    "import logging\n",
    "import pandas as pd\n",
    "import pandahouse\n",
    "from read_db import Getch\n",
    "import os"
   ]
  },
  {
   "cell_type": "code",
   "execution_count": 3,
   "id": "4e8b6d32-a414-4185-9d44-a4b0e650f3c4",
   "metadata": {},
   "outputs": [],
   "source": [
    "sns.set()"
   ]
  },
  {
   "cell_type": "code",
   "execution_count": 1,
   "id": "d5ef8a3b-feb7-43fd-b25a-4b383a9105eb",
   "metadata": {},
   "outputs": [
    {
     "name": "stdout",
     "output_type": "stream",
     "text": [
      "env: REPORT_CHAT_ID=1\n",
      "env: REPORT_BOT_TOKEN=4\n"
     ]
    }
   ],
   "source": [
    "%env REPORT_CHAT_ID=1\n",
    "%env REPORT_BOT_TOKEN=4"
   ]
  },
  {
   "cell_type": "code",
   "execution_count": 12,
   "id": "856cd11b-bb9d-4992-ad14-2002b822f256",
   "metadata": {},
   "outputs": [],
   "source": [
    "bot = telegram.Bot(token=os.environ.get(\"REPORT_BOT_TOKEN\"))"
   ]
  },
  {
   "cell_type": "code",
   "execution_count": 13,
   "id": "204db606-12ef-48d4-86aa-006a1ba7d4e2",
   "metadata": {},
   "outputs": [],
   "source": [
    "chat_id = int(os.environ.get(\"REPORT_CHAT_ID\"))"
   ]
  },
  {
   "cell_type": "markdown",
   "id": "9fc5662d-a3bb-425d-bbf6-d38cace7d5a1",
   "metadata": {},
   "source": [
    "### Метрики\n",
    "За вчера:\n",
    "- Количество пользователей, использующих ленту\n",
    "- Количество пользователей, использующих сообщения\n",
    "- Количество пользователей, использующих только ленту\n",
    "- Количество пользователей, использующих только сообщения\n",
    "\n",
    "Графики:\n",
    "- Активные пользователи в ленте\n",
    "- Активные пользователи в сообщениях\n",
    "- Доля пользователей сообщений от пользователей ленты"
   ]
  },
  {
   "cell_type": "markdown",
   "id": "fa21707d-b0b8-416a-9465-7b1e2707b5ff",
   "metadata": {
    "tags": []
   },
   "source": [
    "### Данные"
   ]
  },
  {
   "cell_type": "code",
   "execution_count": null,
   "id": "32edcb38-390f-4797-9912-3c634a254db2",
   "metadata": {},
   "outputs": [],
   "source": [
    "feed_data_query = \"\"\"\n",
    "SELECT\n",
    "    distinct user_id,\n",
    "    toDate(time) date\n",
    "FROM simulator_20220420.feed_actions\n",
    "WHERE dateDiff('day', toDate(time), toDate(today())) <= 7\n",
    "    AND toDate(time) <> toDate(today())\n",
    "\"\"\"\n",
    "\n",
    "feed_data = Getch(feed_data_query).df"
   ]
  },
  {
   "cell_type": "code",
   "execution_count": 16,
   "id": "1f06488d-c044-4f7b-96cd-28b5e5df3782",
   "metadata": {},
   "outputs": [
    {
     "data": {
      "text/html": [
       "<div>\n",
       "<style scoped>\n",
       "    .dataframe tbody tr th:only-of-type {\n",
       "        vertical-align: middle;\n",
       "    }\n",
       "\n",
       "    .dataframe tbody tr th {\n",
       "        vertical-align: top;\n",
       "    }\n",
       "\n",
       "    .dataframe thead th {\n",
       "        text-align: right;\n",
       "    }\n",
       "</style>\n",
       "<table border=\"1\" class=\"dataframe\">\n",
       "  <thead>\n",
       "    <tr style=\"text-align: right;\">\n",
       "      <th></th>\n",
       "      <th>user_id</th>\n",
       "      <th>date</th>\n",
       "    </tr>\n",
       "  </thead>\n",
       "  <tbody>\n",
       "    <tr>\n",
       "      <th>0</th>\n",
       "      <td>143899</td>\n",
       "      <td>2022-04-30</td>\n",
       "    </tr>\n",
       "    <tr>\n",
       "      <th>1</th>\n",
       "      <td>118355</td>\n",
       "      <td>2022-04-30</td>\n",
       "    </tr>\n",
       "    <tr>\n",
       "      <th>2</th>\n",
       "      <td>143644</td>\n",
       "      <td>2022-04-30</td>\n",
       "    </tr>\n",
       "    <tr>\n",
       "      <th>3</th>\n",
       "      <td>147312</td>\n",
       "      <td>2022-04-30</td>\n",
       "    </tr>\n",
       "    <tr>\n",
       "      <th>4</th>\n",
       "      <td>150888</td>\n",
       "      <td>2022-04-30</td>\n",
       "    </tr>\n",
       "  </tbody>\n",
       "</table>\n",
       "</div>"
      ],
      "text/plain": [
       "   user_id       date\n",
       "0   143899 2022-04-30\n",
       "1   118355 2022-04-30\n",
       "2   143644 2022-04-30\n",
       "3   147312 2022-04-30\n",
       "4   150888 2022-04-30"
      ]
     },
     "execution_count": 16,
     "metadata": {},
     "output_type": "execute_result"
    }
   ],
   "source": [
    "feed_data.head()"
   ]
  },
  {
   "cell_type": "code",
   "execution_count": 17,
   "id": "ad0b1937-4e97-4caf-92ae-4b7515353d48",
   "metadata": {},
   "outputs": [],
   "source": [
    "message_data_query = \"\"\"\n",
    "SELECT\n",
    "    distinct user_id,\n",
    "    toDate(time) date\n",
    "FROM simulator_20220420.message_actions\n",
    "WHERE dateDiff('day', toDate(time), toDate(today())) <= 7\n",
    "    AND toDate(time) <> toDate(today())\n",
    "\"\"\"\n",
    "\n",
    "message_data = Getch(message_data_query).df"
   ]
  },
  {
   "cell_type": "code",
   "execution_count": 19,
   "id": "c4611006-01fe-46fd-ad0f-86f79d219d85",
   "metadata": {},
   "outputs": [
    {
     "data": {
      "text/html": [
       "<div>\n",
       "<style scoped>\n",
       "    .dataframe tbody tr th:only-of-type {\n",
       "        vertical-align: middle;\n",
       "    }\n",
       "\n",
       "    .dataframe tbody tr th {\n",
       "        vertical-align: top;\n",
       "    }\n",
       "\n",
       "    .dataframe thead th {\n",
       "        text-align: right;\n",
       "    }\n",
       "</style>\n",
       "<table border=\"1\" class=\"dataframe\">\n",
       "  <thead>\n",
       "    <tr style=\"text-align: right;\">\n",
       "      <th></th>\n",
       "      <th>user_id</th>\n",
       "      <th>date</th>\n",
       "    </tr>\n",
       "  </thead>\n",
       "  <tbody>\n",
       "    <tr>\n",
       "      <th>0</th>\n",
       "      <td>8038</td>\n",
       "      <td>2022-04-26</td>\n",
       "    </tr>\n",
       "    <tr>\n",
       "      <th>1</th>\n",
       "      <td>11591</td>\n",
       "      <td>2022-04-26</td>\n",
       "    </tr>\n",
       "    <tr>\n",
       "      <th>2</th>\n",
       "      <td>116065</td>\n",
       "      <td>2022-04-26</td>\n",
       "    </tr>\n",
       "    <tr>\n",
       "      <th>3</th>\n",
       "      <td>10361</td>\n",
       "      <td>2022-04-26</td>\n",
       "    </tr>\n",
       "    <tr>\n",
       "      <th>4</th>\n",
       "      <td>11736</td>\n",
       "      <td>2022-04-26</td>\n",
       "    </tr>\n",
       "  </tbody>\n",
       "</table>\n",
       "</div>"
      ],
      "text/plain": [
       "   user_id       date\n",
       "0     8038 2022-04-26\n",
       "1    11591 2022-04-26\n",
       "2   116065 2022-04-26\n",
       "3    10361 2022-04-26\n",
       "4    11736 2022-04-26"
      ]
     },
     "execution_count": 19,
     "metadata": {},
     "output_type": "execute_result"
    }
   ],
   "source": [
    "message_data.head()"
   ]
  },
  {
   "cell_type": "markdown",
   "id": "37d37552-1156-4efb-b55b-c884c1a926cc",
   "metadata": {
    "tags": []
   },
   "source": [
    "### Графики"
   ]
  },
  {
   "cell_type": "code",
   "execution_count": 31,
   "id": "e8f2c449-9b85-4566-bc30-7bd8086527fe",
   "metadata": {},
   "outputs": [
    {
     "data": {
      "text/html": [
       "<div>\n",
       "<style scoped>\n",
       "    .dataframe tbody tr th:only-of-type {\n",
       "        vertical-align: middle;\n",
       "    }\n",
       "\n",
       "    .dataframe tbody tr th {\n",
       "        vertical-align: top;\n",
       "    }\n",
       "\n",
       "    .dataframe thead th {\n",
       "        text-align: right;\n",
       "    }\n",
       "</style>\n",
       "<table border=\"1\" class=\"dataframe\">\n",
       "  <thead>\n",
       "    <tr style=\"text-align: right;\">\n",
       "      <th></th>\n",
       "      <th>date</th>\n",
       "      <th>user_id</th>\n",
       "    </tr>\n",
       "  </thead>\n",
       "  <tbody>\n",
       "    <tr>\n",
       "      <th>0</th>\n",
       "      <td>2022-04-26</td>\n",
       "      <td>14073</td>\n",
       "    </tr>\n",
       "    <tr>\n",
       "      <th>1</th>\n",
       "      <td>2022-04-27</td>\n",
       "      <td>18248</td>\n",
       "    </tr>\n",
       "    <tr>\n",
       "      <th>2</th>\n",
       "      <td>2022-04-28</td>\n",
       "      <td>18666</td>\n",
       "    </tr>\n",
       "    <tr>\n",
       "      <th>3</th>\n",
       "      <td>2022-04-29</td>\n",
       "      <td>18608</td>\n",
       "    </tr>\n",
       "    <tr>\n",
       "      <th>4</th>\n",
       "      <td>2022-04-30</td>\n",
       "      <td>19129</td>\n",
       "    </tr>\n",
       "    <tr>\n",
       "      <th>5</th>\n",
       "      <td>2022-05-01</td>\n",
       "      <td>18613</td>\n",
       "    </tr>\n",
       "    <tr>\n",
       "      <th>6</th>\n",
       "      <td>2022-05-02</td>\n",
       "      <td>18572</td>\n",
       "    </tr>\n",
       "  </tbody>\n",
       "</table>\n",
       "</div>"
      ],
      "text/plain": [
       "        date  user_id\n",
       "0 2022-04-26    14073\n",
       "1 2022-04-27    18248\n",
       "2 2022-04-28    18666\n",
       "3 2022-04-29    18608\n",
       "4 2022-04-30    19129\n",
       "5 2022-05-01    18613\n",
       "6 2022-05-02    18572"
      ]
     },
     "execution_count": 31,
     "metadata": {},
     "output_type": "execute_result"
    }
   ],
   "source": [
    "feed_agg_data = feed_data.groupby(\"date\").agg({\"user_id\": \"count\"}).reset_index()\n",
    "feed_agg_data"
   ]
  },
  {
   "cell_type": "code",
   "execution_count": 28,
   "id": "652b18a2-92ed-49f3-a934-aeff28870855",
   "metadata": {},
   "outputs": [
    {
     "data": {
      "text/html": [
       "<div>\n",
       "<style scoped>\n",
       "    .dataframe tbody tr th:only-of-type {\n",
       "        vertical-align: middle;\n",
       "    }\n",
       "\n",
       "    .dataframe tbody tr th {\n",
       "        vertical-align: top;\n",
       "    }\n",
       "\n",
       "    .dataframe thead th {\n",
       "        text-align: right;\n",
       "    }\n",
       "</style>\n",
       "<table border=\"1\" class=\"dataframe\">\n",
       "  <thead>\n",
       "    <tr style=\"text-align: right;\">\n",
       "      <th></th>\n",
       "      <th>date</th>\n",
       "      <th>user_id</th>\n",
       "    </tr>\n",
       "  </thead>\n",
       "  <tbody>\n",
       "    <tr>\n",
       "      <th>0</th>\n",
       "      <td>2022-04-26</td>\n",
       "      <td>1566</td>\n",
       "    </tr>\n",
       "    <tr>\n",
       "      <th>1</th>\n",
       "      <td>2022-04-27</td>\n",
       "      <td>1498</td>\n",
       "    </tr>\n",
       "    <tr>\n",
       "      <th>2</th>\n",
       "      <td>2022-04-28</td>\n",
       "      <td>2242</td>\n",
       "    </tr>\n",
       "    <tr>\n",
       "      <th>3</th>\n",
       "      <td>2022-04-29</td>\n",
       "      <td>1575</td>\n",
       "    </tr>\n",
       "    <tr>\n",
       "      <th>4</th>\n",
       "      <td>2022-04-30</td>\n",
       "      <td>1569</td>\n",
       "    </tr>\n",
       "    <tr>\n",
       "      <th>5</th>\n",
       "      <td>2022-05-01</td>\n",
       "      <td>2373</td>\n",
       "    </tr>\n",
       "    <tr>\n",
       "      <th>6</th>\n",
       "      <td>2022-05-02</td>\n",
       "      <td>1681</td>\n",
       "    </tr>\n",
       "  </tbody>\n",
       "</table>\n",
       "</div>"
      ],
      "text/plain": [
       "        date  user_id\n",
       "0 2022-04-26     1566\n",
       "1 2022-04-27     1498\n",
       "2 2022-04-28     2242\n",
       "3 2022-04-29     1575\n",
       "4 2022-04-30     1569\n",
       "5 2022-05-01     2373\n",
       "6 2022-05-02     1681"
      ]
     },
     "execution_count": 28,
     "metadata": {},
     "output_type": "execute_result"
    }
   ],
   "source": [
    "msg_agg_data = message_data.groupby(\"date\").agg({\"user_id\": \"count\"}).reset_index()\n",
    "msg_agg_data"
   ]
  },
  {
   "cell_type": "code",
   "execution_count": 60,
   "id": "3c89f633-77b7-4353-8aa8-39cf022c9785",
   "metadata": {},
   "outputs": [
    {
     "data": {
      "text/html": [
       "<div>\n",
       "<style scoped>\n",
       "    .dataframe tbody tr th:only-of-type {\n",
       "        vertical-align: middle;\n",
       "    }\n",
       "\n",
       "    .dataframe tbody tr th {\n",
       "        vertical-align: top;\n",
       "    }\n",
       "\n",
       "    .dataframe thead th {\n",
       "        text-align: right;\n",
       "    }\n",
       "</style>\n",
       "<table border=\"1\" class=\"dataframe\">\n",
       "  <thead>\n",
       "    <tr style=\"text-align: right;\">\n",
       "      <th></th>\n",
       "      <th>date</th>\n",
       "      <th>user_id_feed</th>\n",
       "      <th>user_id_msg</th>\n",
       "    </tr>\n",
       "  </thead>\n",
       "  <tbody>\n",
       "    <tr>\n",
       "      <th>0</th>\n",
       "      <td>2022-04-26</td>\n",
       "      <td>14073</td>\n",
       "      <td>1566</td>\n",
       "    </tr>\n",
       "    <tr>\n",
       "      <th>1</th>\n",
       "      <td>2022-04-27</td>\n",
       "      <td>18248</td>\n",
       "      <td>1498</td>\n",
       "    </tr>\n",
       "    <tr>\n",
       "      <th>2</th>\n",
       "      <td>2022-04-28</td>\n",
       "      <td>18666</td>\n",
       "      <td>2242</td>\n",
       "    </tr>\n",
       "    <tr>\n",
       "      <th>3</th>\n",
       "      <td>2022-04-29</td>\n",
       "      <td>18608</td>\n",
       "      <td>1575</td>\n",
       "    </tr>\n",
       "    <tr>\n",
       "      <th>4</th>\n",
       "      <td>2022-04-30</td>\n",
       "      <td>19129</td>\n",
       "      <td>1569</td>\n",
       "    </tr>\n",
       "    <tr>\n",
       "      <th>5</th>\n",
       "      <td>2022-05-01</td>\n",
       "      <td>18613</td>\n",
       "      <td>2373</td>\n",
       "    </tr>\n",
       "    <tr>\n",
       "      <th>6</th>\n",
       "      <td>2022-05-02</td>\n",
       "      <td>18572</td>\n",
       "      <td>1681</td>\n",
       "    </tr>\n",
       "  </tbody>\n",
       "</table>\n",
       "</div>"
      ],
      "text/plain": [
       "        date  user_id_feed  user_id_msg\n",
       "0 2022-04-26         14073         1566\n",
       "1 2022-04-27         18248         1498\n",
       "2 2022-04-28         18666         2242\n",
       "3 2022-04-29         18608         1575\n",
       "4 2022-04-30         19129         1569\n",
       "5 2022-05-01         18613         2373\n",
       "6 2022-05-02         18572         1681"
      ]
     },
     "execution_count": 60,
     "metadata": {},
     "output_type": "execute_result"
    }
   ],
   "source": [
    "feed_and_msg_agg_data = feed_agg_data.merge(msg_agg_data, on='date', suffixes=['_feed', '_msg'])\n",
    "feed_and_msg_agg_data"
   ]
  },
  {
   "cell_type": "code",
   "execution_count": 62,
   "id": "c9d7b39a-4c54-40a9-8356-0294e616d752",
   "metadata": {},
   "outputs": [],
   "source": [
    "feed_and_msg_agg_data['part_of_msg_users'] = feed_and_msg_agg_data['user_id_msg'] / feed_and_msg_agg_data['user_id_feed']"
   ]
  },
  {
   "cell_type": "code",
   "execution_count": 74,
   "id": "83386642-b328-4c04-9e2c-f7ea2d1f9758",
   "metadata": {},
   "outputs": [],
   "source": [
    "report_date_begin = (pd.Timestamp('now') - pd.DateOffset(days=7)).date()\n",
    "report_date_end = (pd.Timestamp('now') - pd.DateOffset(days=1)).date()"
   ]
  },
  {
   "cell_type": "code",
   "execution_count": 26,
   "id": "e9dc53c2-0bfd-4c5f-8fa2-1e545a75083b",
   "metadata": {},
   "outputs": [],
   "source": [
    "annotation_xytext = (0, 0) # distance from text to points (x, y)\n",
    "annotatin_ha = 'center' # horizontal alignment can be left, right or center\n",
    "annotation_font_size = 9\n",
    "annotation_bbox = dict(boxstyle=\"round\", fc=\"w\", alpha=0.5)"
   ]
  },
  {
   "cell_type": "code",
   "execution_count": 66,
   "id": "0aebdb66-abe6-4a26-b64c-b52ba6c5f109",
   "metadata": {},
   "outputs": [
    {
     "data": {
      "text/plain": [
       "<telegram.message.Message at 0x7f06deba4440>"
      ]
     },
     "execution_count": 66,
     "metadata": {},
     "output_type": "execute_result"
    }
   ],
   "source": [
    "fig, axes = plt.subplots(3, 1, figsize=(8, 11), dpi=200)\n",
    "fig.suptitle(f\"Report on {report_date_begin} – {report_date_end}\", fontsize=15)\n",
    "fig.subplots_adjust(hspace=0.3)\n",
    "\n",
    "############### Активные пользователи в ленте ###############\n",
    "sns.lineplot(\n",
    "    ax=axes[0],\n",
    "    data=feed_agg_data, \n",
    "    x='date', \n",
    "    y='user_id', \n",
    "    )\n",
    "\n",
    "axes[0].set(xlabel=None)\n",
    "axes[0].set(ylabel='Количество пользователей')\n",
    "\n",
    "\n",
    "for x, y in zip(feed_agg_data[\"date\"], feed_agg_data[\"user_id\"]):\n",
    "    label = f\"{y:,}\"\n",
    "    axes[0].annotate(\n",
    "        label, # this is the text\n",
    "        (x, y), # these are the coordinates to position the label\n",
    "        size=annotation_font_size,\n",
    "        textcoords=\"offset points\", # how to position the text\n",
    "        xytext=annotation_xytext, # distance from text to points (x, y)\n",
    "        ha=annotatin_ha, # horizontal alignment can be left, right or center\n",
    "        bbox=annotation_bbox,\n",
    "    ) \n",
    "\n",
    "axes[0].set_title(\"Активные пользователи в мессенджере\")\n",
    "axes[0].set(ylim=(None, feed_agg_data['user_id'].max() * 1.03))\n",
    "\n",
    "\n",
    "############### Активные пользователи в сообщениях ###############\n",
    "sns.lineplot(\n",
    "    ax=axes[1],\n",
    "    data=msg_agg_data, \n",
    "    x='date', \n",
    "    y='user_id', \n",
    "    )\n",
    "\n",
    "axes[1].set(xlabel=None)\n",
    "axes[1].set(ylabel='Количество пользователей')\n",
    "\n",
    "\n",
    "for x, y in zip(msg_agg_data[\"date\"], msg_agg_data[\"user_id\"]):\n",
    "    label = f\"{y:,}\"\n",
    "    axes[1].annotate(\n",
    "        label, # this is the text\n",
    "        (x, y), # these are the coordinates to position the label\n",
    "        size=annotation_font_size,\n",
    "        textcoords=\"offset points\", # how to position the text\n",
    "        xytext=annotation_xytext, # distance from text to points (x, y)\n",
    "        ha=annotatin_ha, # horizontal alignment can be left, right or center\n",
    "        bbox=annotation_bbox,\n",
    "    ) \n",
    "\n",
    "axes[1].set_title(\"Активные пользователи в ленте\")\n",
    "axes[1].set(ylim=(None, msg_agg_data['user_id'].max() * 1.03))\n",
    "\n",
    "\n",
    "############### Доля пользователей сообщений от пользователей ленты ###############\n",
    "sns.lineplot(\n",
    "    ax=axes[2],\n",
    "    data=feed_and_msg_agg_data, \n",
    "    x='date', \n",
    "    y='part_of_msg_users', \n",
    "    )\n",
    "\n",
    "axes[2].set(xlabel=None)\n",
    "axes[2].set(ylabel='Доля пользователей')\n",
    "\n",
    "\n",
    "for x, y in zip(feed_and_msg_agg_data[\"date\"], feed_and_msg_agg_data[\"part_of_msg_users\"]):\n",
    "    label = f\"{y:.2}\"\n",
    "    axes[2].annotate(\n",
    "        label, # this is the text\n",
    "        (x, y), # these are the coordinates to position the label\n",
    "        size=annotation_font_size,\n",
    "        textcoords=\"offset points\", # how to position the text\n",
    "        xytext=annotation_xytext, # distance from text to points (x, y)\n",
    "        ha=annotatin_ha, # horizontal alignment can be left, right or center\n",
    "        bbox=annotation_bbox,\n",
    "    ) \n",
    "\n",
    "axes[2].set_title(\"Активные пользователи в ленте\")\n",
    "axes[2].set(ylim=(None, feed_and_msg_agg_data['part_of_msg_users'].max() * 1.03))\n",
    "\n",
    "\n",
    "# Sending picture\n",
    "plot_object = io.BytesIO()\n",
    "plt.savefig(plot_object)\n",
    "plot_object.name = 'test_plot.png'\n",
    "plot_object.seek(0)\n",
    "plt.close()\n",
    "\n",
    "bot.send_photo(chat_id=chat_id, photo=plot_object)"
   ]
  },
  {
   "cell_type": "code",
   "execution_count": null,
   "id": "c45e97f8-e199-4dc1-a37e-ba8c20a6aab2",
   "metadata": {},
   "outputs": [],
   "source": []
  },
  {
   "cell_type": "markdown",
   "id": "55d7859e-8bed-4ec7-bde2-6e7a7d0627c0",
   "metadata": {},
   "source": [
    "### Данные за последний день"
   ]
  },
  {
   "cell_type": "code",
   "execution_count": 67,
   "id": "0108cc7f-0afc-4899-a42a-cd883c4af79f",
   "metadata": {},
   "outputs": [],
   "source": [
    "last_date = feed_data['date'].max()\n",
    "\n",
    "feed_last_day = feed_data[feed_data['date'] == last_date]"
   ]
  },
  {
   "cell_type": "code",
   "execution_count": 71,
   "id": "bdef27e1-d555-410a-8824-384f208ba345",
   "metadata": {},
   "outputs": [
    {
     "data": {
      "text/html": [
       "<div>\n",
       "<style scoped>\n",
       "    .dataframe tbody tr th:only-of-type {\n",
       "        vertical-align: middle;\n",
       "    }\n",
       "\n",
       "    .dataframe tbody tr th {\n",
       "        vertical-align: top;\n",
       "    }\n",
       "\n",
       "    .dataframe thead th {\n",
       "        text-align: right;\n",
       "    }\n",
       "</style>\n",
       "<table border=\"1\" class=\"dataframe\">\n",
       "  <thead>\n",
       "    <tr style=\"text-align: right;\">\n",
       "      <th></th>\n",
       "      <th>user_id</th>\n",
       "      <th>date</th>\n",
       "    </tr>\n",
       "  </thead>\n",
       "  <tbody>\n",
       "    <tr>\n",
       "      <th>101704</th>\n",
       "      <td>14224</td>\n",
       "      <td>2022-05-02</td>\n",
       "    </tr>\n",
       "    <tr>\n",
       "      <th>101705</th>\n",
       "      <td>54120</td>\n",
       "      <td>2022-05-02</td>\n",
       "    </tr>\n",
       "    <tr>\n",
       "      <th>101706</th>\n",
       "      <td>58034</td>\n",
       "      <td>2022-05-02</td>\n",
       "    </tr>\n",
       "    <tr>\n",
       "      <th>101707</th>\n",
       "      <td>58118</td>\n",
       "      <td>2022-05-02</td>\n",
       "    </tr>\n",
       "    <tr>\n",
       "      <th>101708</th>\n",
       "      <td>141283</td>\n",
       "      <td>2022-05-02</td>\n",
       "    </tr>\n",
       "    <tr>\n",
       "      <th>...</th>\n",
       "      <td>...</td>\n",
       "      <td>...</td>\n",
       "    </tr>\n",
       "    <tr>\n",
       "      <th>124966</th>\n",
       "      <td>58923</td>\n",
       "      <td>2022-05-02</td>\n",
       "    </tr>\n",
       "    <tr>\n",
       "      <th>124967</th>\n",
       "      <td>110063</td>\n",
       "      <td>2022-05-02</td>\n",
       "    </tr>\n",
       "    <tr>\n",
       "      <th>124968</th>\n",
       "      <td>131904</td>\n",
       "      <td>2022-05-02</td>\n",
       "    </tr>\n",
       "    <tr>\n",
       "      <th>124969</th>\n",
       "      <td>157390</td>\n",
       "      <td>2022-05-02</td>\n",
       "    </tr>\n",
       "    <tr>\n",
       "      <th>124970</th>\n",
       "      <td>56737</td>\n",
       "      <td>2022-05-02</td>\n",
       "    </tr>\n",
       "  </tbody>\n",
       "</table>\n",
       "<p>18572 rows × 2 columns</p>\n",
       "</div>"
      ],
      "text/plain": [
       "        user_id       date\n",
       "101704    14224 2022-05-02\n",
       "101705    54120 2022-05-02\n",
       "101706    58034 2022-05-02\n",
       "101707    58118 2022-05-02\n",
       "101708   141283 2022-05-02\n",
       "...         ...        ...\n",
       "124966    58923 2022-05-02\n",
       "124967   110063 2022-05-02\n",
       "124968   131904 2022-05-02\n",
       "124969   157390 2022-05-02\n",
       "124970    56737 2022-05-02\n",
       "\n",
       "[18572 rows x 2 columns]"
      ]
     },
     "execution_count": 71,
     "metadata": {},
     "output_type": "execute_result"
    }
   ],
   "source": [
    "feed_last_day"
   ]
  },
  {
   "cell_type": "code",
   "execution_count": 72,
   "id": "f55f4caf-62a2-46be-945f-bf01486b8db6",
   "metadata": {},
   "outputs": [],
   "source": [
    "msg_last_day = message_data[message_data['date'] == last_date]"
   ]
  },
  {
   "cell_type": "code",
   "execution_count": 73,
   "id": "8bf49a55-e711-4215-883f-b4213524ab78",
   "metadata": {},
   "outputs": [
    {
     "data": {
      "text/html": [
       "<div>\n",
       "<style scoped>\n",
       "    .dataframe tbody tr th:only-of-type {\n",
       "        vertical-align: middle;\n",
       "    }\n",
       "\n",
       "    .dataframe tbody tr th {\n",
       "        vertical-align: top;\n",
       "    }\n",
       "\n",
       "    .dataframe thead th {\n",
       "        text-align: right;\n",
       "    }\n",
       "</style>\n",
       "<table border=\"1\" class=\"dataframe\">\n",
       "  <thead>\n",
       "    <tr style=\"text-align: right;\">\n",
       "      <th></th>\n",
       "      <th>user_id</th>\n",
       "      <th>date</th>\n",
       "    </tr>\n",
       "  </thead>\n",
       "  <tbody>\n",
       "    <tr>\n",
       "      <th>10823</th>\n",
       "      <td>8741</td>\n",
       "      <td>2022-05-02</td>\n",
       "    </tr>\n",
       "    <tr>\n",
       "      <th>10824</th>\n",
       "      <td>11236</td>\n",
       "      <td>2022-05-02</td>\n",
       "    </tr>\n",
       "    <tr>\n",
       "      <th>10825</th>\n",
       "      <td>11822</td>\n",
       "      <td>2022-05-02</td>\n",
       "    </tr>\n",
       "    <tr>\n",
       "      <th>10826</th>\n",
       "      <td>116358</td>\n",
       "      <td>2022-05-02</td>\n",
       "    </tr>\n",
       "    <tr>\n",
       "      <th>10827</th>\n",
       "      <td>8256</td>\n",
       "      <td>2022-05-02</td>\n",
       "    </tr>\n",
       "    <tr>\n",
       "      <th>...</th>\n",
       "      <td>...</td>\n",
       "      <td>...</td>\n",
       "    </tr>\n",
       "    <tr>\n",
       "      <th>12499</th>\n",
       "      <td>122459</td>\n",
       "      <td>2022-05-02</td>\n",
       "    </tr>\n",
       "    <tr>\n",
       "      <th>12500</th>\n",
       "      <td>2601</td>\n",
       "      <td>2022-05-02</td>\n",
       "    </tr>\n",
       "    <tr>\n",
       "      <th>12501</th>\n",
       "      <td>11968</td>\n",
       "      <td>2022-05-02</td>\n",
       "    </tr>\n",
       "    <tr>\n",
       "      <th>12502</th>\n",
       "      <td>122575</td>\n",
       "      <td>2022-05-02</td>\n",
       "    </tr>\n",
       "    <tr>\n",
       "      <th>12503</th>\n",
       "      <td>118639</td>\n",
       "      <td>2022-05-02</td>\n",
       "    </tr>\n",
       "  </tbody>\n",
       "</table>\n",
       "<p>1681 rows × 2 columns</p>\n",
       "</div>"
      ],
      "text/plain": [
       "       user_id       date\n",
       "10823     8741 2022-05-02\n",
       "10824    11236 2022-05-02\n",
       "10825    11822 2022-05-02\n",
       "10826   116358 2022-05-02\n",
       "10827     8256 2022-05-02\n",
       "...        ...        ...\n",
       "12499   122459 2022-05-02\n",
       "12500     2601 2022-05-02\n",
       "12501    11968 2022-05-02\n",
       "12502   122575 2022-05-02\n",
       "12503   118639 2022-05-02\n",
       "\n",
       "[1681 rows x 2 columns]"
      ]
     },
     "execution_count": 73,
     "metadata": {},
     "output_type": "execute_result"
    }
   ],
   "source": [
    "msg_last_day"
   ]
  },
  {
   "cell_type": "code",
   "execution_count": 85,
   "id": "5e0bcfef-e657-45d4-afa8-b7253083aab1",
   "metadata": {},
   "outputs": [],
   "source": [
    "text_message = f\"\"\"Отчет по Ленте и Сообщениям за {last_date.date()}\\n\n",
    "`Пользователи ленты             {feed_last_day['user_id'].nunique():,}\n",
    "Пользователи сообщений         {msg_last_day['user_id'].nunique():,}\n",
    "Использовали только ленту      {feed_last_day[~feed_last_day['user_id'].isin(msg_last_day['user_id'])]['user_id'].nunique():,}\n",
    "Использовали только сообщения  {msg_last_day[~msg_last_day['user_id'].isin(feed_last_day['user_id'])]['user_id'].nunique():,}`\n",
    "\"\"\""
   ]
  },
  {
   "cell_type": "code",
   "execution_count": 86,
   "id": "c13e19d2-9d10-4b52-be73-9b37644420b9",
   "metadata": {},
   "outputs": [
    {
     "data": {
      "text/plain": [
       "'Отчет по Ленте и Сообщениям за 2022-05-02\\n\\n`Пользователи ленты             18,572\\nПользователи сообщений         1,681\\nИспользовали только ленту      18,398\\nИспользовали только сообщения  1,507`\\n'"
      ]
     },
     "execution_count": 86,
     "metadata": {},
     "output_type": "execute_result"
    }
   ],
   "source": [
    "text_message"
   ]
  },
  {
   "cell_type": "code",
   "execution_count": 82,
   "id": "961716c0-08b4-46fd-b0c5-4258d39ae099",
   "metadata": {},
   "outputs": [
    {
     "data": {
      "text/plain": [
       "<telegram.message.Message at 0x7f06ddf2aa40>"
      ]
     },
     "execution_count": 82,
     "metadata": {},
     "output_type": "execute_result"
    }
   ],
   "source": [
    "bot.send_message(chat_id=chat_id, text=text_message, parse_mode='markdown')"
   ]
  },
  {
   "cell_type": "code",
   "execution_count": null,
   "id": "d9ddfa08-d985-4222-9a37-aa4b38c546a3",
   "metadata": {},
   "outputs": [],
   "source": []
  }
 ],
 "metadata": {
  "kernelspec": {
   "display_name": "Python 3",
   "language": "python",
   "name": "python3"
  },
  "language_info": {
   "codemirror_mode": {
    "name": "ipython",
    "version": 3
   },
   "file_extension": ".py",
   "mimetype": "text/x-python",
   "name": "python",
   "nbconvert_exporter": "python",
   "pygments_lexer": "ipython3",
   "version": "3.8.8"
  }
 },
 "nbformat": 4,
 "nbformat_minor": 5
}
