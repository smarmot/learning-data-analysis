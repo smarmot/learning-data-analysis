{
 "cells": [
  {
   "cell_type": "markdown",
   "id": "8f1b199c-0473-405d-91c2-ecd99e9b5ce8",
   "metadata": {},
   "source": [
    "# Задание 1\n",
    "У нас есть данные АА-теста с '2022-03-28' по '2022-04-03'. Вам нужно сделать симуляцию, как будто мы провели 10000 АА-тестов. На каждой итерации вам нужно сформировать подвыборки с повторением в 500 юзеров из 2 и 3 экспериментальной группы. Провести сравнение этих подвыборок t-testом.\n",
    "\n",
    "1. Построить гистограмму распределения получившихся 10000 p-values.\n",
    "\n",
    "2. Посчитать, какой процент p values оказался меньше либо равен 0.05\n",
    "\n",
    "3. Написать вывод по проведенному АА-тесту, корректно ли работает наша система сплитования.\n",
    "\n",
    "4. Пришлите ссылку на merge request c проведенным анализом."
   ]
  },
  {
   "cell_type": "code",
   "execution_count": 1,
   "id": "c561a5da-65e2-4e9b-a072-f4799a2ac9b2",
   "metadata": {},
   "outputs": [],
   "source": [
    "import pandas as pd\n",
    "import seaborn as sns\n",
    "import matplotlib.pyplot as plt\n",
    "import numpy as np\n",
    "import hashlib\n",
    "from scipy import stats\n",
    "from tqdm import tqdm\n",
    "\n",
    "from read_db.CH import Getch\n",
    "\n",
    "%matplotlib inline"
   ]
  },
  {
   "cell_type": "code",
   "execution_count": 2,
   "id": "22b961bf-b9e4-48a0-a6e7-7bef1f14cd51",
   "metadata": {},
   "outputs": [],
   "source": [
    "sns.set(rc={'figure.figsize': (11.7, 8.27)})"
   ]
  },
  {
   "cell_type": "markdown",
   "id": "bca563ea-0124-4db3-8701-ab12b02ec920",
   "metadata": {},
   "source": [
    "Условия:\n",
    "- **Тест**: АА\n",
    "- **Метрика**: CTR\n",
    "- **Даты**: '2022-03-28' по '2022-04-03'\n",
    "- **Группы**: 2 и 3\n",
    "- **$\\alpha$**: 0.05"
   ]
  },
  {
   "cell_type": "markdown",
   "id": "fe61dbca-c9ed-451f-93ee-c31b48b78ccc",
   "metadata": {},
   "source": [
    "## Посмотрим на данные"
   ]
  },
  {
   "cell_type": "code",
   "execution_count": 3,
   "id": "f21d807c-7017-47c3-b4fc-a2bf5bf06d1b",
   "metadata": {},
   "outputs": [],
   "source": [
    "aa_test_query = \"\"\"\n",
    "    SELECT exp_group, \n",
    "        user_id,\n",
    "        sum(action = 'like') as likes,\n",
    "        sum(action = 'view') as views,\n",
    "        likes / views as ctr\n",
    "    FROM simulator_20220420.feed_actions \n",
    "    WHERE toDate(time) between '2022-03-28' and '2022-04-03'\n",
    "        and exp_group in (2, 3)\n",
    "    GROUP BY exp_group, user_id\n",
    "\"\"\""
   ]
  },
  {
   "cell_type": "code",
   "execution_count": 4,
   "id": "6c4167a2-335d-4262-a4dd-ffa631359454",
   "metadata": {},
   "outputs": [],
   "source": [
    "aa_test_data = Getch(aa_test_query).df"
   ]
  },
  {
   "cell_type": "code",
   "execution_count": 5,
   "id": "11321c8d-b579-454e-ae28-209066f8160e",
   "metadata": {},
   "outputs": [
    {
     "data": {
      "text/html": [
       "<div>\n",
       "<style scoped>\n",
       "    .dataframe tbody tr th:only-of-type {\n",
       "        vertical-align: middle;\n",
       "    }\n",
       "\n",
       "    .dataframe tbody tr th {\n",
       "        vertical-align: top;\n",
       "    }\n",
       "\n",
       "    .dataframe thead th {\n",
       "        text-align: right;\n",
       "    }\n",
       "</style>\n",
       "<table border=\"1\" class=\"dataframe\">\n",
       "  <thead>\n",
       "    <tr style=\"text-align: right;\">\n",
       "      <th></th>\n",
       "      <th>exp_group</th>\n",
       "      <th>user_id</th>\n",
       "      <th>likes</th>\n",
       "      <th>views</th>\n",
       "      <th>ctr</th>\n",
       "    </tr>\n",
       "  </thead>\n",
       "  <tbody>\n",
       "    <tr>\n",
       "      <th>0</th>\n",
       "      <td>3</td>\n",
       "      <td>115383</td>\n",
       "      <td>11</td>\n",
       "      <td>36</td>\n",
       "      <td>0.305556</td>\n",
       "    </tr>\n",
       "    <tr>\n",
       "      <th>1</th>\n",
       "      <td>3</td>\n",
       "      <td>123580</td>\n",
       "      <td>15</td>\n",
       "      <td>92</td>\n",
       "      <td>0.163043</td>\n",
       "    </tr>\n",
       "    <tr>\n",
       "      <th>2</th>\n",
       "      <td>2</td>\n",
       "      <td>131473</td>\n",
       "      <td>26</td>\n",
       "      <td>148</td>\n",
       "      <td>0.175676</td>\n",
       "    </tr>\n",
       "    <tr>\n",
       "      <th>3</th>\n",
       "      <td>2</td>\n",
       "      <td>23985</td>\n",
       "      <td>12</td>\n",
       "      <td>66</td>\n",
       "      <td>0.181818</td>\n",
       "    </tr>\n",
       "    <tr>\n",
       "      <th>4</th>\n",
       "      <td>2</td>\n",
       "      <td>24523</td>\n",
       "      <td>17</td>\n",
       "      <td>120</td>\n",
       "      <td>0.141667</td>\n",
       "    </tr>\n",
       "  </tbody>\n",
       "</table>\n",
       "</div>"
      ],
      "text/plain": [
       "   exp_group  user_id  likes  views       ctr\n",
       "0          3   115383     11     36  0.305556\n",
       "1          3   123580     15     92  0.163043\n",
       "2          2   131473     26    148  0.175676\n",
       "3          2    23985     12     66  0.181818\n",
       "4          2    24523     17    120  0.141667"
      ]
     },
     "execution_count": 5,
     "metadata": {},
     "output_type": "execute_result"
    }
   ],
   "source": [
    "aa_test_data.head()"
   ]
  },
  {
   "cell_type": "code",
   "execution_count": 6,
   "id": "246ccecf-df19-4b4d-b5db-6ec597b96172",
   "metadata": {},
   "outputs": [
    {
     "data": {
      "text/html": [
       "<div>\n",
       "<style scoped>\n",
       "    .dataframe tbody tr th:only-of-type {\n",
       "        vertical-align: middle;\n",
       "    }\n",
       "\n",
       "    .dataframe tbody tr th {\n",
       "        vertical-align: top;\n",
       "    }\n",
       "\n",
       "    .dataframe thead th {\n",
       "        text-align: right;\n",
       "    }\n",
       "</style>\n",
       "<table border=\"1\" class=\"dataframe\">\n",
       "  <thead>\n",
       "    <tr style=\"text-align: right;\">\n",
       "      <th></th>\n",
       "      <th>user_id</th>\n",
       "    </tr>\n",
       "    <tr>\n",
       "      <th>exp_group</th>\n",
       "      <th></th>\n",
       "    </tr>\n",
       "  </thead>\n",
       "  <tbody>\n",
       "    <tr>\n",
       "      <th>2</th>\n",
       "      <td>8480</td>\n",
       "    </tr>\n",
       "    <tr>\n",
       "      <th>3</th>\n",
       "      <td>8569</td>\n",
       "    </tr>\n",
       "  </tbody>\n",
       "</table>\n",
       "</div>"
      ],
      "text/plain": [
       "           user_id\n",
       "exp_group         \n",
       "2             8480\n",
       "3             8569"
      ]
     },
     "execution_count": 6,
     "metadata": {},
     "output_type": "execute_result"
    }
   ],
   "source": [
    "# Размеры выборок\n",
    "aa_test_data.groupby('exp_group').count()[['user_id']]"
   ]
  },
  {
   "cell_type": "markdown",
   "id": "384e8161-6c2c-4784-b578-586c7cf24da7",
   "metadata": {},
   "source": [
    "В группах +- одинаковое количество юзеров"
   ]
  },
  {
   "cell_type": "code",
   "execution_count": 7,
   "id": "b9acff8c-30be-42e8-8ce7-cde5ed5d7763",
   "metadata": {},
   "outputs": [
    {
     "data": {
      "image/png": "[encoded data removed]",
      "text/plain": [
       "<Figure size 842.4x595.44 with 1 Axes>"
      ]
     },
     "metadata": {},
     "output_type": "display_data"
    }
   ],
   "source": [
    "# Посмотрим глазами на группы\n",
    "groups = sns.histplot(\n",
    "    data=aa_test_data, \n",
    "    x='ctr', \n",
    "    hue='exp_group', \n",
    "    palette=['r', 'b'],\n",
    "    alpha=0.5,\n",
    "    kde=False\n",
    ")"
   ]
  },
  {
   "cell_type": "markdown",
   "id": "35d87ca3-28f8-4b0d-8b8b-bf59f34793a2",
   "metadata": {},
   "source": [
    "Распределения выглядят похожими"
   ]
  },
  {
   "cell_type": "markdown",
   "id": "621c904c-1f0b-4790-90c2-d6625259a551",
   "metadata": {},
   "source": [
    "## Проведем симуляцию"
   ]
  },
  {
   "cell_type": "code",
   "execution_count": 8,
   "id": "e0f0c68c-ca62-4014-b90b-853d45d369b1",
   "metadata": {},
   "outputs": [],
   "source": [
    "def aa_test_simulation(\n",
    "    group1: pd.Series, \n",
    "    group2: pd.Series, \n",
    "    sample_length: int = 500,\n",
    "    n_bootstrap: int = 10000\n",
    "):\n",
    "    p_values = []\n",
    "    \n",
    "    for _ in tqdm(range(n_bootstrap)):\n",
    "        group_1_sample = group1.sample(sample_length, replace=True)\n",
    "        group_2_sample = group2.sample(sample_length, replace=True)\n",
    "        \n",
    "        _, p_val = stats.ttest_ind(group_1_sample, group_2_sample, equal_var=False)\n",
    "        p_values.append(p_val)\n",
    "    \n",
    "    return p_values  "
   ]
  },
  {
   "cell_type": "code",
   "execution_count": 9,
   "id": "9d6f3a26-afd8-4d9b-a010-54927d252bc9",
   "metadata": {},
   "outputs": [
    {
     "name": "stderr",
     "output_type": "stream",
     "text": [
      "100%|██████████| 10000/10000 [00:12<00:00, 818.24it/s]\n"
     ]
    }
   ],
   "source": [
    "p_values = aa_test_simulation(\n",
    "    aa_test_data[aa_test_data['exp_group'] == 2]['ctr'],\n",
    "    aa_test_data[aa_test_data['exp_group'] == 3]['ctr']\n",
    ")"
   ]
  },
  {
   "cell_type": "markdown",
   "id": "6bc5f769-187b-4e83-ae13-b7f21341acc0",
   "metadata": {},
   "source": [
    "## Построим гистограмму распределения получившихся 10000 p-values"
   ]
  },
  {
   "cell_type": "code",
   "execution_count": 10,
   "id": "2e795b82-5a35-4b4d-9b5e-8a1eab924c3f",
   "metadata": {},
   "outputs": [
    {
     "data": {
      "image/png": "[encoded data removed]",
      "text/plain": [
       "<Figure size 842.4x595.44 with 1 Axes>"
      ]
     },
     "metadata": {},
     "output_type": "display_data"
    }
   ],
   "source": [
    "sns.histplot(\n",
    "    x=p_values, \n",
    "    kde=False,\n",
    "    bins=30\n",
    ")\n",
    "plt.title('Гистограмма распределения получившихся 10000 p-values');"
   ]
  },
  {
   "cell_type": "markdown",
   "id": "010381e9-74ed-4e9a-a993-ae76504bcbbe",
   "metadata": {},
   "source": [
    "Распределение выглядит равномерным, что говорит о том, что у нас мало оснований отвергнуть нулевую гипотезу."
   ]
  },
  {
   "cell_type": "markdown",
   "id": "0a9dfa8b-353c-412c-a0bf-ed91c0edb486",
   "metadata": {},
   "source": [
    "## Посчитаем, какой процент p-values оказался меньше либо равен 0.05"
   ]
  },
  {
   "cell_type": "code",
   "execution_count": 11,
   "id": "80bf0973-ed71-4446-977c-8626bd5cea99",
   "metadata": {},
   "outputs": [],
   "source": [
    "alpha = 0.05"
   ]
  },
  {
   "cell_type": "code",
   "execution_count": 12,
   "id": "41cfd816-fea3-4db1-bbcb-4625126c64c1",
   "metadata": {},
   "outputs": [],
   "source": [
    "count_false_positive = sum([p < alpha for p in p_values])"
   ]
  },
  {
   "cell_type": "code",
   "execution_count": 13,
   "id": "8ccb4971-be38-455f-b3a7-8829930856f6",
   "metadata": {},
   "outputs": [
    {
     "data": {
      "text/plain": [
       "5.09"
      ]
     },
     "execution_count": 13,
     "metadata": {},
     "output_type": "execute_result"
    }
   ],
   "source": [
    "count_false_positive / len(p_values) * 100"
   ]
  },
  {
   "cell_type": "markdown",
   "id": "df224ccc-468e-4937-b870-f60b6c9a4e24",
   "metadata": {},
   "source": [
    "Получили значение около 5%, т.е. можно сказать, что ложные срабатывания мы получили случайно."
   ]
  },
  {
   "cell_type": "markdown",
   "id": "32d9506a-6beb-45fe-a034-3c8d570729cc",
   "metadata": {},
   "source": [
    "## Вывод по проведенному АА-тесту"
   ]
  },
  {
   "cell_type": "markdown",
   "id": "f0c752b5-1e89-453f-9739-197fb3a022fd",
   "metadata": {},
   "source": [
    "Можно сделать вывод, что наша система сплитования работает корректно, так как:\n",
    "- Размеры групп примерно одинаковые\n",
    "- Показатели в этих группах не отличаются друг от друга. Это видно и из сравнения распределений показателя в группах, и в результате проведенной симуляции.\n"
   ]
  }
 ],
 "metadata": {
  "kernelspec": {
   "display_name": "Python 3",
   "language": "python",
   "name": "python3"
  },
  "language_info": {
   "codemirror_mode": {
    "name": "ipython",
    "version": 3
   },
   "file_extension": ".py",
   "mimetype": "text/x-python",
   "name": "python",
   "nbconvert_exporter": "python",
   "pygments_lexer": "ipython3",
   "version": "3.8.8"
  }
 },
 "nbformat": 4,
 "nbformat_minor": 5
}
