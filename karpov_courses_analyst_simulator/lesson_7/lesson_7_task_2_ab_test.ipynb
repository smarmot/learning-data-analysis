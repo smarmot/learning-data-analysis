{
 "cells": [
  {
   "cell_type": "markdown",
   "id": "15657d01-e6ef-4659-86cb-e9fc97346063",
   "metadata": {
    "tags": []
   },
   "source": [
    "# Задание 2\n",
    "Эксперимент проходил с 2022-04-04 по 2022-04-10 включительно. Для эксперимента были задействованы 2 и 1 группы. \n",
    "\n",
    "В группе 2 был использован один из новых алгоритмов рекомендации постов, группа 1 использовалась в качестве контроля. \n",
    "\n",
    "Основная гипотеза заключается в том, что новый алгоритм во 2-й группе приведет к увеличению CTR. \n",
    "\n",
    "Ваша задача — проанализировать данные АB-теста. \n",
    "\n",
    "Выбрать метод анализа и сравнить CTR в двух группах (мы разбирали t-тест, Пуассоновский бутстреп, тест Манна-Уитни, t-тест на сглаженном ctr (α=5) а также t-тест и тест Манна-Уитни поверх бакетного преобразования).\n",
    "Сравните данные этими тестами. А еще посмотрите на распределения глазами. Почему тесты сработали так как сработали? \n",
    "Опишите потенциальную ситуацию, когда такое изменение могло произойти. Тут нет идеального ответа, подумайте.\n",
    "Напишите рекомендацию, будем ли мы раскатывать новый алгоритм на всех новых пользователей или все-таки не стоит.\n"
   ]
  },
  {
   "cell_type": "code",
   "execution_count": 1,
   "id": "bdde9210-d382-4805-84c8-acd3f43a0470",
   "metadata": {},
   "outputs": [],
   "source": [
    "import pandas as pd\n",
    "import seaborn as sns\n",
    "import matplotlib.pyplot as plt\n",
    "import numpy as np\n",
    "import hashlib\n",
    "from scipy import stats\n",
    "from tqdm import tqdm\n",
    "\n",
    "from read_db.CH import Getch\n",
    "\n",
    "%matplotlib inline"
   ]
  },
  {
   "cell_type": "code",
   "execution_count": 2,
   "id": "81969329-5584-4049-83a7-b7260af107b2",
   "metadata": {},
   "outputs": [],
   "source": [
    "sns.set(rc={'figure.figsize': (11.7, 8.27)})"
   ]
  },
  {
   "cell_type": "markdown",
   "id": "4c182124-b811-4a63-8ae9-fa61d3826c24",
   "metadata": {},
   "source": [
    "Условия:\n",
    "- **Тест**: АB\n",
    "- **Гипотеза**: Новый алгоритм во 2-й группе приведет к увеличению CTR (но будем использовать двустороннюю альтернативную гипотезу, так мы заранее не знаем, увиличится или уменьшится CTR).\n",
    "- **Метрика**: CTR, сглаженный CTR\n",
    "- **Даты**: '2022-04-04' по '2022-04-10'\n",
    "- **Тестовая группа**: 2\n",
    "- **Контрольная группа**: 1\n",
    "- **$\\alpha$**: 0.05\n"
   ]
  },
  {
   "cell_type": "markdown",
   "id": "38158dc6-eb11-4464-8949-4870ddf2afa3",
   "metadata": {},
   "source": [
    "## Посмотрим на данные"
   ]
  },
  {
   "cell_type": "code",
   "execution_count": 3,
   "id": "d944943a-560a-4aae-8fb2-1c7c3534c140",
   "metadata": {},
   "outputs": [],
   "source": [
    "ab_test_query = \"\"\"\n",
    "    SELECT exp_group, \n",
    "        user_id,\n",
    "        sum(action = 'like') as likes,\n",
    "        sum(action = 'view') as views,\n",
    "        likes / views as ctr\n",
    "    FROM simulator_20220420.feed_actions \n",
    "    WHERE toDate(time) between '2022-04-04' and '2022-04-10'\n",
    "        and exp_group in (1, 2)\n",
    "    GROUP BY exp_group, user_id\n",
    "\"\"\""
   ]
  },
  {
   "cell_type": "code",
   "execution_count": 4,
   "id": "effd54cc-748c-46ff-bf37-7c48ba884fed",
   "metadata": {},
   "outputs": [],
   "source": [
    "ab_test_data = Getch(ab_test_query).df"
   ]
  },
  {
   "cell_type": "code",
   "execution_count": 5,
   "id": "0fd870a9-b70d-4752-9546-b23a8fb04457",
   "metadata": {},
   "outputs": [
    {
     "data": {
      "text/html": [
       "<div>\n",
       "<style scoped>\n",
       "    .dataframe tbody tr th:only-of-type {\n",
       "        vertical-align: middle;\n",
       "    }\n",
       "\n",
       "    .dataframe tbody tr th {\n",
       "        vertical-align: top;\n",
       "    }\n",
       "\n",
       "    .dataframe thead th {\n",
       "        text-align: right;\n",
       "    }\n",
       "</style>\n",
       "<table border=\"1\" class=\"dataframe\">\n",
       "  <thead>\n",
       "    <tr style=\"text-align: right;\">\n",
       "      <th></th>\n",
       "      <th>exp_group</th>\n",
       "      <th>user_id</th>\n",
       "      <th>likes</th>\n",
       "      <th>views</th>\n",
       "      <th>ctr</th>\n",
       "    </tr>\n",
       "  </thead>\n",
       "  <tbody>\n",
       "    <tr>\n",
       "      <th>0</th>\n",
       "      <td>1</td>\n",
       "      <td>109963</td>\n",
       "      <td>3</td>\n",
       "      <td>15</td>\n",
       "      <td>0.200000</td>\n",
       "    </tr>\n",
       "    <tr>\n",
       "      <th>1</th>\n",
       "      <td>1</td>\n",
       "      <td>26117</td>\n",
       "      <td>32</td>\n",
       "      <td>141</td>\n",
       "      <td>0.226950</td>\n",
       "    </tr>\n",
       "    <tr>\n",
       "      <th>2</th>\n",
       "      <td>1</td>\n",
       "      <td>138232</td>\n",
       "      <td>18</td>\n",
       "      <td>73</td>\n",
       "      <td>0.246575</td>\n",
       "    </tr>\n",
       "    <tr>\n",
       "      <th>3</th>\n",
       "      <td>1</td>\n",
       "      <td>26295</td>\n",
       "      <td>33</td>\n",
       "      <td>122</td>\n",
       "      <td>0.270492</td>\n",
       "    </tr>\n",
       "    <tr>\n",
       "      <th>4</th>\n",
       "      <td>1</td>\n",
       "      <td>18392</td>\n",
       "      <td>7</td>\n",
       "      <td>32</td>\n",
       "      <td>0.218750</td>\n",
       "    </tr>\n",
       "  </tbody>\n",
       "</table>\n",
       "</div>"
      ],
      "text/plain": [
       "   exp_group  user_id  likes  views       ctr\n",
       "0          1   109963      3     15  0.200000\n",
       "1          1    26117     32    141  0.226950\n",
       "2          1   138232     18     73  0.246575\n",
       "3          1    26295     33    122  0.270492\n",
       "4          1    18392      7     32  0.218750"
      ]
     },
     "execution_count": 5,
     "metadata": {},
     "output_type": "execute_result"
    }
   ],
   "source": [
    "ab_test_data.head()"
   ]
  },
  {
   "cell_type": "code",
   "execution_count": 6,
   "id": "ac27d2a9-fcea-4c04-a43e-3abe98281389",
   "metadata": {},
   "outputs": [
    {
     "data": {
      "text/html": [
       "<div>\n",
       "<style scoped>\n",
       "    .dataframe tbody tr th:only-of-type {\n",
       "        vertical-align: middle;\n",
       "    }\n",
       "\n",
       "    .dataframe tbody tr th {\n",
       "        vertical-align: top;\n",
       "    }\n",
       "\n",
       "    .dataframe thead th {\n",
       "        text-align: right;\n",
       "    }\n",
       "</style>\n",
       "<table border=\"1\" class=\"dataframe\">\n",
       "  <thead>\n",
       "    <tr style=\"text-align: right;\">\n",
       "      <th></th>\n",
       "      <th>user_id</th>\n",
       "    </tr>\n",
       "    <tr>\n",
       "      <th>exp_group</th>\n",
       "      <th></th>\n",
       "    </tr>\n",
       "  </thead>\n",
       "  <tbody>\n",
       "    <tr>\n",
       "      <th>1</th>\n",
       "      <td>10079</td>\n",
       "    </tr>\n",
       "    <tr>\n",
       "      <th>2</th>\n",
       "      <td>9952</td>\n",
       "    </tr>\n",
       "  </tbody>\n",
       "</table>\n",
       "</div>"
      ],
      "text/plain": [
       "           user_id\n",
       "exp_group         \n",
       "1            10079\n",
       "2             9952"
      ]
     },
     "execution_count": 6,
     "metadata": {},
     "output_type": "execute_result"
    }
   ],
   "source": [
    "# Размеры выборок\n",
    "ab_test_data.groupby('exp_group').count()[['user_id']]"
   ]
  },
  {
   "cell_type": "markdown",
   "id": "d04cbb87-b674-48f3-a727-63c44835682c",
   "metadata": {},
   "source": [
    "В группах +- одинаковое количество юзеров"
   ]
  },
  {
   "cell_type": "code",
   "execution_count": 7,
   "id": "a8f8eada-96d1-4c32-be12-1013851e68a7",
   "metadata": {},
   "outputs": [
    {
     "data": {
      "image/png": "[encoded data removed]",
      "text/plain": [
       "<Figure size 842.4x595.44 with 1 Axes>"
      ]
     },
     "metadata": {},
     "output_type": "display_data"
    }
   ],
   "source": [
    "# Посмотрим глазами на группы\n",
    "groups = sns.histplot(\n",
    "    data=ab_test_data, \n",
    "    x='ctr', \n",
    "    hue='exp_group', \n",
    "    palette=['r', 'b'],\n",
    "    alpha=0.5,\n",
    "    kde=False\n",
    ")"
   ]
  },
  {
   "cell_type": "markdown",
   "id": "fa98e58f-e151-48e8-a7c9-57db81388b94",
   "metadata": {},
   "source": [
    "Забавная картина. В тестовой группе (2) получили бимодальное распределение. Возможно, тестовая группа имеет 2 подгруппы, разделенный по какому-то неизвестному для нас признаку.  Часть людей стала лайкать больше, но большая часть стала лайкать меньше.     \n",
    "Контрольная группа (1) выглядит ожидаемо.  \n",
    "Группы однозначно отличаются, но я бы такое не стала катить, пока не нашла причину разделения тестовой группы на две подгруппы. Будет интересно посмотреть, что покажут тесты."
   ]
  },
  {
   "cell_type": "code",
   "execution_count": 8,
   "id": "59122626-181b-4362-adf2-12c11943494d",
   "metadata": {},
   "outputs": [
    {
     "data": {
      "text/html": [
       "<div>\n",
       "<style scoped>\n",
       "    .dataframe tbody tr th:only-of-type {\n",
       "        vertical-align: middle;\n",
       "    }\n",
       "\n",
       "    .dataframe tbody tr th {\n",
       "        vertical-align: top;\n",
       "    }\n",
       "\n",
       "    .dataframe thead tr th {\n",
       "        text-align: left;\n",
       "    }\n",
       "\n",
       "    .dataframe thead tr:last-of-type th {\n",
       "        text-align: right;\n",
       "    }\n",
       "</style>\n",
       "<table border=\"1\" class=\"dataframe\">\n",
       "  <thead>\n",
       "    <tr>\n",
       "      <th></th>\n",
       "      <th colspan=\"8\" halign=\"left\">ctr</th>\n",
       "    </tr>\n",
       "    <tr>\n",
       "      <th></th>\n",
       "      <th>count</th>\n",
       "      <th>mean</th>\n",
       "      <th>std</th>\n",
       "      <th>min</th>\n",
       "      <th>25%</th>\n",
       "      <th>50%</th>\n",
       "      <th>75%</th>\n",
       "      <th>max</th>\n",
       "    </tr>\n",
       "    <tr>\n",
       "      <th>exp_group</th>\n",
       "      <th></th>\n",
       "      <th></th>\n",
       "      <th></th>\n",
       "      <th></th>\n",
       "      <th></th>\n",
       "      <th></th>\n",
       "      <th></th>\n",
       "      <th></th>\n",
       "    </tr>\n",
       "  </thead>\n",
       "  <tbody>\n",
       "    <tr>\n",
       "      <th>1</th>\n",
       "      <td>10079.0</td>\n",
       "      <td>0.215605</td>\n",
       "      <td>0.08416</td>\n",
       "      <td>0.0</td>\n",
       "      <td>0.160097</td>\n",
       "      <td>0.203125</td>\n",
       "      <td>0.257654</td>\n",
       "      <td>0.722222</td>\n",
       "    </tr>\n",
       "    <tr>\n",
       "      <th>2</th>\n",
       "      <td>9952.0</td>\n",
       "      <td>0.214419</td>\n",
       "      <td>0.14418</td>\n",
       "      <td>0.0</td>\n",
       "      <td>0.095238</td>\n",
       "      <td>0.142857</td>\n",
       "      <td>0.325000</td>\n",
       "      <td>0.923077</td>\n",
       "    </tr>\n",
       "  </tbody>\n",
       "</table>\n",
       "</div>"
      ],
      "text/plain": [
       "               ctr                                                        \\\n",
       "             count      mean      std  min       25%       50%       75%   \n",
       "exp_group                                                                  \n",
       "1          10079.0  0.215605  0.08416  0.0  0.160097  0.203125  0.257654   \n",
       "2           9952.0  0.214419  0.14418  0.0  0.095238  0.142857  0.325000   \n",
       "\n",
       "                     \n",
       "                max  \n",
       "exp_group            \n",
       "1          0.722222  \n",
       "2          0.923077  "
      ]
     },
     "execution_count": 8,
     "metadata": {},
     "output_type": "execute_result"
    }
   ],
   "source": [
    "# посмотрим описательные статистики\n",
    "ab_test_data[['exp_group', 'ctr']].groupby('exp_group').describe()"
   ]
  },
  {
   "cell_type": "markdown",
   "id": "e5ad074f-a13d-4af1-98ad-3b693def149a",
   "metadata": {
    "tags": []
   },
   "source": [
    "## t-test для сравнения CRT"
   ]
  },
  {
   "cell_type": "code",
   "execution_count": 9,
   "id": "f6de6d4b-251b-4d11-bd4e-025c2e99d745",
   "metadata": {},
   "outputs": [
    {
     "data": {
      "text/plain": [
       "Ttest_indResult(statistic=-0.7094392041270486, pvalue=0.4780623130874935)"
      ]
     },
     "execution_count": 9,
     "metadata": {},
     "output_type": "execute_result"
    }
   ],
   "source": [
    "stats.ttest_ind(ab_test_data[ab_test_data['exp_group'] == 2]['ctr'], # test\n",
    "                ab_test_data[ab_test_data['exp_group'] == 1]['ctr'], # control\n",
    "                equal_var=False)"
   ]
  },
  {
   "cell_type": "markdown",
   "id": "8785ed62-fb00-4bba-b90a-a79fe4d14d65",
   "metadata": {},
   "source": [
    "T-test не прокрасился, но это из-за того, что средние значения ctr в группах +- одинаковые."
   ]
  },
  {
   "cell_type": "markdown",
   "id": "84323aa3-bb74-4aa4-a33a-9bae1d1d2c2a",
   "metadata": {},
   "source": [
    "## Тест Манна-Уитни для сравнения CRT"
   ]
  },
  {
   "cell_type": "code",
   "execution_count": 10,
   "id": "f2cff53b-6093-446f-9f3a-378cf6d59bc5",
   "metadata": {},
   "outputs": [
    {
     "data": {
      "text/plain": [
       "MannwhitneyuResult(statistic=43704947.5, pvalue=6.0376484617779035e-56)"
      ]
     },
     "execution_count": 10,
     "metadata": {},
     "output_type": "execute_result"
    }
   ],
   "source": [
    "stats.mannwhitneyu(ab_test_data[ab_test_data['exp_group'] == 2]['ctr'],\n",
    "                   ab_test_data[ab_test_data['exp_group'] == 1]['ctr'],\n",
    "                   alternative='two-sided')"
   ]
  },
  {
   "cell_type": "markdown",
   "id": "678e9e83-41cf-49d2-a354-a137b1087be4",
   "metadata": {},
   "source": [
    "А это тест ожидаемо показал, что существуют различия в группах, но не факт, что различия в средних."
   ]
  },
  {
   "cell_type": "markdown",
   "id": "fc0752d6-6450-45ee-a542-e7fd2bf4e7c1",
   "metadata": {
    "tags": []
   },
   "source": [
    "## t-test на сглаженном CRT"
   ]
  },
  {
   "cell_type": "code",
   "execution_count": 11,
   "id": "9e1549fc-454a-475e-93fe-33a494731d92",
   "metadata": {},
   "outputs": [],
   "source": [
    "# возьмем готовую функцию из лекции\n",
    "def get_smothed_ctr(user_likes, user_views, global_ctr, alpha):\n",
    "    smothed_ctr = (user_likes + alpha * global_ctr) / (user_views + alpha)\n",
    "    return smothed_ctr"
   ]
  },
  {
   "cell_type": "code",
   "execution_count": 12,
   "id": "f1af5273-1909-47e6-ac7c-9a7bc712c26a",
   "metadata": {},
   "outputs": [],
   "source": [
    "global_ctr_test = ab_test_data[ab_test_data['exp_group'] == 2]['likes'].sum() / ab_test_data[ab_test_data['exp_group'] == 2]['views'].sum()\n",
    "global_ctr_control = ab_test_data[ab_test_data['exp_group'] == 1]['likes'].sum() / ab_test_data[ab_test_data['exp_group'] == 1]['views'].sum()"
   ]
  },
  {
   "cell_type": "code",
   "execution_count": 13,
   "id": "af56a6a3-6cdf-4c79-a63b-f4e4468e1b84",
   "metadata": {},
   "outputs": [],
   "source": [
    "test_group = ab_test_data[ab_test_data['exp_group'] == 2].copy()\n",
    "control_group = ab_test_data[ab_test_data['exp_group'] == 1].copy()"
   ]
  },
  {
   "cell_type": "code",
   "execution_count": 14,
   "id": "cffe1966-bd64-46db-9e43-031de9c4e643",
   "metadata": {},
   "outputs": [],
   "source": [
    "test_group['smothed_ctr'] = test_group.apply(lambda x: get_smothed_ctr(x['likes'], x['views'], global_ctr_test, 5), axis=1)"
   ]
  },
  {
   "cell_type": "code",
   "execution_count": 15,
   "id": "06246a33-4a8c-4472-aabd-9d3a7b69d369",
   "metadata": {},
   "outputs": [],
   "source": [
    "control_group['smothed_ctr'] = control_group.apply(lambda x: get_smothed_ctr(x['likes'], x['views'], global_ctr_control, 5), axis=1)"
   ]
  },
  {
   "cell_type": "code",
   "execution_count": 16,
   "id": "100f8c9a-0282-4a9a-b04a-c162b8110bf2",
   "metadata": {},
   "outputs": [
    {
     "data": {
      "text/plain": [
       "<matplotlib.legend.Legend at 0x7f0a2c52b220>"
      ]
     },
     "execution_count": 16,
     "metadata": {},
     "output_type": "execute_result"
    },
    {
     "data": {
      "image/png": "[encoded data removed]",
      "text/plain": [
       "<Figure size 842.4x595.44 with 1 Axes>"
      ]
     },
     "metadata": {},
     "output_type": "display_data"
    }
   ],
   "source": [
    "# Посмотрим что получилось на картинке\n",
    "sns.histplot(\n",
    "    data=test_group, \n",
    "    x='smothed_ctr', \n",
    "    hue='exp_group', \n",
    "    palette=['r'],\n",
    "    alpha=0.5,\n",
    "    kde=False,\n",
    "    label='2 test',\n",
    "    bins=40\n",
    ")\n",
    "sns.histplot(\n",
    "    data=control_group, \n",
    "    x='smothed_ctr', \n",
    "    hue='exp_group', \n",
    "    palette=['b'],\n",
    "    alpha=0.5,\n",
    "    kde=False,\n",
    "    label='1 control',\n",
    "    bins=40\n",
    ")\n",
    "plt.legend()"
   ]
  },
  {
   "cell_type": "code",
   "execution_count": 17,
   "id": "0c51a8af-4df9-47cb-9aa4-803d39d23eac",
   "metadata": {},
   "outputs": [
    {
     "data": {
      "text/plain": [
       "Ttest_indResult(statistic=-2.2841320431616983, pvalue=0.0223769815558559)"
      ]
     },
     "execution_count": 17,
     "metadata": {},
     "output_type": "execute_result"
    }
   ],
   "source": [
    "# посчитаем тест\n",
    "stats.ttest_ind(test_group['smothed_ctr'],\n",
    "                control_group['smothed_ctr'],\n",
    "                equal_var=False)"
   ]
  },
  {
   "cell_type": "markdown",
   "id": "75a06ede-680e-430b-ac9e-85c72b87fb9c",
   "metadata": {},
   "source": [
    "На уровне значимости 0.05 тест прокрасился.  \n",
    "Посмотрим как изменились средние."
   ]
  },
  {
   "cell_type": "code",
   "execution_count": 18,
   "id": "0b60b93b-dca2-4fd9-96e9-2cb48330a318",
   "metadata": {},
   "outputs": [
    {
     "data": {
      "text/plain": [
       "(0.21441927347479375, 0.21560459841296287)"
      ]
     },
     "execution_count": 18,
     "metadata": {},
     "output_type": "execute_result"
    }
   ],
   "source": [
    "test_group['ctr'].mean(), control_group['ctr'].mean()"
   ]
  },
  {
   "cell_type": "code",
   "execution_count": 19,
   "id": "2f7148ed-ea0e-4f06-b1d0-17158ca08d3f",
   "metadata": {},
   "outputs": [
    {
     "data": {
      "text/plain": [
       "(0.21073955503259234, 0.21402549608884142)"
      ]
     },
     "execution_count": 19,
     "metadata": {},
     "output_type": "execute_result"
    }
   ],
   "source": [
    "test_group['smothed_ctr'].mean(), control_group['smothed_ctr'].mean()"
   ]
  },
  {
   "cell_type": "code",
   "execution_count": 20,
   "id": "f58c9811-2769-4be5-85cb-eafb2365091c",
   "metadata": {},
   "outputs": [
    {
     "data": {
      "text/plain": [
       "MannwhitneyuResult(statistic=43381083.0, pvalue=1.6163964114270227e-61)"
      ]
     },
     "execution_count": 20,
     "metadata": {},
     "output_type": "execute_result"
    }
   ],
   "source": [
    "# посчитаем тест\n",
    "stats.mannwhitneyu(test_group['smothed_ctr'],\n",
    "                   control_group['smothed_ctr'],\n",
    "                   alternative='two-sided')"
   ]
  },
  {
   "cell_type": "markdown",
   "id": "ae29dd71-0e17-4835-80d7-ec9a3e58ec43",
   "metadata": {},
   "source": [
    "Тест Манна-Уитни тоже показал различия"
   ]
  },
  {
   "cell_type": "markdown",
   "id": "dcb517e4-3774-46b2-a824-93d58d37c7c7",
   "metadata": {},
   "source": [
    "## Пуассоновский бутстреп "
   ]
  },
  {
   "cell_type": "code",
   "execution_count": 21,
   "id": "82bc4a95-a6e7-463a-8a4d-36608de57b42",
   "metadata": {},
   "outputs": [],
   "source": [
    "# еще раз воспользуемся готовой функцией из лекции\n",
    "def bootstrap(likes1, views1, likes2, views2, n_bootstrap=2000):\n",
    "\n",
    "    poisson_bootstraps1 = stats.poisson(1).rvs(\n",
    "        (n_bootstrap, len(likes1))).astype(np.int64)\n",
    "\n",
    "    poisson_bootstraps2 = stats.poisson(1).rvs(\n",
    "            (n_bootstrap, len(likes2))).astype(np.int64)\n",
    "    \n",
    "    globalCTR1 = (poisson_bootstraps1*likes1).sum(axis=1)/(poisson_bootstraps1*views1).sum(axis=1)\n",
    "    \n",
    "    globalCTR2 = (poisson_bootstraps2*likes2).sum(axis=1)/(poisson_bootstraps2*views2).sum(axis=1)\n",
    "\n",
    "    return globalCTR1, globalCTR2"
   ]
  },
  {
   "cell_type": "code",
   "execution_count": 22,
   "id": "ea5c0a38-8801-4f73-97f8-e79a34a49f35",
   "metadata": {},
   "outputs": [
    {
     "data": {
      "text/plain": [
       "Index(['exp_group', 'user_id', 'likes', 'views', 'ctr', 'smothed_ctr'], dtype='object')"
      ]
     },
     "execution_count": 22,
     "metadata": {},
     "output_type": "execute_result"
    }
   ],
   "source": [
    "test_group.columns"
   ]
  },
  {
   "cell_type": "code",
   "execution_count": 23,
   "id": "cc59cd2f-4333-4d1b-87b6-9bce6fac6d05",
   "metadata": {},
   "outputs": [],
   "source": [
    "ctr_test, ctr_control = bootstrap(test_group['likes'].to_numpy(), \n",
    "                                  test_group['views'].to_numpy(), \n",
    "                                  control_group['likes'].to_numpy(), \n",
    "                                  control_group['views'].to_numpy())"
   ]
  },
  {
   "cell_type": "markdown",
   "id": "6a595841-ad60-42ae-b01e-c357385d56d7",
   "metadata": {},
   "source": [
    "### t-test"
   ]
  },
  {
   "cell_type": "code",
   "execution_count": 34,
   "id": "55069e0e-e264-4569-8a99-8c8692f2f4d4",
   "metadata": {},
   "outputs": [
    {
     "data": {
      "text/plain": [
       "Ttest_indResult(statistic=-278.2770500219398, pvalue=0.0)"
      ]
     },
     "execution_count": 34,
     "metadata": {},
     "output_type": "execute_result"
    }
   ],
   "source": [
    "stats.ttest_ind(ctr_test,\n",
    "                ctr_control,\n",
    "                equal_var=False)"
   ]
  },
  {
   "cell_type": "markdown",
   "id": "24277e61-4188-486f-a068-73fae8c4c9bc",
   "metadata": {},
   "source": [
    "Тест прокрасился. Судя по значению p-value, получившиеся группы даже не пересекаются."
   ]
  },
  {
   "cell_type": "markdown",
   "id": "a6966055-1da2-43ba-8d79-eb42c570989e",
   "metadata": {},
   "source": [
    "### Тест Манна-Уитни"
   ]
  },
  {
   "cell_type": "code",
   "execution_count": 25,
   "id": "742f0b26-a2a1-462d-83fe-a6fdc00cf3be",
   "metadata": {},
   "outputs": [
    {
     "data": {
      "text/plain": [
       "MannwhitneyuResult(statistic=0.0, pvalue=0.0)"
      ]
     },
     "execution_count": 25,
     "metadata": {},
     "output_type": "execute_result"
    }
   ],
   "source": [
    "stats.mannwhitneyu(ctr_test,\n",
    "                   ctr_control,\n",
    "                   alternative='two-sided')"
   ]
  },
  {
   "cell_type": "markdown",
   "id": "d78306b9-d92a-49e3-9dcf-11db49b5c4f1",
   "metadata": {},
   "source": [
    "Тест Манна-Уитни тоже прокрасился"
   ]
  },
  {
   "cell_type": "code",
   "execution_count": 35,
   "id": "ec00463c-c5b8-4de6-836f-ed843955d74e",
   "metadata": {
    "tags": []
   },
   "outputs": [
    {
     "data": {
      "text/plain": [
       "<matplotlib.legend.Legend at 0x7f0a2c0581f0>"
      ]
     },
     "execution_count": 35,
     "metadata": {},
     "output_type": "execute_result"
    },
    {
     "data": {
      "image/png": "[encoded data removed]",
      "text/plain": [
       "<Figure size 842.4x595.44 with 1 Axes>"
      ]
     },
     "metadata": {},
     "output_type": "display_data"
    }
   ],
   "source": [
    "# посмотрим картинки\n",
    "sns.histplot( \n",
    "    x=ctr_test, \n",
    "    alpha=0.5,\n",
    "    kde=False,\n",
    "    label='2 test',\n",
    "    bins=40,\n",
    "    color='r',\n",
    ")\n",
    "sns.histplot(\n",
    "    x=ctr_control, \n",
    "    alpha=0.5,\n",
    "    kde=False,\n",
    "    label='1 control',\n",
    "    bins=20,\n",
    "    color='b',\n",
    ")\n",
    "plt.legend()"
   ]
  },
  {
   "cell_type": "markdown",
   "id": "d6b09de1-a602-4f70-b0a2-ef3463f88f01",
   "metadata": {},
   "source": [
    "Как видно из картинки, распределения не пересекаются. И распределение тестовой группы находится левее, чем рапределение контрольной группы, что говорит нам о том, что групповой CTR с новым алгоритмом стал меньше.  \n",
    "Еще хочу отметить, что у экспериментальной группы изменилась форма распределения, но я не знаю как это может повлиять на выводы.   "
   ]
  },
  {
   "cell_type": "markdown",
   "id": "2ade4195-8cd8-4310-8d10-85b4e5a9d0d2",
   "metadata": {},
   "source": [
    "## Бакетное преобразование"
   ]
  },
  {
   "cell_type": "markdown",
   "id": "3f830778-fb15-4120-a27a-0ccafbd3dcb5",
   "metadata": {},
   "source": [
    "В группах у нас примерно по 10к пользователей. Если поделим их на 50 бакетов, то в каждом бакете получим примерно по 200 пользователей – ок."
   ]
  },
  {
   "cell_type": "code",
   "execution_count": 28,
   "id": "243b1a02-912f-40aa-b14a-ae508403e1c8",
   "metadata": {},
   "outputs": [],
   "source": [
    "backet_query = \"\"\"\n",
    "    SELECT exp_group, bucket,\n",
    "        sum(likes) / sum(views) as bucket_ctr,\n",
    "        quantileExact(0.9)(ctr) as ctr9,\n",
    "        count(distinct user_id) count_users\n",
    "    FROM (SELECT exp_group, \n",
    "            xxHash64(user_id) % 50 as bucket,\n",
    "            user_id,\n",
    "            sum(action = 'like') as likes,\n",
    "            sum(action = 'view') as views,\n",
    "            likes / views as ctr\n",
    "        FROM simulator_20220420.feed_actions \n",
    "        WHERE toDate(time) between '2022-04-04' and '2022-04-10'\n",
    "            and exp_group in (1, 2)\n",
    "        GROUP BY exp_group, bucket, user_id)\n",
    "    GROUP BY exp_group, bucket\n",
    "\"\"\""
   ]
  },
  {
   "cell_type": "code",
   "execution_count": 29,
   "id": "531ec081-17d3-4313-80f9-37ae133a525e",
   "metadata": {},
   "outputs": [],
   "source": [
    "backet_data = Getch(backet_query).df"
   ]
  },
  {
   "cell_type": "code",
   "execution_count": 30,
   "id": "885b0797-991d-47c3-a4b9-4c41f40f32cb",
   "metadata": {},
   "outputs": [
    {
     "data": {
      "text/html": [
       "<div>\n",
       "<style scoped>\n",
       "    .dataframe tbody tr th:only-of-type {\n",
       "        vertical-align: middle;\n",
       "    }\n",
       "\n",
       "    .dataframe tbody tr th {\n",
       "        vertical-align: top;\n",
       "    }\n",
       "\n",
       "    .dataframe thead th {\n",
       "        text-align: right;\n",
       "    }\n",
       "</style>\n",
       "<table border=\"1\" class=\"dataframe\">\n",
       "  <thead>\n",
       "    <tr style=\"text-align: right;\">\n",
       "      <th></th>\n",
       "      <th>exp_group</th>\n",
       "      <th>bucket</th>\n",
       "      <th>bucket_ctr</th>\n",
       "      <th>ctr9</th>\n",
       "      <th>count_users</th>\n",
       "    </tr>\n",
       "  </thead>\n",
       "  <tbody>\n",
       "    <tr>\n",
       "      <th>0</th>\n",
       "      <td>1</td>\n",
       "      <td>0</td>\n",
       "      <td>0.196481</td>\n",
       "      <td>0.307692</td>\n",
       "      <td>200</td>\n",
       "    </tr>\n",
       "    <tr>\n",
       "      <th>1</th>\n",
       "      <td>2</td>\n",
       "      <td>0</td>\n",
       "      <td>0.194262</td>\n",
       "      <td>0.384615</td>\n",
       "      <td>189</td>\n",
       "    </tr>\n",
       "    <tr>\n",
       "      <th>2</th>\n",
       "      <td>1</td>\n",
       "      <td>1</td>\n",
       "      <td>0.211887</td>\n",
       "      <td>0.318182</td>\n",
       "      <td>196</td>\n",
       "    </tr>\n",
       "    <tr>\n",
       "      <th>3</th>\n",
       "      <td>2</td>\n",
       "      <td>1</td>\n",
       "      <td>0.215328</td>\n",
       "      <td>0.467742</td>\n",
       "      <td>196</td>\n",
       "    </tr>\n",
       "    <tr>\n",
       "      <th>4</th>\n",
       "      <td>1</td>\n",
       "      <td>2</td>\n",
       "      <td>0.206271</td>\n",
       "      <td>0.322314</td>\n",
       "      <td>211</td>\n",
       "    </tr>\n",
       "  </tbody>\n",
       "</table>\n",
       "</div>"
      ],
      "text/plain": [
       "   exp_group  bucket  bucket_ctr      ctr9  count_users\n",
       "0          1       0    0.196481  0.307692          200\n",
       "1          2       0    0.194262  0.384615          189\n",
       "2          1       1    0.211887  0.318182          196\n",
       "3          2       1    0.215328  0.467742          196\n",
       "4          1       2    0.206271  0.322314          211"
      ]
     },
     "execution_count": 30,
     "metadata": {},
     "output_type": "execute_result"
    }
   ],
   "source": [
    "backet_data.head()"
   ]
  },
  {
   "cell_type": "markdown",
   "id": "1d8f2c95-0f0c-4f43-bbec-a3c8adfc33be",
   "metadata": {},
   "source": [
    "Посмотрим на распределения бакетного CTR"
   ]
  },
  {
   "cell_type": "code",
   "execution_count": 31,
   "id": "139de979-bd33-4f67-a061-078fbe7cbd16",
   "metadata": {},
   "outputs": [
    {
     "data": {
      "text/plain": [
       "<matplotlib.legend.Legend at 0x7f0a2c19b4f0>"
      ]
     },
     "execution_count": 31,
     "metadata": {},
     "output_type": "execute_result"
    },
    {
     "data": {
      "image/png": "[encoded data removed]",
      "text/plain": [
       "<Figure size 842.4x595.44 with 1 Axes>"
      ]
     },
     "metadata": {},
     "output_type": "display_data"
    }
   ],
   "source": [
    "sns.histplot( \n",
    "    data=backet_data[backet_data['exp_group'] == 2],\n",
    "    x='bucket_ctr', \n",
    "    alpha=0.5,\n",
    "    kde=False,\n",
    "    label='2 test',\n",
    "    bins=20,\n",
    "    color='r',\n",
    ")\n",
    "sns.histplot(\n",
    "    data=backet_data[backet_data['exp_group'] == 1],\n",
    "    x='bucket_ctr', \n",
    "    alpha=0.5,\n",
    "    kde=False,\n",
    "    label='1 control',\n",
    "    # bins=20,\n",
    "    color='b',\n",
    ")\n",
    "plt.legend()"
   ]
  },
  {
   "cell_type": "markdown",
   "id": "9f608ede-ceef-41fc-b32b-4644d2989c4f",
   "metadata": {},
   "source": [
    "Видно смещение экспериментальной группы влево. Характер распределения этой группы немного похож на распределение поюзерного CTR."
   ]
  },
  {
   "cell_type": "markdown",
   "id": "0d4acffb-5758-4414-a621-584d7b74ccbd",
   "metadata": {},
   "source": [
    "### t-test"
   ]
  },
  {
   "cell_type": "code",
   "execution_count": 32,
   "id": "53226d26-3570-4314-a71c-14b906dc4dd0",
   "metadata": {},
   "outputs": [
    {
     "data": {
      "text/plain": [
       "Ttest_indResult(statistic=-5.668234732053979, pvalue=3.4455951649945907e-07)"
      ]
     },
     "execution_count": 32,
     "metadata": {},
     "output_type": "execute_result"
    }
   ],
   "source": [
    "stats.ttest_ind(backet_data[backet_data['exp_group'] == 2]['bucket_ctr'],\n",
    "                backet_data[backet_data['exp_group'] == 1]['bucket_ctr'],\n",
    "                equal_var=False)"
   ]
  },
  {
   "cell_type": "markdown",
   "id": "f320b5cb-46d6-4dc7-9ffc-1eb8eed443b1",
   "metadata": {},
   "source": [
    "Тест прокрасился. Различия в группах есть. "
   ]
  },
  {
   "cell_type": "markdown",
   "id": "18f33827-6feb-4600-920c-44b725ff9ee8",
   "metadata": {},
   "source": [
    "### Тест Манна-Уитни"
   ]
  },
  {
   "cell_type": "code",
   "execution_count": 33,
   "id": "33469707-58bc-4f8d-a3a1-646cffa2db5e",
   "metadata": {},
   "outputs": [
    {
     "data": {
      "text/plain": [
       "MannwhitneyuResult(statistic=505.0, pvalue=2.859963936492646e-07)"
      ]
     },
     "execution_count": 33,
     "metadata": {},
     "output_type": "execute_result"
    }
   ],
   "source": [
    "stats.mannwhitneyu(backet_data[backet_data['exp_group'] == 2]['bucket_ctr'],\n",
    "                   backet_data[backet_data['exp_group'] == 1]['bucket_ctr'],\n",
    "                   alternative='two-sided')"
   ]
  },
  {
   "cell_type": "markdown",
   "id": "6ac02e5d-c969-4747-a20f-6a776ee687a6",
   "metadata": {},
   "source": [
    "Тест Манна-Уитни тоже прокрасился."
   ]
  },
  {
   "cell_type": "markdown",
   "id": "33aa95db-9961-44c3-b6c5-78cfdf7eb9dc",
   "metadata": {},
   "source": [
    "## Выводы"
   ]
  },
  {
   "cell_type": "markdown",
   "id": "56343519-3676-449d-8f42-fe3178633381",
   "metadata": {},
   "source": [
    "Проведенные тесты показали, что тестовая и экспериментальная группы различаются, причем бутстреп и бакентное преобразование показали, что CTR в экспериментальной группе упал.     \n",
    "Различия были заменты не на всех тестах, но характер распределения поюзерного CTR у экспериментальной группы дает объяснение, почему некоорые тесты не прокрасились.   \n",
    "\n",
    "Исходя из этого, я не рекомендую сейчас раскатывать текущий алгоритм на всех пользователей.  \n",
    "Думаю, что можно посмотреть, почему часть людей в экспериментальной группе стали лайкать больше, а часть меньше (по сравнению со старым алгоритмом). Это может помочь в настройке нового алгоритма.    "
   ]
  }
 ],
 "metadata": {
  "kernelspec": {
   "display_name": "Python 3",
   "language": "python",
   "name": "python3"
  },
  "language_info": {
   "codemirror_mode": {
    "name": "ipython",
    "version": 3
   },
   "file_extension": ".py",
   "mimetype": "text/x-python",
   "name": "python",
   "nbconvert_exporter": "python",
   "pygments_lexer": "ipython3",
   "version": "3.8.8"
  }
 },
 "nbformat": 4,
 "nbformat_minor": 5
}
