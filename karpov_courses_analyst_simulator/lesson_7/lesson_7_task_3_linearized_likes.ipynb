{
 "cells": [
  {
   "cell_type": "markdown",
   "id": "5394bfb8-ec96-41df-900d-0f47d8bd1b52",
   "metadata": {},
   "source": [
    "# Задание 3   \n",
    "\n",
    "Идея метода заключается в следующем:\n",
    "\n",
    "Вместо того, чтобы заталкивать в тест «поюзерные» CTR, можно сконструировать другую метрику и анализировать ее, но при этом гарантируется (в отличие от сглаженного CTR), что если тест на этой другой метрике «прокрасится» и увидит изменения, значит изменения есть и в метрике исходной (то есть в лайках на пользователя и в пользовательских CTR    \n",
    "\n",
    "При этом метод сам по себе очень прост. Что это за метрика такая?    \n",
    "\n",
    "Считаем общий CTR в контрольной группе  𝐶𝑇𝑅𝑐𝑜𝑛𝑡𝑟𝑜𝑙=𝑠𝑢𝑚(𝑙𝑖𝑘𝑒𝑠)/𝑠𝑢𝑚(𝑣𝑖𝑒𝑤𝑠)     \n",
    "Посчитаем в обеих группах поюзерную метрику  𝑙𝑖𝑛𝑒𝑎𝑟𝑖𝑧𝑒𝑑_𝑙𝑖𝑘𝑒𝑠=𝑙𝑖𝑘𝑒𝑠−𝐶𝑇𝑅𝑐𝑜𝑛𝑡𝑟𝑜𝑙∗𝑣𝑖𝑒𝑤𝑠     \n",
    "После чего сравним  t-тестом отличия в группах по метрике 𝑙𝑖𝑛𝑒𝑎𝑟𝑖𝑧𝑒𝑑_𝑙𝑖𝑘𝑒𝑠     \n",
    "Метод простой, гарантируется, что при приличном размере выборки (как у нас — подойдет) можно бесплатно увеличить чувствительность вашей метрики (или, по крайней мере, не сделать хуже). Как по мне, это ОЧЕНЬ круто.   \n",
    "\n",
    "\n",
    "- Проанализируйте тест между группами 0 и 3 по метрике линеаризованных лайков. Видно ли отличие? Стало ли 𝑝−𝑣𝑎𝑙𝑢𝑒 меньше?   \n",
    "- Проанализируйте тест между группами 1 и 2 по метрике линеаризованных лайков. Видно ли отличие? Стало ли 𝑝−𝑣𝑎𝑙𝑢𝑒 меньше?"
   ]
  },
  {
   "cell_type": "code",
   "execution_count": 1,
   "id": "85f71464-778d-41a5-87f9-bb4cb8109d5b",
   "metadata": {},
   "outputs": [],
   "source": [
    "import pandas as pd\n",
    "import seaborn as sns\n",
    "import matplotlib.pyplot as plt\n",
    "import numpy as np\n",
    "import hashlib\n",
    "from scipy import stats\n",
    "from tqdm import tqdm\n",
    "\n",
    "from read_db.CH import Getch\n",
    "\n",
    "%matplotlib inline"
   ]
  },
  {
   "cell_type": "code",
   "execution_count": 2,
   "id": "53eb7d3c-71dd-456a-82eb-039b321e3070",
   "metadata": {},
   "outputs": [],
   "source": [
    "sns.set(rc={'figure.figsize': (11.7, 8.27)})"
   ]
  },
  {
   "cell_type": "markdown",
   "id": "365ff45f-dcba-4afe-86a6-8f1fc1ed4b5d",
   "metadata": {},
   "source": [
    "Наши AB тесты:   \n",
    "Первый\n",
    "* exp_group = 1 - Все по-старому\n",
    "* exp_group = 2 - Рекомендации \"похожих на лайкнутые постов\"\n",
    "\n",
    "Второй\n",
    "* exp_group = 0 – Все по-старому\n",
    "* exp_group = 3 - Рекомендации \"постов, которые лайкали похожие на вас люди\"\n",
    "\n",
    "Эксперименты проходили с 2022-04-04 по 2022-04-10 включительно. "
   ]
  },
  {
   "cell_type": "markdown",
   "id": "a8cf98d4-4a0e-4b5f-9251-57fc964fc80b",
   "metadata": {},
   "source": [
    "## Посмотрим на данные"
   ]
  },
  {
   "cell_type": "code",
   "execution_count": 3,
   "id": "31306da7-4d53-4c7b-a212-41a5a335a9a2",
   "metadata": {},
   "outputs": [],
   "source": [
    "ab_test_query = \"\"\"\n",
    "SELECT exp_group, \n",
    "        user_id,\n",
    "        sum(action = 'like') as likes,\n",
    "        sum(action = 'view') as views,\n",
    "        likes / views as ctr\n",
    "    FROM simulator_20220420.feed_actions \n",
    "    WHERE toDate(time) between '2022-04-04' and '2022-04-10'\n",
    "        and exp_group in (1, 2, 0, 3)\n",
    "    GROUP BY exp_group, user_id\n",
    "\"\"\""
   ]
  },
  {
   "cell_type": "code",
   "execution_count": 4,
   "id": "de17fff5-4d78-4a4e-884b-64591767834d",
   "metadata": {},
   "outputs": [],
   "source": [
    "ab_test_data = Getch(ab_test_query).df"
   ]
  },
  {
   "cell_type": "code",
   "execution_count": 5,
   "id": "fdc89365-16cd-4d07-9888-db5f554500fc",
   "metadata": {},
   "outputs": [
    {
     "data": {
      "text/html": [
       "<div>\n",
       "<style scoped>\n",
       "    .dataframe tbody tr th:only-of-type {\n",
       "        vertical-align: middle;\n",
       "    }\n",
       "\n",
       "    .dataframe tbody tr th {\n",
       "        vertical-align: top;\n",
       "    }\n",
       "\n",
       "    .dataframe thead th {\n",
       "        text-align: right;\n",
       "    }\n",
       "</style>\n",
       "<table border=\"1\" class=\"dataframe\">\n",
       "  <thead>\n",
       "    <tr style=\"text-align: right;\">\n",
       "      <th></th>\n",
       "      <th>exp_group</th>\n",
       "      <th>user_id</th>\n",
       "      <th>likes</th>\n",
       "      <th>views</th>\n",
       "      <th>ctr</th>\n",
       "    </tr>\n",
       "  </thead>\n",
       "  <tbody>\n",
       "    <tr>\n",
       "      <th>0</th>\n",
       "      <td>3</td>\n",
       "      <td>115383</td>\n",
       "      <td>9</td>\n",
       "      <td>30</td>\n",
       "      <td>0.300000</td>\n",
       "    </tr>\n",
       "    <tr>\n",
       "      <th>1</th>\n",
       "      <td>1</td>\n",
       "      <td>18392</td>\n",
       "      <td>7</td>\n",
       "      <td>32</td>\n",
       "      <td>0.218750</td>\n",
       "    </tr>\n",
       "    <tr>\n",
       "      <th>2</th>\n",
       "      <td>3</td>\n",
       "      <td>123580</td>\n",
       "      <td>13</td>\n",
       "      <td>48</td>\n",
       "      <td>0.270833</td>\n",
       "    </tr>\n",
       "    <tr>\n",
       "      <th>3</th>\n",
       "      <td>2</td>\n",
       "      <td>131473</td>\n",
       "      <td>14</td>\n",
       "      <td>134</td>\n",
       "      <td>0.104478</td>\n",
       "    </tr>\n",
       "    <tr>\n",
       "      <th>4</th>\n",
       "      <td>2</td>\n",
       "      <td>32420</td>\n",
       "      <td>26</td>\n",
       "      <td>128</td>\n",
       "      <td>0.203125</td>\n",
       "    </tr>\n",
       "  </tbody>\n",
       "</table>\n",
       "</div>"
      ],
      "text/plain": [
       "   exp_group  user_id  likes  views       ctr\n",
       "0          3   115383      9     30  0.300000\n",
       "1          1    18392      7     32  0.218750\n",
       "2          3   123580     13     48  0.270833\n",
       "3          2   131473     14    134  0.104478\n",
       "4          2    32420     26    128  0.203125"
      ]
     },
     "execution_count": 5,
     "metadata": {},
     "output_type": "execute_result"
    }
   ],
   "source": [
    "ab_test_data.head()"
   ]
  },
  {
   "cell_type": "code",
   "execution_count": 6,
   "id": "cee43870-650f-4a67-93f3-12356f434cb7",
   "metadata": {},
   "outputs": [
    {
     "data": {
      "text/html": [
       "<div>\n",
       "<style scoped>\n",
       "    .dataframe tbody tr th:only-of-type {\n",
       "        vertical-align: middle;\n",
       "    }\n",
       "\n",
       "    .dataframe tbody tr th {\n",
       "        vertical-align: top;\n",
       "    }\n",
       "\n",
       "    .dataframe thead th {\n",
       "        text-align: right;\n",
       "    }\n",
       "</style>\n",
       "<table border=\"1\" class=\"dataframe\">\n",
       "  <thead>\n",
       "    <tr style=\"text-align: right;\">\n",
       "      <th></th>\n",
       "      <th>user_id</th>\n",
       "    </tr>\n",
       "    <tr>\n",
       "      <th>exp_group</th>\n",
       "      <th></th>\n",
       "    </tr>\n",
       "  </thead>\n",
       "  <tbody>\n",
       "    <tr>\n",
       "      <th>0</th>\n",
       "      <td>9999</td>\n",
       "    </tr>\n",
       "    <tr>\n",
       "      <th>1</th>\n",
       "      <td>10079</td>\n",
       "    </tr>\n",
       "    <tr>\n",
       "      <th>2</th>\n",
       "      <td>9952</td>\n",
       "    </tr>\n",
       "    <tr>\n",
       "      <th>3</th>\n",
       "      <td>10049</td>\n",
       "    </tr>\n",
       "  </tbody>\n",
       "</table>\n",
       "</div>"
      ],
      "text/plain": [
       "           user_id\n",
       "exp_group         \n",
       "0             9999\n",
       "1            10079\n",
       "2             9952\n",
       "3            10049"
      ]
     },
     "execution_count": 6,
     "metadata": {},
     "output_type": "execute_result"
    }
   ],
   "source": [
    "# Размеры выборок\n",
    "ab_test_data.groupby('exp_group').count()[['user_id']]"
   ]
  },
  {
   "cell_type": "code",
   "execution_count": 7,
   "id": "f0e9af67-07e7-4bd4-bc7f-9865079cb643",
   "metadata": {},
   "outputs": [],
   "source": [
    "ab_test_data_1 = ab_test_data[ab_test_data['exp_group'].isin([1, 2])].copy()\n",
    "ab_test_data_2 = ab_test_data[ab_test_data['exp_group'].isin([0, 3])].copy()"
   ]
  },
  {
   "cell_type": "code",
   "execution_count": 8,
   "id": "bc7dc923-9aca-47ca-82d5-7619fea83792",
   "metadata": {},
   "outputs": [
    {
     "data": {
      "image/png": "[encoded data removed]",
      "text/plain": [
       "<Figure size 842.4x595.44 with 1 Axes>"
      ]
     },
     "metadata": {},
     "output_type": "display_data"
    }
   ],
   "source": [
    "# Первый эксперимент\n",
    "groups = sns.histplot(\n",
    "    data=ab_test_data_1, \n",
    "    x='ctr', \n",
    "    hue='exp_group', \n",
    "    palette=['r', 'b'],\n",
    "    alpha=0.5,\n",
    "    kde=False\n",
    ")\n",
    "plt.title('Результаты первого эксперимента');"
   ]
  },
  {
   "cell_type": "code",
   "execution_count": 9,
   "id": "53784215-ce1d-44d3-8e27-fb44a09d1f79",
   "metadata": {},
   "outputs": [
    {
     "data": {
      "image/png": "[encoded data removed]",
      "text/plain": [
       "<Figure size 842.4x595.44 with 1 Axes>"
      ]
     },
     "metadata": {},
     "output_type": "display_data"
    }
   ],
   "source": [
    "# Второй эксперимент\n",
    "groups = sns.histplot(\n",
    "    data=ab_test_data_2, \n",
    "    x='ctr', \n",
    "    hue='exp_group', \n",
    "    palette=['r', 'b'],\n",
    "    alpha=0.5,\n",
    "    kde=False\n",
    ")\n",
    "plt.title('Результаты второго эксперимента');"
   ]
  },
  {
   "cell_type": "markdown",
   "id": "ae6aabb9-ac26-49cf-99ba-ac1f9ea2a40d",
   "metadata": {},
   "source": [
    "## Посчитаем линеаризованные лайки\n",
    "𝐶𝑇𝑅𝑐𝑜𝑛𝑡𝑟𝑜𝑙 = 𝑠𝑢𝑚(𝑙𝑖𝑘𝑒𝑠) / 𝑠𝑢𝑚(𝑣𝑖𝑒𝑤𝑠)   \n",
    "𝑙𝑖𝑛𝑒𝑎𝑟𝑖𝑧𝑒𝑑_𝑙𝑖𝑘𝑒𝑠 = 𝑙𝑖𝑘𝑒𝑠 − 𝐶𝑇𝑅𝑐𝑜𝑛𝑡𝑟𝑜𝑙 ∗ 𝑣𝑖𝑒𝑤𝑠"
   ]
  },
  {
   "cell_type": "code",
   "execution_count": 10,
   "id": "14ec8a04-df5a-45e8-95c2-6c7a2ba46bf4",
   "metadata": {},
   "outputs": [],
   "source": [
    "ctr_control_1 = ab_test_data_1[ab_test_data_1['exp_group'] == 1]['likes'].sum() / ab_test_data_1[ab_test_data_1['exp_group'] == 1]['views'].sum()\n",
    "ctr_control_2 = ab_test_data_2[ab_test_data_2['exp_group'] == 0]['likes'].sum() / ab_test_data_2[ab_test_data_2['exp_group'] == 0]['views'].sum()"
   ]
  },
  {
   "cell_type": "code",
   "execution_count": 11,
   "id": "fa0846b1-4e73-4567-8bb7-0e08757998cb",
   "metadata": {},
   "outputs": [],
   "source": [
    "ab_test_data_1['linearized_likes'] = ab_test_data_1['likes'] - ctr_control_1 * ab_test_data_1['views']\n",
    "ab_test_data_2['linearized_likes'] = ab_test_data_2['likes'] - ctr_control_2 * ab_test_data_2['views']"
   ]
  },
  {
   "cell_type": "code",
   "execution_count": 12,
   "id": "7e5972d7-48f9-4ffa-8178-908ac1a73676",
   "metadata": {},
   "outputs": [
    {
     "data": {
      "image/png": "[encoded data removed]",
      "text/plain": [
       "<Figure size 842.4x595.44 with 1 Axes>"
      ]
     },
     "metadata": {},
     "output_type": "display_data"
    }
   ],
   "source": [
    "# Посмотрим картинки по новой метрике\n",
    "groups = sns.histplot(\n",
    "    data=ab_test_data_1, \n",
    "    x='linearized_likes', \n",
    "    hue='exp_group', \n",
    "    palette=['r', 'b'],\n",
    "    alpha=0.5,\n",
    "    kde=False\n",
    ")\n",
    "plt.title('Результаты первого эксперимента');"
   ]
  },
  {
   "cell_type": "code",
   "execution_count": 13,
   "id": "f4b4fe7c-17ac-44e9-98ac-1233b9e8b6ff",
   "metadata": {},
   "outputs": [
    {
     "data": {
      "image/png": "[encoded data removed]",
      "text/plain": [
       "<Figure size 842.4x595.44 with 1 Axes>"
      ]
     },
     "metadata": {},
     "output_type": "display_data"
    }
   ],
   "source": [
    "# Второй эксперимент\n",
    "groups = sns.histplot(\n",
    "    data=ab_test_data_2, \n",
    "    x='linearized_likes', \n",
    "    hue='exp_group', \n",
    "    palette=['r', 'b'],\n",
    "    alpha=0.5,\n",
    "    kde=False\n",
    ")\n",
    "plt.title('Результаты второго эксперимента');"
   ]
  },
  {
   "cell_type": "markdown",
   "id": "ed03034d-becf-4dab-9a46-61de6f6603cf",
   "metadata": {},
   "source": [
    "## Тесты"
   ]
  },
  {
   "cell_type": "markdown",
   "id": "d779416a-a2f9-4289-b143-5e700e75e295",
   "metadata": {
    "tags": []
   },
   "source": [
    "### Первый эксперимент"
   ]
  },
  {
   "cell_type": "code",
   "execution_count": 14,
   "id": "414305b4-0916-4988-be52-93337fee18d2",
   "metadata": {},
   "outputs": [
    {
     "data": {
      "text/plain": [
       "Ttest_indResult(statistic=-0.7094392041270485, pvalue=0.4780623130874935)"
      ]
     },
     "execution_count": 14,
     "metadata": {},
     "output_type": "execute_result"
    }
   ],
   "source": [
    "# на поюзерном CTR\n",
    "stats.ttest_ind(ab_test_data_1[ab_test_data_1['exp_group'] == 2]['ctr'], # test\n",
    "                ab_test_data_1[ab_test_data_1['exp_group'] == 1]['ctr'], # control\n",
    "                equal_var=False)"
   ]
  },
  {
   "cell_type": "code",
   "execution_count": 15,
   "id": "9b21990b-4fb7-470f-b90a-f1669ad42313",
   "metadata": {},
   "outputs": [
    {
     "data": {
      "text/plain": [
       "Ttest_indResult(statistic=-6.122579994775974, pvalue=9.439432187037644e-10)"
      ]
     },
     "execution_count": 15,
     "metadata": {},
     "output_type": "execute_result"
    }
   ],
   "source": [
    "# на линеаризированных лайков\n",
    "stats.ttest_ind(ab_test_data_1[ab_test_data_1['exp_group'] == 2]['linearized_likes'], # test\n",
    "                ab_test_data_1[ab_test_data_1['exp_group'] == 1]['linearized_likes'], # control\n",
    "                equal_var=False)"
   ]
  },
  {
   "cell_type": "markdown",
   "id": "bb9abef7-354b-4b4c-a81d-e06560d049a4",
   "metadata": {},
   "source": [
    "На линеаризированный лайках метрика прокрасилась, в отличии от поюзерного CTR.  \n",
    "На линеаризированный лайках p-value стало меньше на порядок."
   ]
  },
  {
   "cell_type": "markdown",
   "id": "f600480a-538a-444d-badd-3e9d9bda1104",
   "metadata": {
    "tags": []
   },
   "source": [
    "### Второй эксперимент"
   ]
  },
  {
   "cell_type": "code",
   "execution_count": 16,
   "id": "632f52ea-da5e-47e9-86fd-bf0c05afbcfe",
   "metadata": {},
   "outputs": [
    {
     "data": {
      "text/plain": [
       "Ttest_indResult(statistic=13.896870721904069, pvalue=1.055849414662529e-43)"
      ]
     },
     "execution_count": 16,
     "metadata": {},
     "output_type": "execute_result"
    }
   ],
   "source": [
    "# на поюзерном CTR\n",
    "stats.ttest_ind(ab_test_data_2[ab_test_data_2['exp_group'] == 3]['ctr'], # test\n",
    "                ab_test_data_2[ab_test_data_2['exp_group'] == 0]['ctr'], # control\n",
    "                equal_var=False)"
   ]
  },
  {
   "cell_type": "code",
   "execution_count": 17,
   "id": "f474d04d-9457-4338-bf89-2e680d3e28dc",
   "metadata": {},
   "outputs": [
    {
     "data": {
      "text/plain": [
       "Ttest_indResult(statistic=15.214995460903827, pvalue=5.4914249479690016e-52)"
      ]
     },
     "execution_count": 17,
     "metadata": {},
     "output_type": "execute_result"
    }
   ],
   "source": [
    "# на линеаризированных лайков\n",
    "stats.ttest_ind(ab_test_data_2[ab_test_data_2['exp_group'] == 3]['linearized_likes'], # test\n",
    "                ab_test_data_2[ab_test_data_2['exp_group'] == 0]['linearized_likes'], # control\n",
    "                equal_var=False)"
   ]
  },
  {
   "cell_type": "markdown",
   "id": "3a40c274-3887-4d22-b7f2-dfaaddd3587f",
   "metadata": {},
   "source": [
    "Обе метрики прокрасились.  \n",
    "На линеаризированный лайках p-value стало меньше на порядок."
   ]
  },
  {
   "cell_type": "markdown",
   "id": "3ede9f46-3f6c-4b43-a2a2-92da5f7e5b0a",
   "metadata": {},
   "source": [
    "Выглядит впечатляюще."
   ]
  },
  {
   "cell_type": "markdown",
   "id": "5a43075a-1cf4-4d15-922a-0204b3c7b96b",
   "metadata": {
    "tags": []
   },
   "source": [
    "### Интересно посмотреть еще тест Манна Уитни"
   ]
  },
  {
   "cell_type": "markdown",
   "id": "287b48ff-b809-4d0b-b8a7-3ab72db30d3e",
   "metadata": {
    "tags": []
   },
   "source": [
    "### Первый эксперимент"
   ]
  },
  {
   "cell_type": "code",
   "execution_count": 18,
   "id": "d4586a78-67fe-4090-b166-ce0e71b6197e",
   "metadata": {},
   "outputs": [
    {
     "data": {
      "text/plain": [
       "MannwhitneyuResult(statistic=43704947.5, pvalue=6.0376484617779035e-56)"
      ]
     },
     "execution_count": 18,
     "metadata": {},
     "output_type": "execute_result"
    }
   ],
   "source": [
    "stats.mannwhitneyu(ab_test_data_1[ab_test_data_1['exp_group'] == 2]['ctr'],\n",
    "                   ab_test_data_1[ab_test_data_1['exp_group'] == 1]['ctr'],\n",
    "                   alternative='two-sided')"
   ]
  },
  {
   "cell_type": "code",
   "execution_count": 19,
   "id": "fac6fa94-d0b1-4a72-8463-13b0fa44a75b",
   "metadata": {},
   "outputs": [
    {
     "data": {
      "text/plain": [
       "MannwhitneyuResult(statistic=45771671.0, pvalue=9.404319579641738e-27)"
      ]
     },
     "execution_count": 19,
     "metadata": {},
     "output_type": "execute_result"
    }
   ],
   "source": [
    "stats.mannwhitneyu(ab_test_data_1[ab_test_data_1['exp_group'] == 2]['linearized_likes'],\n",
    "                   ab_test_data_1[ab_test_data_1['exp_group'] == 1]['linearized_likes'],\n",
    "                   alternative='two-sided')"
   ]
  },
  {
   "cell_type": "markdown",
   "id": "2c9a0525-26de-4df2-9162-2d3fb8865ae6",
   "metadata": {
    "tags": []
   },
   "source": [
    "### Второй эксперимент"
   ]
  },
  {
   "cell_type": "code",
   "execution_count": 20,
   "id": "3c472c14-4695-4f4c-a273-da331610a244",
   "metadata": {},
   "outputs": [
    {
     "data": {
      "text/plain": [
       "MannwhitneyuResult(statistic=56797159.0, pvalue=1.1952055473582936e-57)"
      ]
     },
     "execution_count": 20,
     "metadata": {},
     "output_type": "execute_result"
    }
   ],
   "source": [
    "stats.mannwhitneyu(ab_test_data_2[ab_test_data_2['exp_group'] == 3]['ctr'], # test\n",
    "                   ab_test_data_2[ab_test_data_2['exp_group'] == 0]['ctr'], # control\n",
    "                   alternative='two-sided')"
   ]
  },
  {
   "cell_type": "code",
   "execution_count": 21,
   "id": "ffc1de11-9941-419e-a756-3ea76ad7e776",
   "metadata": {},
   "outputs": [
    {
     "data": {
      "text/plain": [
       "MannwhitneyuResult(statistic=57141625.0, pvalue=1.1517315029786597e-63)"
      ]
     },
     "execution_count": 21,
     "metadata": {},
     "output_type": "execute_result"
    }
   ],
   "source": [
    "stats.mannwhitneyu(ab_test_data_2[ab_test_data_2['exp_group'] == 3]['linearized_likes'], # test\n",
    "                   ab_test_data_2[ab_test_data_2['exp_group'] == 0]['linearized_likes'], # control\n",
    "                   alternative='two-sided')"
   ]
  },
  {
   "cell_type": "markdown",
   "id": "a186839c-412e-41d0-956d-689a0d44f2cb",
   "metadata": {},
   "source": [
    "В тестах Манна-Уитни p-value стало больше. Наверное это из-за того, что распределения немного изменились и стали более \"похожими\"."
   ]
  }
 ],
 "metadata": {
  "kernelspec": {
   "display_name": "Python 3",
   "language": "python",
   "name": "python3"
  },
  "language_info": {
   "codemirror_mode": {
    "name": "ipython",
    "version": 3
   },
   "file_extension": ".py",
   "mimetype": "text/x-python",
   "name": "python",
   "nbconvert_exporter": "python",
   "pygments_lexer": "ipython3",
   "version": "3.8.8"
  }
 },
 "nbformat": 4,
 "nbformat_minor": 5
}
