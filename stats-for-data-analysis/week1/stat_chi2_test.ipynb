{
 "cells": [
  {
   "cell_type": "markdown",
   "id": "3ef53929-2c84-45e8-9faf-38c28f483776",
   "metadata": {},
   "source": [
    "# Критерий согласия Пирсона Хи-квадрат"
   ]
  },
  {
   "cell_type": "code",
   "execution_count": 1,
   "id": "554efe36-49bd-4547-a727-fbca53cf63e8",
   "metadata": {},
   "outputs": [],
   "source": [
    "import numpy as np\n",
    "import pandas as pd\n",
    "\n",
    "from scipy import stats"
   ]
  },
  {
   "cell_type": "code",
   "execution_count": 2,
   "id": "715b6cb0-a2ab-405f-8ed6-a1600a3b1556",
   "metadata": {},
   "outputs": [
    {
     "name": "stdout",
     "output_type": "stream",
     "text": [
      "Populating the interactive namespace from numpy and matplotlib\n"
     ]
    }
   ],
   "source": [
    "%pylab inline"
   ]
  },
  {
   "cell_type": "markdown",
   "id": "46952a0e-cac8-4490-b208-66a5a0acf2c7",
   "metadata": {},
   "source": [
    "## Исчерпанная рождаемость"
   ]
  },
  {
   "cell_type": "markdown",
   "id": "094c1ff0-98fc-4358-9321-a813298cc51f",
   "metadata": {},
   "source": [
    "Исчерпанная рождаемость — количество детей, родившихся у женщины на момент окончания конвенционального репродуктивного возраста (45 лет). Для 1878 женщин старше 45, участвовавших в социологическом опросе жителей Швейцарии, известно количество детей. Этот признак — типичный счётчик, а, значит, его можно попробовать описать распределением Пуассона."
   ]
  },
  {
   "cell_type": "markdown",
   "id": "0c7276a1-0807-4079-b0e0-147ba5910739",
   "metadata": {},
   "source": [
    "* **выборка** - целочисленный вектор длиы $n$, характеризующий количество детей у опрашиваемой женщины\n",
    "* **гипотеза $H_0$** - рассматриваемая величина имеет распределение Пуассона"
   ]
  },
  {
   "cell_type": "code",
   "execution_count": 6,
   "id": "9517b825-b278-4db1-bb7e-3616eab3cb18",
   "metadata": {},
   "outputs": [],
   "source": [
    "df = pd.read_csv('./data/fertility.txt', header=None)"
   ]
  },
  {
   "cell_type": "code",
   "execution_count": 13,
   "id": "0acf1fc4-afb1-4cf5-829f-e3ffd7997536",
   "metadata": {},
   "outputs": [],
   "source": [
    "data = list(df[0].values)"
   ]
  },
  {
   "cell_type": "code",
   "execution_count": 14,
   "id": "6460ca6b-0433-45d8-927e-e919c803a92e",
   "metadata": {},
   "outputs": [
    {
     "data": {
      "text/plain": [
       "[0, 0, 2, 0, 2, 3, 2, 2, 2, 2, 1, 2, 0, 2, 0, 2, 3, 2, 2, 4]"
      ]
     },
     "execution_count": 14,
     "metadata": {},
     "output_type": "execute_result"
    }
   ],
   "source": [
    "data[:20]"
   ]
  },
  {
   "cell_type": "code",
   "execution_count": 17,
   "id": "ce8829f2-5af5-4b61-9443-18b8fda840b4",
   "metadata": {},
   "outputs": [
    {
     "data": {
      "image/png": "[encoded data removed]",
      "text/plain": [
       "<Figure size 432x288 with 1 Axes>"
      ]
     },
     "metadata": {
      "needs_background": "light"
     },
     "output_type": "display_data"
    }
   ],
   "source": [
    "pylab.bar(range(12), np.bincount(data), color='b', label='fertility_stat')\n",
    "pylab.legend();"
   ]
  },
  {
   "cell_type": "code",
   "execution_count": 19,
   "id": "74c196dc-e843-41e7-9e88-32bc8361bfae",
   "metadata": {},
   "outputs": [
    {
     "data": {
      "text/plain": [
       "1.93716719914803"
      ]
     },
     "execution_count": 19,
     "metadata": {},
     "output_type": "execute_result"
    }
   ],
   "source": [
    "# лучшая оценка lambda для распределения пуассона - выборочное среднее\n",
    "l = np.mean(data)\n",
    "l"
   ]
  },
  {
   "cell_type": "markdown",
   "id": "b60239f8-fcd2-4b4c-bfb0-106ddc6953eb",
   "metadata": {},
   "source": [
    "## Критерий согласия"
   ]
  },
  {
   "cell_type": "code",
   "execution_count": 20,
   "id": "a495a90c-853e-4cec-b474-972b27b0319a",
   "metadata": {},
   "outputs": [
    {
     "data": {
      "text/plain": [
       "array([379, 262, 684, 353, 128,  35,  16,   8,  10,   1,   1,   1])"
      ]
     },
     "execution_count": 20,
     "metadata": {},
     "output_type": "execute_result"
    }
   ],
   "source": [
    "observed_frequences = np.bincount(data)\n",
    "observed_frequences"
   ]
  },
  {
   "cell_type": "code",
   "execution_count": 21,
   "id": "e9915777-7570-43db-b186-0a0fa757cdc1",
   "metadata": {},
   "outputs": [
    {
     "data": {
      "text/plain": [
       "[270.6416065637888,\n",
       " 524.2780429600978,\n",
       " 507.80711402791167,\n",
       " 327.9024282629646,\n",
       " 158.80045713800124,\n",
       " 61.52460735548975,\n",
       " 19.863908551586047,\n",
       " 5.49710172757265,\n",
       " 1.3311006446292126,\n",
       " 0.28650716750450117,\n",
       " 0.055501228721053016,\n",
       " 0.009774105435530582]"
      ]
     },
     "execution_count": 21,
     "metadata": {},
     "output_type": "execute_result"
    }
   ],
   "source": [
    "expected_frequences = [len(data) * stats.poisson.pmf(x, l) for x in range(min(data), max(data) + 1)]\n",
    "expected_frequences"
   ]
  },
  {
   "cell_type": "code",
   "execution_count": 22,
   "id": "87bb69d2-bff6-412b-8439-fe8d6ac3c07e",
   "metadata": {},
   "outputs": [
    {
     "data": {
      "image/png": "[encoded data removed]",
      "text/plain": [
       "<Figure size 432x288 with 1 Axes>"
      ]
     },
     "metadata": {
      "needs_background": "light"
     },
     "output_type": "display_data"
    }
   ],
   "source": [
    "pylab.bar(range(len(expected_frequences)), expected_frequences, color='b', label='poisson_distr')\n",
    "pylab.legend();"
   ]
  },
  {
   "cell_type": "markdown",
   "id": "40acae62-8102-4718-b2f8-d4782f855f9d",
   "metadata": {},
   "source": [
    "Статистика критерия хи-квадрат: $$\\chi^2=\\sum_{i=1}^K \\frac{\\left(n_i- np_i\\right)^2}{np_i}$$\n",
    "При справедливости нулевой гипотезы имеет распределение хи-квадрат с числом степеней свободы $K-1-m$, где $m$ - число параметров распределения, оцененных по выборке."
   ]
  },
  {
   "cell_type": "code",
   "execution_count": 23,
   "id": "f95680c3-1a45-468f-aaa8-5680d7446746",
   "metadata": {},
   "outputs": [
    {
     "data": {
      "text/plain": [
       "Power_divergenceResult(statistic=431.5752205284916, pvalue=1.772613180233512e-86)"
      ]
     },
     "execution_count": 23,
     "metadata": {},
     "output_type": "execute_result"
    }
   ],
   "source": [
    "stats.chisquare(observed_frequences, expected_frequences, ddof=1)"
   ]
  },
  {
   "cell_type": "markdown",
   "id": "45c2b790-7fcf-4206-bc32-10ccb8ec426d",
   "metadata": {},
   "source": [
    "Получили очень маленькое значение p-value, из этого можно сделать вывод, что наши данные не имеют распределения Пуассона с лямбдой = 1.94"
   ]
  },
  {
   "cell_type": "code",
   "execution_count": null,
   "id": "4583818b-d976-442a-9b93-bb8fd5db0a01",
   "metadata": {},
   "outputs": [],
   "source": []
  }
 ],
 "metadata": {
  "kernelspec": {
   "display_name": "Python 3",
   "language": "python",
   "name": "python3"
  },
  "language_info": {
   "codemirror_mode": {
    "name": "ipython",
    "version": 3
   },
   "file_extension": ".py",
   "mimetype": "text/x-python",
   "name": "python",
   "nbconvert_exporter": "python",
   "pygments_lexer": "ipython3",
   "version": "3.8.8"
  }
 },
 "nbformat": 4,
 "nbformat_minor": 5
}
