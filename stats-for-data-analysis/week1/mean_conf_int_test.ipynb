{
 "cells": [
  {
   "cell_type": "code",
   "execution_count": 37,
   "id": "a2c6e93a-3dd2-446e-b200-eb6bcd2d18bf",
   "metadata": {},
   "outputs": [],
   "source": [
    "import typing\n",
    "\n",
    "import pandas as pd\n",
    "import numpy as np\n",
    "\n",
    "from statsmodels.stats.weightstats import _tconfint_generic"
   ]
  },
  {
   "cell_type": "code",
   "execution_count": 11,
   "id": "ea7d9fab-93c3-4cd6-9c43-395463038b8e",
   "metadata": {},
   "outputs": [
    {
     "name": "stdout",
     "output_type": "stream",
     "text": [
      "Populating the interactive namespace from numpy and matplotlib\n"
     ]
    }
   ],
   "source": [
    "%pylab inline"
   ]
  },
  {
   "cell_type": "code",
   "execution_count": 43,
   "id": "77f355ce-4211-42ac-a472-9cfc8e2e3a81",
   "metadata": {},
   "outputs": [],
   "source": [
    "def conf_int(feature: pd.Series, alpha : float = 0.05) -> typing.Tuple[np.float64, np.float64]:\n",
    "    feature_mean = feature.mean()\n",
    "    feature_mean_std = feature.std(ddof=1) / sqrt(len(feature))\n",
    "    \n",
    "    return _tconfint_generic(mean=feature_mean,\n",
    "                             std_mean=feature_mean_std,\n",
    "                             dof=len(feature) - 1,\n",
    "                             alpha=alpha, \n",
    "                             alternative='two-sided'\n",
    "                            )"
   ]
  },
  {
   "cell_type": "markdown",
   "id": "e666fa5f-5a02-43e2-8868-272f3fe6ef38",
   "metadata": {},
   "source": [
    "## Данные\n",
    "Для 61 большого города в Англии и Уэльсе известны средняя годовая смертность на 100000 населения (по данным 1958–1964) и концентрация кальция в питьевой воде (в частях на миллион). Чем выше концентрация кальция, тем жёстче вода. Города дополнительно поделены на северные и южные."
   ]
  },
  {
   "cell_type": "code",
   "execution_count": 2,
   "id": "de1a87d8-63fc-41ea-b5f5-d68d626d9720",
   "metadata": {},
   "outputs": [],
   "source": [
    "data_path = './data/water.txt'"
   ]
  },
  {
   "cell_type": "code",
   "execution_count": 3,
   "id": "936b20d6-a56c-468e-902d-9d5f1afa747d",
   "metadata": {},
   "outputs": [],
   "source": [
    "water_data = pd.read_table(data_path)"
   ]
  },
  {
   "cell_type": "code",
   "execution_count": 4,
   "id": "7fdbb8ea-b447-4a9c-b31c-cca2a8644c59",
   "metadata": {},
   "outputs": [
    {
     "data": {
      "text/html": [
       "<div>\n",
       "<style scoped>\n",
       "    .dataframe tbody tr th:only-of-type {\n",
       "        vertical-align: middle;\n",
       "    }\n",
       "\n",
       "    .dataframe tbody tr th {\n",
       "        vertical-align: top;\n",
       "    }\n",
       "\n",
       "    .dataframe thead th {\n",
       "        text-align: right;\n",
       "    }\n",
       "</style>\n",
       "<table border=\"1\" class=\"dataframe\">\n",
       "  <thead>\n",
       "    <tr style=\"text-align: right;\">\n",
       "      <th></th>\n",
       "      <th>location</th>\n",
       "      <th>town</th>\n",
       "      <th>mortality</th>\n",
       "      <th>hardness</th>\n",
       "    </tr>\n",
       "  </thead>\n",
       "  <tbody>\n",
       "    <tr>\n",
       "      <th>0</th>\n",
       "      <td>South</td>\n",
       "      <td>Bath</td>\n",
       "      <td>1247</td>\n",
       "      <td>105</td>\n",
       "    </tr>\n",
       "    <tr>\n",
       "      <th>1</th>\n",
       "      <td>North</td>\n",
       "      <td>Birkenhead</td>\n",
       "      <td>1668</td>\n",
       "      <td>17</td>\n",
       "    </tr>\n",
       "    <tr>\n",
       "      <th>2</th>\n",
       "      <td>South</td>\n",
       "      <td>Birmingham</td>\n",
       "      <td>1466</td>\n",
       "      <td>5</td>\n",
       "    </tr>\n",
       "    <tr>\n",
       "      <th>3</th>\n",
       "      <td>North</td>\n",
       "      <td>Blackburn</td>\n",
       "      <td>1800</td>\n",
       "      <td>14</td>\n",
       "    </tr>\n",
       "    <tr>\n",
       "      <th>4</th>\n",
       "      <td>North</td>\n",
       "      <td>Blackpool</td>\n",
       "      <td>1609</td>\n",
       "      <td>18</td>\n",
       "    </tr>\n",
       "  </tbody>\n",
       "</table>\n",
       "</div>"
      ],
      "text/plain": [
       "  location        town  mortality  hardness\n",
       "0    South        Bath       1247       105\n",
       "1    North  Birkenhead       1668        17\n",
       "2    South  Birmingham       1466         5\n",
       "3    North   Blackburn       1800        14\n",
       "4    North   Blackpool       1609        18"
      ]
     },
     "execution_count": 4,
     "metadata": {},
     "output_type": "execute_result"
    }
   ],
   "source": [
    "water_data.head()"
   ]
  },
  {
   "cell_type": "code",
   "execution_count": 15,
   "id": "7a799890-36cd-438d-9062-b2087f416df3",
   "metadata": {},
   "outputs": [
    {
     "data": {
      "text/plain": [
       "location     0\n",
       "town         0\n",
       "mortality    0\n",
       "hardness     0\n",
       "dtype: int64"
      ]
     },
     "execution_count": 15,
     "metadata": {},
     "output_type": "execute_result"
    }
   ],
   "source": [
    "water_data.isna().sum()"
   ]
  },
  {
   "cell_type": "code",
   "execution_count": 24,
   "id": "435a7f40-4686-4bcb-b6c7-991709985c08",
   "metadata": {},
   "outputs": [
    {
     "data": {
      "text/plain": [
       "(61, 4)"
      ]
     },
     "execution_count": 24,
     "metadata": {},
     "output_type": "execute_result"
    }
   ],
   "source": [
    "water_data.shape"
   ]
  },
  {
   "cell_type": "code",
   "execution_count": 30,
   "id": "7c555d37-012f-42f9-9a04-ac2f6b613525",
   "metadata": {},
   "outputs": [
    {
     "data": {
      "text/plain": [
       "North    35\n",
       "South    26\n",
       "Name: location, dtype: int64"
      ]
     },
     "execution_count": 30,
     "metadata": {},
     "output_type": "execute_result"
    }
   ],
   "source": [
    "water_data['location'].value_counts()"
   ]
  },
  {
   "cell_type": "markdown",
   "id": "3a0264c5-7af9-471f-835c-cda16bf41d34",
   "metadata": {},
   "source": [
    "### Построим 95% доверительный интервал для средней годовой смертности в больших городах\n",
    "Построим t-интервал  \n",
    "$$\\bar{X}_n \\pm t_{1-\\frac{\\alpha}{2}} \\frac{S}{\\sqrt{n}}$$"
   ]
  },
  {
   "cell_type": "code",
   "execution_count": 48,
   "id": "c79fb7b8-b6eb-49fd-b9fd-3565041f5780",
   "metadata": {},
   "outputs": [],
   "source": [
    "mortality_conf_int_l, mortality_conf_int_u = conf_int(water_data['mortality'])"
   ]
  },
  {
   "cell_type": "code",
   "execution_count": 49,
   "id": "3f9054f6-7197-46c6-9b70-c971a45bd967",
   "metadata": {},
   "outputs": [
    {
     "name": "stdout",
     "output_type": "stream",
     "text": [
      "Mortality mean 95%% confidence interval (1476.0833413552848, 1572.2117406119285)\n"
     ]
    }
   ],
   "source": [
    "print(f'Mortality mean 95%% confidence interval ({mortality_conf_int_l}, {mortality_conf_int_u})')"
   ]
  },
  {
   "cell_type": "markdown",
   "id": "908a654e-35c2-420e-9a2b-1435b2393d73",
   "metadata": {},
   "source": [
    "### Построим 95% доверительный интервал для средней годовой смертности по всем южным городам"
   ]
  },
  {
   "cell_type": "code",
   "execution_count": 25,
   "id": "59e19fda-c9d9-46e6-aef6-195f6869a7fb",
   "metadata": {},
   "outputs": [],
   "source": [
    "south_water_data = water_data.query(\"location == 'South'\")"
   ]
  },
  {
   "cell_type": "code",
   "execution_count": 50,
   "id": "3187cf3e-0f2a-4cfe-9094-b3d9c1262e21",
   "metadata": {},
   "outputs": [],
   "source": [
    "south_mortality_conf_int_l, south_mortality_conf_int_u = conf_int(south_water_data['mortality'])"
   ]
  },
  {
   "cell_type": "code",
   "execution_count": 29,
   "id": "11264f58-e917-45d1-b33d-180fd04de129",
   "metadata": {},
   "outputs": [
    {
     "name": "stdout",
     "output_type": "stream",
     "text": [
      "Mortality on South mean 95%% confidence interval (1320.1517462936238, 1433.463638321761)\n"
     ]
    }
   ],
   "source": [
    "print(f'Mortality on South mean 95%% confidence interval ({south_mortality_conf_int_l}, {south_mortality_conf_int_u})')"
   ]
  },
  {
   "cell_type": "markdown",
   "id": "77215c74-4bbc-487b-ae38-e22380d86555",
   "metadata": {},
   "source": [
    "### Построим 95% доверительный интервал для средней годовой смертности по всем северным городам"
   ]
  },
  {
   "cell_type": "code",
   "execution_count": 31,
   "id": "422e0756-b65d-4054-9d3a-46c87dfe2eaf",
   "metadata": {},
   "outputs": [],
   "source": [
    "north_water_data = water_data.query(\"location == 'North'\")"
   ]
  },
  {
   "cell_type": "code",
   "execution_count": 52,
   "id": "97e9d2bf-5e03-42f2-84ea-6f22d9893293",
   "metadata": {},
   "outputs": [],
   "source": [
    "north_mortality_conf_int_l, north_mortality_conf_int_u = conf_int(north_water_data['mortality'])"
   ]
  },
  {
   "cell_type": "code",
   "execution_count": 35,
   "id": "3a63ca37-3e74-4e02-8489-604466aafe34",
   "metadata": {},
   "outputs": [
    {
     "name": "stdout",
     "output_type": "stream",
     "text": [
      "Mortality on North mean 95%% confidence interval (1586.5605251961385, 1680.6394748038613)\n"
     ]
    }
   ],
   "source": [
    "print(f'Mortality on North mean 95%% confidence interval ({north_mortality_conf_int_l}, {north_mortality_conf_int_u})')"
   ]
  },
  {
   "cell_type": "markdown",
   "id": "114cc37b-27c3-41d3-b763-89ce435ac5e7",
   "metadata": {},
   "source": [
    "### Построим 95% доверительные интервалы для средней жёсткости воды в северных и южных городах"
   ]
  },
  {
   "cell_type": "code",
   "execution_count": 54,
   "id": "7e04983a-55e0-4204-8d61-02d78f9e40ac",
   "metadata": {},
   "outputs": [],
   "source": [
    "south_hardness_conf_int_l, south_hardness_conf_int_u = conf_int(south_water_data['hardness'])"
   ]
  },
  {
   "cell_type": "code",
   "execution_count": 55,
   "id": "063aea69-6498-4f52-b415-4c8f8c7d7722",
   "metadata": {},
   "outputs": [
    {
     "name": "stdout",
     "output_type": "stream",
     "text": [
      "Hardness on South mean 95%% confidence interval (53.467198692036106, 86.07126284642544)\n"
     ]
    }
   ],
   "source": [
    "print(f'Hardness on South mean 95%% confidence interval ({south_hardness_conf_int_l}, {south_hardness_conf_int_u})')"
   ]
  },
  {
   "cell_type": "code",
   "execution_count": 56,
   "id": "0fd1f979-c42a-4b83-b13c-c0a6319ec5d8",
   "metadata": {},
   "outputs": [],
   "source": [
    "north_hardness_conf_int_l, north_hardness_conf_int_u = conf_int(north_water_data['hardness'])"
   ]
  },
  {
   "cell_type": "code",
   "execution_count": 57,
   "id": "b4167ea1-0906-4a72-87c7-c8d38d009b51",
   "metadata": {},
   "outputs": [
    {
     "name": "stdout",
     "output_type": "stream",
     "text": [
      "Hardness on North mean 95%% confidence interval (21.42248728572426, 39.37751271427574)\n"
     ]
    }
   ],
   "source": [
    "print(f'Hardness on North mean 95%% confidence interval ({north_hardness_conf_int_l}, {north_hardness_conf_int_u})')"
   ]
  },
  {
   "cell_type": "code",
   "execution_count": null,
   "id": "6f1e3900-04ca-434e-87d8-641183e1324f",
   "metadata": {},
   "outputs": [],
   "source": []
  }
 ],
 "metadata": {
  "kernelspec": {
   "display_name": "Python 3",
   "language": "python",
   "name": "python3"
  },
  "language_info": {
   "codemirror_mode": {
    "name": "ipython",
    "version": 3
   },
   "file_extension": ".py",
   "mimetype": "text/x-python",
   "name": "python",
   "nbconvert_exporter": "python",
   "pygments_lexer": "ipython3",
   "version": "3.8.8"
  }
 },
 "nbformat": 4,
 "nbformat_minor": 5
}
