{
 "cells": [
  {
   "cell_type": "markdown",
   "id": "ce2f34a8-7fbc-4209-8e49-2fa5249b1282",
   "metadata": {},
   "source": [
    "# Доверительные интервалы для доли"
   ]
  },
  {
   "cell_type": "markdown",
   "id": "5a119e2b-dd15-4e91-bc0d-37750e93785b",
   "metadata": {},
   "source": [
    "## Генерация данных "
   ]
  },
  {
   "cell_type": "code",
   "execution_count": 2,
   "id": "1d9fd42d-c333-40fd-9f05-f08d0a5353e8",
   "metadata": {},
   "outputs": [],
   "source": [
    "import numpy as np\n",
    "from functools import partial"
   ]
  },
  {
   "cell_type": "code",
   "execution_count": 3,
   "id": "d28d5f6b-5c0a-49a8-8d6d-514739c97887",
   "metadata": {},
   "outputs": [],
   "source": [
    "np.random.seed(1)"
   ]
  },
  {
   "cell_type": "code",
   "execution_count": 12,
   "id": "fef9f0d9-6f0e-4ce4-9b3c-5f66b46ba39b",
   "metadata": {},
   "outputs": [],
   "source": [
    "# генеральная совокупность, состоящая из бинарных событий {0, 1} (успех, не успех)\n",
    "# например, доля кликов по баннеру CTR\n",
    "statistical_population = np.random.randint(2, size=100000)"
   ]
  },
  {
   "cell_type": "code",
   "execution_count": 6,
   "id": "cb73de76-07ac-43ba-a428-0d35a62f0b33",
   "metadata": {},
   "outputs": [
    {
     "data": {
      "text/plain": [
       "array([1, 1, 0, 0, 1])"
      ]
     },
     "execution_count": 6,
     "metadata": {},
     "output_type": "execute_result"
    }
   ],
   "source": [
    "statistical_population[:5]"
   ]
  },
  {
   "cell_type": "code",
   "execution_count": 7,
   "id": "4de01cd2-cf62-4a06-8bac-26ea0cfb5a5a",
   "metadata": {},
   "outputs": [],
   "source": [
    "random_sample = np.random.choice(statistical_population, size=1000)"
   ]
  },
  {
   "cell_type": "code",
   "execution_count": 8,
   "id": "36bd013c-2387-41fe-97a9-a3e518506f98",
   "metadata": {},
   "outputs": [
    {
     "data": {
      "text/plain": [
       "0.49771"
      ]
     },
     "execution_count": 8,
     "metadata": {},
     "output_type": "execute_result"
    }
   ],
   "source": [
    "# мат ожидание г.с.\n",
    "statistical_population.mean()"
   ]
  },
  {
   "cell_type": "markdown",
   "id": "faf38aa1-d73c-4739-a237-c9d68ce6b0c9",
   "metadata": {},
   "source": [
    "## Точечная оценка доли\n",
    "Оценка доли успехов по предварительным данным"
   ]
  },
  {
   "cell_type": "code",
   "execution_count": 9,
   "id": "d6b11cab-e352-4b48-ba92-5d46d43be649",
   "metadata": {},
   "outputs": [
    {
     "data": {
      "text/plain": [
       "0.502"
      ]
     },
     "execution_count": 9,
     "metadata": {},
     "output_type": "execute_result"
    }
   ],
   "source": [
    "random_sample.mean()"
   ]
  },
  {
   "cell_type": "markdown",
   "id": "738af89c-4656-445c-bfd0-17c3eabbdc16",
   "metadata": {},
   "source": [
    "## Доверительный интервал для доли"
   ]
  },
  {
   "cell_type": "code",
   "execution_count": 10,
   "id": "62045399-3b67-4e4d-b881-8d5068c54a7e",
   "metadata": {},
   "outputs": [],
   "source": [
    "from statsmodels.stats.proportion import proportion_confint"
   ]
  },
  {
   "cell_type": "markdown",
   "id": "f263da3e-aca6-4b59-b2f9-c8275951ecfe",
   "metadata": {},
   "source": [
    "### Доверительный интервал на основе нормального распределения\n",
    "Используя ЦПТ"
   ]
  },
  {
   "cell_type": "markdown",
   "id": "478cd4e2-d0a1-4dfd-867c-3163820f87d5",
   "metadata": {},
   "source": [
    "$$\\hat{p}\\pm z_{1-\\frac{\\alpha}{2}} \\sqrt{\\frac{\\hat{p}\\left(1-\\hat{p}\\right)}{n}}$$"
   ]
  },
  {
   "cell_type": "code",
   "execution_count": 13,
   "id": "9443cb60-8ec6-46c0-9b58-e4252a6de624",
   "metadata": {},
   "outputs": [],
   "source": [
    "normal_interval = proportion_confint(count=sum(random_sample),\n",
    "                                     nobs=len(random_sample),\n",
    "                                     method='normal'\n",
    "                                    )"
   ]
  },
  {
   "cell_type": "code",
   "execution_count": 18,
   "id": "b5b4b834-64a6-45a0-b616-d9280cfc6d9d",
   "metadata": {},
   "outputs": [
    {
     "name": "stdout",
     "output_type": "stream",
     "text": [
      "normal_interval [0.47101, 0.53299] with width 0.062\n"
     ]
    }
   ],
   "source": [
    "print(\n",
    "    f\"normal_interval [{normal_interval[0]:.5f}, {normal_interval[1]:.5f}] \"\n",
    "    f\"with width {normal_interval[1] - normal_interval[0]:.3f}\"\n",
    ")"
   ]
  },
  {
   "cell_type": "markdown",
   "id": "1f82e350-e3cf-4a40-a4cc-39f24543348a",
   "metadata": {},
   "source": [
    "### Доверительный интервал Уилсона\n",
    "Улучшение предыдущего метода. Позваоляет получать качественные оценки в крайних случаях, т.е. когда доля близка к 0 или к 1. И когда выборка довольно мала.      \n",
    "\n",
    "\n",
    "$$\\frac1{ 1 + \\frac{z^2}{n} } \\left( \\hat{p} + \\frac{z^2}{2n} \\pm z \\sqrt{ \\frac{ \\hat{p}\\left(1-\\hat{p}\\right)}{n} + \\frac{z^2}{4n^2} } \\right), \\;\\; z \\equiv z_{1-\\frac{\\alpha}{2}}$$"
   ]
  },
  {
   "cell_type": "code",
   "execution_count": 19,
   "id": "54b28e45-274e-4b38-80a7-de0829dee7ce",
   "metadata": {},
   "outputs": [],
   "source": [
    "wilson_interval = proportion_confint(count=sum(random_sample),\n",
    "                                     nobs=len(random_sample),\n",
    "                                     method='wilson'\n",
    "                                    )"
   ]
  },
  {
   "cell_type": "code",
   "execution_count": 20,
   "id": "3c25d3c6-3adc-42b8-9b3e-9e09fae4a62b",
   "metadata": {},
   "outputs": [
    {
     "name": "stdout",
     "output_type": "stream",
     "text": [
      "wilson_interval [0.47106, 0.53292] with width 0.062\n"
     ]
    }
   ],
   "source": [
    "print(\n",
    "    f\"wilson_interval [{wilson_interval[0]:.5f}, {wilson_interval[1]:.5f}] \"\n",
    "    f\"with width {wilson_interval[1] - wilson_interval[0]:.3f}\"\n",
    ")"
   ]
  },
  {
   "cell_type": "markdown",
   "id": "3d76e098-7166-49c2-b708-10bd7f32e94d",
   "metadata": {},
   "source": [
    "## Размер выборки для интервала заданной ширины\n",
    "Сколько событий нам надо знать, чтобы оценить долю с достаточной точностью?"
   ]
  },
  {
   "cell_type": "code",
   "execution_count": 22,
   "id": "0685e513-a145-44d5-a9ba-731030d7b989",
   "metadata": {},
   "outputs": [],
   "source": [
    "from statsmodels.stats.proportion import samplesize_confint_proportion"
   ]
  },
  {
   "cell_type": "code",
   "execution_count": 25,
   "id": "56000af0-6bb7-44ef-83b0-c3774a8c40b2",
   "metadata": {},
   "outputs": [
    {
     "data": {
      "text/plain": [
       "9603"
      ]
     },
     "execution_count": 25,
     "metadata": {},
     "output_type": "execute_result"
    }
   ],
   "source": [
    "# хотим получить интервал шириной 0.2\n",
    "# для этого нужно указать половину ширины интервала 0.1\n",
    "\n",
    "n_samples = int(samplesize_confint_proportion(random_sample.mean(), 0.01))\n",
    "n_samples"
   ]
  },
  {
   "cell_type": "code",
   "execution_count": 27,
   "id": "8009af5b-15bd-428e-9086-69fb6ff57707",
   "metadata": {},
   "outputs": [],
   "source": [
    "# перегенерируем выборку с заданным количеством событий\n",
    "np.random.seed(1)\n",
    "random_sample = np.random.choice(statistical_population, size=n_samples)"
   ]
  },
  {
   "cell_type": "code",
   "execution_count": 28,
   "id": "cdef5221-0d20-4116-a5a9-47684ffa811a",
   "metadata": {},
   "outputs": [],
   "source": [
    "normal_interval = proportion_confint(count=sum(random_sample),\n",
    "                                     nobs=len(random_sample),\n",
    "                                     method='normal'\n",
    "                                    )"
   ]
  },
  {
   "cell_type": "code",
   "execution_count": 29,
   "id": "5d969bfe-81df-4a81-b71d-86b0b51dafe9",
   "metadata": {},
   "outputs": [
    {
     "name": "stdout",
     "output_type": "stream",
     "text": [
      "normal_interval [0.49359, 0.51359] with width 0.020\n"
     ]
    }
   ],
   "source": [
    "print(\n",
    "    f\"normal_interval [{normal_interval[0]:.5f}, {normal_interval[1]:.5f}] \"\n",
    "    f\"with width {normal_interval[1] - normal_interval[0]:.3f}\"\n",
    ")"
   ]
  },
  {
   "cell_type": "code",
   "execution_count": null,
   "id": "e71057ae-478d-402f-9bb9-093af765ec83",
   "metadata": {},
   "outputs": [],
   "source": [
    "# а чо делать с уровнем доверия?"
   ]
  }
 ],
 "metadata": {
  "kernelspec": {
   "display_name": "Python 3",
   "language": "python",
   "name": "python3"
  },
  "language_info": {
   "codemirror_mode": {
    "name": "ipython",
    "version": 3
   },
   "file_extension": ".py",
   "mimetype": "text/x-python",
   "name": "python",
   "nbconvert_exporter": "python",
   "pygments_lexer": "ipython3",
   "version": "3.8.8"
  }
 },
 "nbformat": 4,
 "nbformat_minor": 5
}
