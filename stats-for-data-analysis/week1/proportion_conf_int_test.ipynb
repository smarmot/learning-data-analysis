{
 "cells": [
  {
   "cell_type": "markdown",
   "id": "df008566-6c25-4849-bbf4-c6671ea77ad5",
   "metadata": {},
   "source": [
    "### Задание 2"
   ]
  },
  {
   "cell_type": "markdown",
   "id": "c7e55dc3-bbd5-45fb-a985-b3ae6a605191",
   "metadata": {},
   "source": [
    "Большая часть млекопитающих неспособны во взрослом возрасте переваривать лактозу, содержащуюся в молоке. У людей за расщепление лактозы отвечает фермент лактаза, кодируемый геном LCT. У людей с вариантом 13910T этого гена лактаза продолжает функционировать на протяжении всей жизни. Распределение этого варианта гена сильно варьируется в различных генетических популяциях.    \n",
    "\n",
    "Из 50 исследованных представителей народа майя вариант 13910T был обнаружен у одного. Постройте нормальный 95% доверительный интервал для доли носителей варианта 13910T в популяции майя. Чему равна его нижняя граница? Округлите ответ до 4 знаков после десятичной точки."
   ]
  },
  {
   "cell_type": "markdown",
   "id": "9685cef6-84d6-4dfa-af3c-af67f5e215c7",
   "metadata": {},
   "source": [
    "### Доверительный интервал на основе нормального распределения\n",
    "Используя ЦПТ"
   ]
  },
  {
   "cell_type": "markdown",
   "id": "e1a9bd89-b479-47af-9c1f-d095fab29365",
   "metadata": {},
   "source": [
    "$$\\hat{p}\\pm z_{1-\\frac{\\alpha}{2}} \\sqrt{\\frac{\\hat{p}\\left(1-\\hat{p}\\right)}{n}}$$"
   ]
  },
  {
   "cell_type": "raw",
   "id": "6f616c52-666b-425c-b5cb-fc1a99386326",
   "metadata": {},
   "source": [
    "from statsmodels.stats.proportion import proportion_confint"
   ]
  },
  {
   "cell_type": "code",
   "execution_count": 10,
   "id": "1a2e9a18-2696-4f47-b1b3-0d6bd0e5cf86",
   "metadata": {},
   "outputs": [],
   "source": [
    "import numpy as np\n",
    "import scipy.stats"
   ]
  },
  {
   "cell_type": "code",
   "execution_count": 7,
   "id": "d60f4e77-e965-4c6c-8341-d3274d66e21a",
   "metadata": {},
   "outputs": [],
   "source": [
    "alpha = 0.05\n",
    "z = scipy.stats.norm.ppf(1 - alpha / 2)"
   ]
  },
  {
   "cell_type": "code",
   "execution_count": 24,
   "id": "fcab197f-7e9f-45a8-88d9-4cedf7880acc",
   "metadata": {},
   "outputs": [
    {
     "data": {
      "text/plain": [
       "0.02"
      ]
     },
     "execution_count": 24,
     "metadata": {},
     "output_type": "execute_result"
    }
   ],
   "source": [
    "n = 50\n",
    "a = 1\n",
    "p_a = a / n\n",
    "p_a"
   ]
  },
  {
   "cell_type": "code",
   "execution_count": 11,
   "id": "8a8c09e9-9907-4342-a1a5-ef0bedc36a87",
   "metadata": {},
   "outputs": [],
   "source": [
    "left_boundary = p_a - z * np.sqrt(p_a * (1 - p_a) / n)\n",
    "right_boundary = p_a + z * np.sqrt(p_a * (1 - p_a) / n)"
   ]
  },
  {
   "cell_type": "code",
   "execution_count": 14,
   "id": "f5bfb7c9-3bfb-4afe-b587-168f598ebee7",
   "metadata": {},
   "outputs": [
    {
     "name": "stdout",
     "output_type": "stream",
     "text": [
      "Interval: [-0.01881, 0.05881]\n"
     ]
    }
   ],
   "source": [
    "print(f\"Interval: [{left_boundary:.5f}, {right_boundary:.5f}]\")"
   ]
  },
  {
   "cell_type": "code",
   "execution_count": 51,
   "id": "19595f51-950d-4734-96f6-65b7c6ec3f99",
   "metadata": {},
   "outputs": [
    {
     "data": {
      "text/plain": [
       "(0.0, 0.05880530708179099)"
      ]
     },
     "execution_count": 51,
     "metadata": {},
     "output_type": "execute_result"
    }
   ],
   "source": [
    "# из ответов\n",
    "from statsmodels.stats.proportion import proportion_confint\n",
    "proportion_confint(1, 50, method = 'normal')"
   ]
  },
  {
   "cell_type": "markdown",
   "id": "ec9a3a3f-06d1-443f-b67f-311c187e3e61",
   "metadata": {},
   "source": [
    "### Задание 3\n",
    "В условиях предыдущей задачи постройте 95% доверительный интервал Уилсона для доли носителей варианта 13910T в популяции майя. Чему равна его нижняя граница? Округлите ответ до 4 знаков после десятичной точки. "
   ]
  },
  {
   "cell_type": "markdown",
   "id": "55415f67-f0d2-4310-8bfa-44591956de08",
   "metadata": {},
   "source": [
    "### Доверительный интервал Уилсона\n",
    "Улучшение предыдущего метода. Позваоляет получать качественные оценки в крайних случаях, т.е. когда доля близка к 0 или к 1. И когда выборка довольно мала.      \n",
    "\n",
    "\n",
    "$$\\frac1{ 1 + \\frac{z^2}{n} } \\left( \\hat{p} + \\frac{z^2}{2n} \\pm z \\sqrt{ \\frac{ \\hat{p}\\left(1-\\hat{p}\\right)}{n} + \\frac{z^2}{4n^2} } \\right), \\;\\; z \\equiv z_{1-\\frac{\\alpha}{2}}$$"
   ]
  },
  {
   "cell_type": "code",
   "execution_count": 15,
   "id": "6903032c-4386-4acf-b77a-f73275f4fb65",
   "metadata": {},
   "outputs": [],
   "source": [
    "big_sqrt = np.sqrt(p_a * (1 - p_a) / n + z ** 2 / (4 * n ** 2))\n",
    "\n",
    "left_boundary_w = 1 / (1 + z ** 2 / n) * (p_a + z ** 2 / (2 * n) - z * big_sqrt)\n",
    "right_boundary_w = 1 / (1 + z ** 2 / n) * (p_a + z ** 2 / (2 * n) + z * big_sqrt)"
   ]
  },
  {
   "cell_type": "code",
   "execution_count": 23,
   "id": "0a67b47d-f5bf-473e-a4e0-1ca2d06738b2",
   "metadata": {},
   "outputs": [
    {
     "name": "stdout",
     "output_type": "stream",
     "text": [
      "Interval: [0.00354, 0.10495]\n"
     ]
    }
   ],
   "source": [
    "print(f\"Interval: [{left_boundary_w:.5f}, {right_boundary_w:.5f}]\")"
   ]
  },
  {
   "cell_type": "code",
   "execution_count": 52,
   "id": "513c7593-0c92-4eb3-935d-f901937bb5b3",
   "metadata": {},
   "outputs": [
    {
     "data": {
      "text/plain": [
       "(0.003539259271646236, 0.10495443589637815)"
      ]
     },
     "execution_count": 52,
     "metadata": {},
     "output_type": "execute_result"
    }
   ],
   "source": [
    "# из ответов\n",
    "from statsmodels.stats.proportion import proportion_confint\n",
    "proportion_confint(1, 50, method = 'wilson')"
   ]
  },
  {
   "cell_type": "markdown",
   "id": "0529685f-7cc2-42db-86d3-166149461e06",
   "metadata": {},
   "source": [
    "### Задание 5\n",
    "Пусть в популяции майя действительно 2% носителей варианта 13910T, как в выборке, которую мы исследовали. Какой объём выборки нужен, чтобы с помощью нормального интервала оценить долю носителей гена 13910T с точностью ±0.01 на уровне доверия 95%?"
   ]
  },
  {
   "cell_type": "code",
   "execution_count": 25,
   "id": "064e0e8c-53d5-40fd-8ae7-2d551bd2af62",
   "metadata": {},
   "outputs": [],
   "source": [
    "from statsmodels.stats.proportion import samplesize_confint_proportion"
   ]
  },
  {
   "cell_type": "code",
   "execution_count": 47,
   "id": "6c22a4b8-d8dc-4a73-8f0f-30cf6e253a4a",
   "metadata": {},
   "outputs": [
    {
     "data": {
      "text/plain": [
       "752.9259288560489"
      ]
     },
     "execution_count": 47,
     "metadata": {},
     "output_type": "execute_result"
    }
   ],
   "source": [
    "n_samples = samplesize_confint_proportion(proportion=p_a, half_length=0.01, alpha=0.05)\n",
    "n_samples"
   ]
  },
  {
   "cell_type": "markdown",
   "id": "21bddab2-21d9-4c43-8c0e-b7f771d300e8",
   "metadata": {},
   "source": [
    "### Задание 6\n",
    "Постройте график зависимости объёма выборки, необходимого для оценки для доли носителей гена 13910T с точностью ±0.01 на уровне доверия 95%, от неизвестного параметра p. Посмотрите, при каком значении p нужно больше всего испытуемых. Как вы думаете, насколько вероятно, что выборка, которую мы анализируем, взята из случайной величины с этим значением параметра?\n",
    "\n",
    "Как бы вы не ответили на последний вопрос, рассмотреть объём выборки, необходимый при таком p, всё равно полезно — это даёт максимально пессимистичную оценку необходимого объёма выборки.\n",
    "\n",
    "Какой объём выборки нужен в худшем случае, чтобы с помощью нормального интервала оценить долю носителей гена 13910T с точностью ±0.01 на уровне доверия 95%?  "
   ]
  },
  {
   "cell_type": "code",
   "execution_count": 42,
   "id": "3de6015d-08a5-4c5c-847d-86ea6dd165b4",
   "metadata": {},
   "outputs": [],
   "source": [
    "import numpy as np\n",
    "import matplotlib.pyplot as plt"
   ]
  },
  {
   "cell_type": "code",
   "execution_count": 43,
   "id": "d37a79fb-8395-450a-9f55-5056b64f3152",
   "metadata": {},
   "outputs": [],
   "source": [
    "p_range = np.linspace(start=0, stop=1, num=21) "
   ]
  },
  {
   "cell_type": "code",
   "execution_count": 48,
   "id": "2b155320-3ad4-48e5-99ef-96dc0a9be42a",
   "metadata": {},
   "outputs": [],
   "source": [
    "n_samples_range = [samplesize_confint_proportion(proportion=p, half_length=0.01, alpha=0.05) for p in p_range]"
   ]
  },
  {
   "cell_type": "code",
   "execution_count": 49,
   "id": "4c5af4b2-194b-4690-8015-d5da3e0b61c2",
   "metadata": {},
   "outputs": [
    {
     "data": {
      "text/plain": [
       "[<matplotlib.lines.Line2D at 0x7fb391dd7fd0>]"
      ]
     },
     "execution_count": 49,
     "metadata": {},
     "output_type": "execute_result"
    },
    {
     "data": {
      "image/png": "[encoded data removed]",
      "text/plain": [
       "<Figure size 432x288 with 1 Axes>"
      ]
     },
     "metadata": {
      "needs_background": "light"
     },
     "output_type": "display_data"
    }
   ],
   "source": [
    "plt.plot(p_range, n_samples_range, 'o')"
   ]
  },
  {
   "cell_type": "code",
   "execution_count": 50,
   "id": "84811a02-fafa-42d9-add1-fc2c93c86f87",
   "metadata": {},
   "outputs": [
    {
     "data": {
      "text/plain": [
       "9603.647051735317"
      ]
     },
     "execution_count": 50,
     "metadata": {},
     "output_type": "execute_result"
    }
   ],
   "source": [
    "max(n_samples_range)"
   ]
  },
  {
   "cell_type": "code",
   "execution_count": null,
   "id": "9c337bef-cb1e-4623-9372-284d8219366c",
   "metadata": {},
   "outputs": [],
   "source": []
  }
 ],
 "metadata": {
  "kernelspec": {
   "display_name": "Python 3",
   "language": "python",
   "name": "python3"
  },
  "language_info": {
   "codemirror_mode": {
    "name": "ipython",
    "version": 3
   },
   "file_extension": ".py",
   "mimetype": "text/x-python",
   "name": "python",
   "nbconvert_exporter": "python",
   "pygments_lexer": "ipython3",
   "version": "3.8.8"
  }
 },
 "nbformat": 4,
 "nbformat_minor": 5
}
