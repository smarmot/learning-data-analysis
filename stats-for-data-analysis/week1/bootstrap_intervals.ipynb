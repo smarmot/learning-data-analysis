{
 "cells": [
  {
   "cell_type": "markdown",
   "id": "6fa437ed-0757-4059-8493-76444fd1155a",
   "metadata": {},
   "source": [
    "# Доверительные интервалы на основе bootstrap"
   ]
  },
  {
   "cell_type": "markdown",
   "id": "3366a16a-b419-44a9-b495-34951047ae9a",
   "metadata": {},
   "source": [
    "Для анализа известна только выборка. Функция распределения и параметры распределения неизвестны.  \n",
    "Можно оценить любую статистику, не только среднее.  \n",
    "\n",
    "- Сэмплируем выборки из неизвестного распределения.\n",
    "- Для каждой выборки оценим статистику.\n",
    "- По всем статистикам оценим эмперическое распредлеение."
   ]
  },
  {
   "cell_type": "code",
   "execution_count": 1,
   "id": "1aef94ee-12f0-491c-abc0-21cbf31a7b7f",
   "metadata": {},
   "outputs": [],
   "source": [
    "import numpy as np\n",
    "import pandas as pd"
   ]
  },
  {
   "cell_type": "code",
   "execution_count": 7,
   "id": "5ffbc911-c5e4-4156-965c-084975e2347d",
   "metadata": {},
   "outputs": [
    {
     "name": "stdout",
     "output_type": "stream",
     "text": [
      "Populating the interactive namespace from numpy and matplotlib\n"
     ]
    }
   ],
   "source": [
    "%pylab inline"
   ]
  },
  {
   "cell_type": "markdown",
   "id": "13e6c408-e809-4599-93e7-2f05da80ae9e",
   "metadata": {},
   "source": [
    "## Загрузка данных\n",
    "### Время ремонта телекоммуникаций\n",
    "Verizon - основная телекоммуникационная компания в западной части США, поэтому она должна ремонтировать оборудование не только своих клиентов, но и клиентов других компаний. Причем время ремонта для клиентов другой компании не должно быть больше, чем время ремонта для своих клиентов.   \n",
    "- ILEC - клиент компании\n",
    "- CLEC - клиент другой компании\n",
    "\n",
    "Проверим гипотезу, что время ремонта для клиентов своей компании и для клиентов других компаний различается."
   ]
  },
  {
   "cell_type": "code",
   "execution_count": 2,
   "id": "1fe24582-7879-4e41-ac11-eecb52ea52d5",
   "metadata": {},
   "outputs": [],
   "source": [
    "data = pd.read_csv('./data/verizon.csv', sep='\\t')"
   ]
  },
  {
   "cell_type": "code",
   "execution_count": 3,
   "id": "ca3391c5-a67c-4568-bd1c-608b451c775f",
   "metadata": {},
   "outputs": [
    {
     "data": {
      "text/html": [
       "<div>\n",
       "<style scoped>\n",
       "    .dataframe tbody tr th:only-of-type {\n",
       "        vertical-align: middle;\n",
       "    }\n",
       "\n",
       "    .dataframe tbody tr th {\n",
       "        vertical-align: top;\n",
       "    }\n",
       "\n",
       "    .dataframe thead th {\n",
       "        text-align: right;\n",
       "    }\n",
       "</style>\n",
       "<table border=\"1\" class=\"dataframe\">\n",
       "  <thead>\n",
       "    <tr style=\"text-align: right;\">\n",
       "      <th></th>\n",
       "      <th>Time</th>\n",
       "      <th>Group</th>\n",
       "    </tr>\n",
       "  </thead>\n",
       "  <tbody>\n",
       "    <tr>\n",
       "      <th>0</th>\n",
       "      <td>17.5</td>\n",
       "      <td>ILEC</td>\n",
       "    </tr>\n",
       "  </tbody>\n",
       "</table>\n",
       "</div>"
      ],
      "text/plain": [
       "   Time Group\n",
       "0  17.5  ILEC"
      ]
     },
     "execution_count": 3,
     "metadata": {},
     "output_type": "execute_result"
    }
   ],
   "source": [
    "data.head(1)"
   ]
  },
  {
   "cell_type": "code",
   "execution_count": 4,
   "id": "fe90ce95-5d62-4785-9b57-eb82d390b745",
   "metadata": {},
   "outputs": [
    {
     "data": {
      "text/plain": [
       "(1687, 2)"
      ]
     },
     "execution_count": 4,
     "metadata": {},
     "output_type": "execute_result"
    }
   ],
   "source": [
    "data.shape"
   ]
  },
  {
   "cell_type": "code",
   "execution_count": 5,
   "id": "fbdb27dc-49ee-4acc-b61b-f8a222c0ed45",
   "metadata": {},
   "outputs": [
    {
     "data": {
      "text/plain": [
       "ILEC    1664\n",
       "CLEC      23\n",
       "Name: Group, dtype: int64"
      ]
     },
     "execution_count": 5,
     "metadata": {},
     "output_type": "execute_result"
    }
   ],
   "source": [
    "data['Group'].value_counts()"
   ]
  },
  {
   "cell_type": "code",
   "execution_count": 12,
   "id": "65288ed8-ea42-4d07-9028-3729df5339d1",
   "metadata": {},
   "outputs": [
    {
     "data": {
      "text/plain": [
       "<matplotlib.legend.Legend at 0x7fab193fc2e0>"
      ]
     },
     "execution_count": 12,
     "metadata": {},
     "output_type": "execute_result"
    },
    {
     "data": {
      "image/png": "[encoded data removed]",
      "text/plain": [
       "<Figure size 1440x720 with 2 Axes>"
      ]
     },
     "metadata": {
      "needs_background": "light"
     },
     "output_type": "display_data"
    }
   ],
   "source": [
    "pylab.figure(figsize(20, 10))\n",
    "\n",
    "pylab.subplot(1, 2, 1)\n",
    "pylab.hist(data[data['Group'] == 'ILEC']['Time'], bins=20, color='b', range=(0, 100), label='ILEC')\n",
    "pylab.legend()\n",
    "\n",
    "pylab.subplot(1, 2, 2)\n",
    "pylab.hist(data[data['Group'] == 'CLEC']['Time'], bins=20, color='r', range=(0, 100), label='CLEC')\n",
    "pylab.legend()"
   ]
  },
  {
   "cell_type": "markdown",
   "id": "d9b30f63-7582-4182-864a-b9f7b04328d8",
   "metadata": {},
   "source": [
    "На глаз можно прикинуть, что для своих клиентов ремонт происходит быстрее, но это еще не точно, поэтому будем проверять."
   ]
  },
  {
   "cell_type": "markdown",
   "id": "df6b493b-ca35-48e2-829b-bea7106fe09b",
   "metadata": {},
   "source": [
    "## Bootstrap "
   ]
  },
  {
   "cell_type": "code",
   "execution_count": 13,
   "id": "5e88ce00-3913-4738-963a-727afc9a7ec9",
   "metadata": {},
   "outputs": [],
   "source": [
    "def get_bootstrap_samples(data, n_samples):\n",
    "    indices = np.random.randint(low=0, high=len(data), size=(n_samples, len(data)))\n",
    "    samples = data[indices]\n",
    "    return samples"
   ]
  },
  {
   "cell_type": "code",
   "execution_count": 27,
   "id": "c9c5f047-8611-444a-9609-e3fb2ff7e317",
   "metadata": {},
   "outputs": [],
   "source": [
    "def stat_intervals(stat, alpha):\n",
    "    boundaries = np.percentile(stat, [100 * alpha / 2, 100 * (1 - alpha / 2)])\n",
    "    return boundaries"
   ]
  },
  {
   "cell_type": "markdown",
   "id": "b9589335-9e9e-4b1f-97eb-283fd1c8a160",
   "metadata": {},
   "source": [
    "### Интервальная оценка медианы"
   ]
  },
  {
   "cell_type": "code",
   "execution_count": 15,
   "id": "2f286a41-2dec-47df-b49a-bfb7c039687f",
   "metadata": {},
   "outputs": [],
   "source": [
    "ilec_time = data[data['Group'] == 'ILEC']['Time'].values\n",
    "clec_time = data[data['Group'] == 'CLEC']['Time'].values"
   ]
  },
  {
   "cell_type": "code",
   "execution_count": 16,
   "id": "2df7fd24-9483-4c5c-b24e-97de54667add",
   "metadata": {},
   "outputs": [],
   "source": [
    "np.random.seed(0)"
   ]
  },
  {
   "cell_type": "code",
   "execution_count": 25,
   "id": "a2b2a5d8-5082-4ff5-9270-403b82805a3d",
   "metadata": {},
   "outputs": [],
   "source": [
    "ilec_median_scores = list(map(np.median, get_bootstrap_samples(ilec_time, 1000)))\n",
    "clec_median_scores = list(map(np.median, get_bootstrap_samples(clec_time, 1000)))"
   ]
  },
  {
   "cell_type": "code",
   "execution_count": 28,
   "id": "fc110659-ffeb-48e8-b759-17efbd34d9f3",
   "metadata": {},
   "outputs": [
    {
     "name": "stdout",
     "output_type": "stream",
     "text": [
      "95% conf interval for the ILEC median repair time: [3.22 3.8 ]\n",
      "95% conf interval for the CLEC median repair time: [ 5.8  20.28]\n"
     ]
    }
   ],
   "source": [
    "print(f'95% conf interval for the ILEC median repair time: {stat_intervals(ilec_median_scores, 0.05)}')\n",
    "print(f'95% conf interval for the CLEC median repair time: {stat_intervals(clec_median_scores, 0.05)}')"
   ]
  },
  {
   "cell_type": "markdown",
   "id": "3db0a999-5d81-47ab-b4b2-71f379b1a9f6",
   "metadata": {},
   "source": [
    "Доверительные интервалы не пересекаются. И интервал для своих клиентов лежит левее, чем интервал для клиентов других компаний. Следовательно, время ремонта для своих клиентов меньше, чем для клиентов других компаний."
   ]
  },
  {
   "cell_type": "markdown",
   "id": "42a72729-3f98-436a-9844-fcd98c2dd356",
   "metadata": {},
   "source": [
    "### Точечная оценка разности медиан"
   ]
  },
  {
   "cell_type": "code",
   "execution_count": 29,
   "id": "e9196060-6cb7-496c-a9fe-4db78ba8ed11",
   "metadata": {},
   "outputs": [
    {
     "name": "stdout",
     "output_type": "stream",
     "text": [
      "Difference between medians: 10.74\n"
     ]
    }
   ],
   "source": [
    "print(f'Difference between medians: {np.median(clec_time) - np.median(ilec_time)}')"
   ]
  },
  {
   "cell_type": "markdown",
   "id": "e36eda0c-858a-4556-a35c-5666846e16ae",
   "metadata": {},
   "source": [
    "### Интервальная оценка разности медиан \n",
    "Просто так по полученным интервалам мы не имеем права оценить интервал разности медиан. Поэтому посчитаем разности для каждой из подвыборок, а потом для получившегося списка разности медиан найдем интервальную оценку."
   ]
  },
  {
   "cell_type": "code",
   "execution_count": 31,
   "id": "ab4f8e36-4175-4bb5-b94f-7b055aaacb63",
   "metadata": {},
   "outputs": [],
   "source": [
    "delta_median_scores = list(map(lambda x: x[1] -  x[0], zip(ilec_median_scores, clec_median_scores)))"
   ]
  },
  {
   "cell_type": "code",
   "execution_count": 33,
   "id": "da1ca20a-73ef-4963-aa2a-364692c199a8",
   "metadata": {},
   "outputs": [
    {
     "name": "stdout",
     "output_type": "stream",
     "text": [
      "95% conf interval for the difference between medians: [ 2.1  16.65]\n"
     ]
    }
   ],
   "source": [
    "print(f'95% conf interval for the difference between medians: {stat_intervals(delta_median_scores, 0.05)}')"
   ]
  },
  {
   "cell_type": "code",
   "execution_count": null,
   "id": "67829e5c-91bc-4d3a-8bd6-434704c25567",
   "metadata": {},
   "outputs": [],
   "source": []
  }
 ],
 "metadata": {
  "kernelspec": {
   "display_name": "Python 3",
   "language": "python",
   "name": "python3"
  },
  "language_info": {
   "codemirror_mode": {
    "name": "ipython",
    "version": 3
   },
   "file_extension": ".py",
   "mimetype": "text/x-python",
   "name": "python",
   "nbconvert_exporter": "python",
   "pygments_lexer": "ipython3",
   "version": "3.8.8"
  }
 },
 "nbformat": 4,
 "nbformat_minor": 5
}
