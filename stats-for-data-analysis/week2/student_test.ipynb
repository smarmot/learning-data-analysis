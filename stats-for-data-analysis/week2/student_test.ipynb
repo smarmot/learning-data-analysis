{
 "cells": [
  {
   "cell_type": "markdown",
   "id": "4a3b5c39-65e2-44ca-aa0b-a1c86492f4f2",
   "metadata": {},
   "source": [
    "# Критерии Стьюдента"
   ]
  },
  {
   "cell_type": "code",
   "execution_count": 25,
   "id": "89bbec17-06d6-4136-bfa5-972d612126ef",
   "metadata": {},
   "outputs": [],
   "source": [
    "import numpy as np\n",
    "import pandas as pd\n",
    "\n",
    "import scipy\n",
    "from statsmodels.stats import weightstats"
   ]
  },
  {
   "cell_type": "code",
   "execution_count": 2,
   "id": "adbcdf67-d3d8-4891-8272-492087456878",
   "metadata": {},
   "outputs": [
    {
     "name": "stdout",
     "output_type": "stream",
     "text": [
      "Populating the interactive namespace from numpy and matplotlib\n"
     ]
    }
   ],
   "source": [
    "%pylab inline"
   ]
  },
  {
   "cell_type": "markdown",
   "id": "425c71b1-5c60-48a2-b5da-7ef6fc2cb71e",
   "metadata": {},
   "source": [
    "## Treatment effects of methylphenidate\n",
    "\n",
    "В рамках исследования эффективности препарата метилфенидат 24 пациента с синдромом дефицита внимания и гиперактивности в течение недели принимали либо метилфенидат, либо плацебо. В конце недели каждый пациент проходили тест на способность к подавлению импульсивных поведенческих реакций. На втором этапе плацебо и препарат менялись, и после недельного курса каждый испытуемые проходили второй тест.    \n",
    "\n",
    "Требуется оценить эффект применения препарата.    \n",
    "\n",
    "Pearson D.A, Santos C.W., Casat C.D., et al. (2004). Treatment effects of methylphenidate on cognitive functioning in children with mental retardation and ADHD. Journal of the American Academy of Child and Adolescent Psychiatry, 43(6), 677–685."
   ]
  },
  {
   "cell_type": "code",
   "execution_count": 8,
   "id": "e416a5f5-c0f1-4c95-99ec-92c5d3850292",
   "metadata": {},
   "outputs": [],
   "source": [
    "data = pd.read_csv('./data/ADHD.txt', sep=' ', header=0)"
   ]
  },
  {
   "cell_type": "code",
   "execution_count": 9,
   "id": "751474c0-de73-49bc-a68e-41503c4ba268",
   "metadata": {},
   "outputs": [
    {
     "data": {
      "text/html": [
       "<div>\n",
       "<style scoped>\n",
       "    .dataframe tbody tr th:only-of-type {\n",
       "        vertical-align: middle;\n",
       "    }\n",
       "\n",
       "    .dataframe tbody tr th {\n",
       "        vertical-align: top;\n",
       "    }\n",
       "\n",
       "    .dataframe thead th {\n",
       "        text-align: right;\n",
       "    }\n",
       "</style>\n",
       "<table border=\"1\" class=\"dataframe\">\n",
       "  <thead>\n",
       "    <tr style=\"text-align: right;\">\n",
       "      <th></th>\n",
       "      <th>D0</th>\n",
       "      <th>D60</th>\n",
       "    </tr>\n",
       "  </thead>\n",
       "  <tbody>\n",
       "    <tr>\n",
       "      <th>0</th>\n",
       "      <td>57</td>\n",
       "      <td>62</td>\n",
       "    </tr>\n",
       "    <tr>\n",
       "      <th>1</th>\n",
       "      <td>27</td>\n",
       "      <td>49</td>\n",
       "    </tr>\n",
       "  </tbody>\n",
       "</table>\n",
       "</div>"
      ],
      "text/plain": [
       "   D0  D60\n",
       "0  57   62\n",
       "1  27   49"
      ]
     },
     "execution_count": 9,
     "metadata": {},
     "output_type": "execute_result"
    }
   ],
   "source": [
    "data.head(2)"
   ]
  },
  {
   "cell_type": "code",
   "execution_count": 10,
   "id": "13fe3262-64b8-4d48-9ea9-8b73ee7ab2ad",
   "metadata": {},
   "outputs": [],
   "source": [
    "data.columns = ['Placebo', 'Methylphenidate']"
   ]
  },
  {
   "cell_type": "code",
   "execution_count": 14,
   "id": "4b7084fb-8797-446b-aae9-67170555c1c2",
   "metadata": {},
   "outputs": [
    {
     "data": {
      "image/png": "[encoded data removed]",
      "text/plain": [
       "<Figure size 432x288 with 1 Axes>"
      ]
     },
     "metadata": {
      "needs_background": "light"
     },
     "output_type": "display_data"
    }
   ],
   "source": [
    "data.plot.scatter('Placebo', 'Methylphenidate', c='r', s=30)\n",
    "pylab.grid()\n",
    "pylab.plot(range(100), c='black')\n",
    "pylab.xlim((20, 80))\n",
    "pylab.ylim((20, 80))\n",
    "pylab.show()"
   ]
  },
  {
   "cell_type": "markdown",
   "id": "a4f76665-8a05-4aac-9bb6-c8ce85b17ed9",
   "metadata": {},
   "source": [
    "Большинство точек лежит выше прямой. Это может означать, что препарат работает.   \n",
    "\n",
    "Построим гистаграммы."
   ]
  },
  {
   "cell_type": "code",
   "execution_count": 16,
   "id": "eefa7b91-b9dd-45c6-8fba-deecf69cbe7b",
   "metadata": {},
   "outputs": [
    {
     "data": {
      "image/png": "[encoded data removed]",
      "text/plain": [
       "<Figure size 864x288 with 2 Axes>"
      ]
     },
     "metadata": {
      "needs_background": "light"
     },
     "output_type": "display_data"
    }
   ],
   "source": [
    "pylab.figure(figsize(12, 4))\n",
    "\n",
    "pylab.subplot(1, 2, 1)\n",
    "pylab.grid()\n",
    "pylab.hist(data['Placebo'], color='r')\n",
    "pylab.xlabel('Placebo')\n",
    "\n",
    "pylab.subplot(1, 2, 2)\n",
    "pylab.grid()\n",
    "pylab.hist(data['Methylphenidate'], color='b')\n",
    "pylab.xlabel('Methylphenidate')\n",
    "\n",
    "pylab.show()"
   ]
  },
  {
   "cell_type": "markdown",
   "id": "62008655-8253-4eed-8f5a-cd5103655e7e",
   "metadata": {},
   "source": [
    "Минимальное и максимальное значение на правом графике больше. Это тоже может означать, что препарат работает.  \n",
    "Но надо строго проверить наши предположения."
   ]
  },
  {
   "cell_type": "markdown",
   "id": "d4dc69b9-7195-4c14-b6e3-366056b58082",
   "metadata": {},
   "source": [
    "## Одновыборочный критерий Стьюдента\n",
    "\n",
    "Исходя из того, что способность к подавлению испульсивных поведенческих реакций измеряется по шкале [0, 100], можно предположить, что при хорошей калибровке теста средняя способоность к подавлению реакций в популяции составляет 50. Тогда для того, чтобы проверить гипотезу о том, что пациенты в выборке действительно в среднем хуже справляются с подавлением импульсивных реакций (нуждаются в лечении), давайте проверим, что их способность к подавлению реакций отличается от средней (не равна 50). \n",
    "\n",
    "$H_0\\colon$ среднее значение способности к подавлению испульсивных поведенческих реакций равно 50.  \n",
    "$H_1\\colon$ не равно."
   ]
  },
  {
   "cell_type": "code",
   "execution_count": 17,
   "id": "6c02d2bb-a5b2-43ca-a02c-7d88e3d9076f",
   "metadata": {},
   "outputs": [
    {
     "data": {
      "text/plain": [
       "Ttest_1sampResult(statistic=-4.438003341905128, pvalue=0.00018894293251080175)"
      ]
     },
     "execution_count": 17,
     "metadata": {},
     "output_type": "execute_result"
    }
   ],
   "source": [
    "# Пациенты до применения \n",
    "scipy.stats.ttest_1samp(data['Placebo'], 50.0)"
   ]
  },
  {
   "cell_type": "markdown",
   "id": "bcd85f26-9303-4fa7-a8bd-66fc60d7661c",
   "metadata": {},
   "source": [
    "Это позволяет отвергнуть нулевую гипотезу и сказать, что среднее не равно 50.   \n",
    "\n",
    "Оценим интервально."
   ]
  },
  {
   "cell_type": "code",
   "execution_count": 19,
   "id": "1c445d31-1d8f-459b-a838-2067cbf1ce04",
   "metadata": {},
   "outputs": [
    {
     "name": "stdout",
     "output_type": "stream",
     "text": [
      "Conf inerval: [(35.223272709859756, 44.276727290140244)]\n"
     ]
    }
   ],
   "source": [
    "print(f\"Conf inerval: [{weightstats.zconfint(data['Placebo'])}]\")"
   ]
  },
  {
   "cell_type": "markdown",
   "id": "5ac67a03-3068-40ed-a485-33bc6c3567d6",
   "metadata": {},
   "source": [
    "## Двухвыборочный критерий Стьюдента (независимые выборки)"
   ]
  },
  {
   "cell_type": "markdown",
   "id": "511a161b-ec41-40fa-b0c2-b322cf1bf43e",
   "metadata": {},
   "source": [
    "Для того, чтобы использовать двухвыборочный критерий Стьюдента, убедимся, что распределения в выборках существенно не отличаются от нормальных."
   ]
  },
  {
   "cell_type": "code",
   "execution_count": 28,
   "id": "81d74b18-f42b-478a-94ce-0aaac4844dbc",
   "metadata": {},
   "outputs": [
    {
     "data": {
      "image/png": "[encoded data removed]",
      "text/plain": [
       "<Figure size 864x288 with 2 Axes>"
      ]
     },
     "metadata": {
      "needs_background": "light"
     },
     "output_type": "display_data"
    }
   ],
   "source": [
    "# Построим ку-ку плот\n",
    "\n",
    "pylab.figure(figsize=(12, 4))\n",
    "\n",
    "pylab.subplot(1, 2, 1)\n",
    "weightstats.stats.probplot(data['Placebo'], dist='norm', plot=pylab, rvalue=True)\n",
    "\n",
    "pylab.subplot(1, 2, 2)\n",
    "weightstats.stats.probplot(data['Methylphenidate'], dist='norm', plot=pylab, rvalue=True)\n",
    "\n",
    "pylab.show()"
   ]
  },
  {
   "cell_type": "markdown",
   "id": "6d9a2efa-1f80-48ff-a742-aabd68fbf18b",
   "metadata": {},
   "source": [
    "Из графиков видно, что точки не очень далеко расположены от прямой, поэтому будем считать, что данные распределены нормально. Проверим это более строго."
   ]
  },
  {
   "cell_type": "markdown",
   "id": "747386aa-fc17-4f40-97ff-17e283b17131",
   "metadata": {},
   "source": [
    "### Критерий Шапиро-Уилка:\n",
    "\n",
    "$H_0\\colon$ способности к подавлению импульсивных реакций распредлены нормально    \n",
    "     \n",
    "$H_1\\colon$ не нормально.    "
   ]
  },
  {
   "cell_type": "code",
   "execution_count": 29,
   "id": "6efbe257-149a-42b7-aa30-2bab11c280c2",
   "metadata": {},
   "outputs": [
    {
     "name": "stdout",
     "output_type": "stream",
     "text": [
      "Shapiro normality test, W-stat: 0.8574873208999634, p-value: 0.00302018690854311\n"
     ]
    }
   ],
   "source": [
    "placebo_w_test = weightstats.stats.shapiro(data['Placebo'])\n",
    "print(f\"Shapiro normality test, W-stat: {placebo_w_test[0]}, p-value: {placebo_w_test[1]}\")"
   ]
  },
  {
   "cell_type": "code",
   "execution_count": 30,
   "id": "a814b9a5-fcf8-4262-9a04-0b936b5f5f4f",
   "metadata": {},
   "outputs": [
    {
     "name": "stdout",
     "output_type": "stream",
     "text": [
      "Shapiro normality test, W-stat: 0.9164453148841858, p-value: 0.04876822605729103\n"
     ]
    }
   ],
   "source": [
    "methylphenidate_w_test = weightstats.stats.shapiro(data['Methylphenidate'])\n",
    "print(f\"Shapiro normality test, W-stat: {methylphenidate_w_test[0]}, p-value: {methylphenidate_w_test[1]}\")"
   ]
  },
  {
   "cell_type": "markdown",
   "id": "fe49fc28-15d8-458e-b022-e46de604252f",
   "metadata": {},
   "source": [
    "Значения p-value получаются довольно маленькими, а значит нам придется отвергнуть нулевую гипотезу о том, что данные распределены нормально.   \n",
    "Но из рисунков видно, что распределение от нормального отличается, но не очень сильно. Критерий Стьюдента работает в условиях, когда распредлеение не является нормальным, но существенно от него не отличается.\n",
    "\n",
    "Поэтому все же попробуем применить критерий Стьюдента. Проверим гипотезу о равенстве средних двух выборок.  "
   ]
  },
  {
   "cell_type": "markdown",
   "id": "bb3bc8cc-3809-4adb-973a-64c2a0bff997",
   "metadata": {},
   "source": [
    "### Критерий Стьюдента:\n",
    "\n",
    "$H_0\\colon$ средние значения способности к подавлению испульсивных поведенческих реакций одинаковы для пациентов, принимавших препарат, и для пациентов, принимавших плацебо.   \n",
    "\n",
    "$H_1\\colon$ не одинаковы."
   ]
  },
  {
   "cell_type": "code",
   "execution_count": 32,
   "id": "1e84d56c-4574-4868-b5ae-7f3e7ee4b476",
   "metadata": {},
   "outputs": [
    {
     "data": {
      "text/plain": [
       "Ttest_indResult(statistic=-1.4521635018159091, pvalue=0.1532919977404709)"
      ]
     },
     "execution_count": 32,
     "metadata": {},
     "output_type": "execute_result"
    }
   ],
   "source": [
    "scipy.stats.ttest_ind(data['Placebo'], data['Methylphenidate'], equal_var=False)"
   ]
  },
  {
   "cell_type": "markdown",
   "id": "71fc3133-3a40-4520-b1ef-673254264782",
   "metadata": {},
   "source": [
    "p-value достаточно большое, поэтому мы не можем отвергнуть нулевую гипотезу о равенстве средних.   \n",
    "\n",
    "Интервально оценим разность средних по этим двум выборкам."
   ]
  },
  {
   "cell_type": "code",
   "execution_count": 33,
   "id": "435fa9b9-84b3-46c9-b664-0748ffa7ac54",
   "metadata": {},
   "outputs": [
    {
     "name": "stdout",
     "output_type": "stream",
     "text": [
      "Conf interval: (-1.9145892502382829, 11.831255916904954)\n"
     ]
    }
   ],
   "source": [
    "cm = weightstats.CompareMeans(weightstats.DescrStatsW(data['Methylphenidate']), weightstats.DescrStatsW(data['Placebo']))\n",
    "print(f\"Conf interval: {cm.tconfint_diff(alpha=0.05)}\")"
   ]
  },
  {
   "cell_type": "markdown",
   "id": "faa2a6a6-3396-42ae-9bf4-af9707765431",
   "metadata": {},
   "source": [
    "Фактически, среднее больше, чем ноль, но ноль все же лежит в доверительном интервале."
   ]
  },
  {
   "cell_type": "markdown",
   "id": "a6731482-cf59-49b1-a1a2-56c02c438a44",
   "metadata": {},
   "source": [
    "## Двухвыборочный критерий Стьюдента (зависмые выборки)"
   ]
  },
  {
   "cell_type": "markdown",
   "id": "28a3faa4-75e3-4129-90bf-4d8851c15820",
   "metadata": {},
   "source": [
    "Мы знаем, что исследование проводилось таким образом, что один и тот же пациент принимал и плацебо, и лекарство. Поэтому у нас выборка получилась связанной.  \n",
    "\n",
    "Для того, чтобы использовать критерй Стьюдента для связанных выборок, давайте проверим, что распределение попарных разностей существенно не отличается от нормального."
   ]
  },
  {
   "cell_type": "code",
   "execution_count": 36,
   "id": "5ea38a96-ce3c-4536-af00-eb72fea23742",
   "metadata": {},
   "outputs": [
    {
     "data": {
      "image/png": "[encoded data removed]",
      "text/plain": [
       "<Figure size 432x432 with 1 Axes>"
      ]
     },
     "metadata": {
      "needs_background": "light"
     },
     "output_type": "display_data"
    }
   ],
   "source": [
    "pylab.figure(figsize=(6, 6))\n",
    "weightstats.stats.probplot(data['Placebo'] - data['Methylphenidate'], dist='norm', plot=pylab, rvalue=True)\n",
    "pylab.show()"
   ]
  },
  {
   "cell_type": "markdown",
   "id": "d00e7f15-a495-416c-88ae-ed8d5d2940f2",
   "metadata": {},
   "source": [
    "Распределение очень похоже на нормальное."
   ]
  },
  {
   "cell_type": "markdown",
   "id": "25886b28-4c95-4292-86b2-907234313600",
   "metadata": {},
   "source": [
    "### Критерий Шапиро-Уилка:\n",
    "\n",
    "$H_0\\colon$ попарные разности распределены нормально.\n",
    "\n",
    "$H_1\\colon$ не нормально."
   ]
  },
  {
   "cell_type": "code",
   "execution_count": 37,
   "id": "516bf5d3-aeb6-484f-be46-f432eea93614",
   "metadata": {},
   "outputs": [
    {
     "name": "stdout",
     "output_type": "stream",
     "text": [
      "Shapiro normality test, W-stat: 0.9798052906990051, p-value: 0.8922504186630249\n"
     ]
    }
   ],
   "source": [
    "diff_w_test = weightstats.stats.shapiro(data['Placebo'] - data['Methylphenidate'])\n",
    "print(f\"Shapiro normality test, W-stat: {diff_w_test[0]}, p-value: {diff_w_test[1]}\")"
   ]
  },
  {
   "cell_type": "markdown",
   "id": "e671033e-7308-46f0-ad9d-ea9410fb4bfa",
   "metadata": {},
   "source": [
    "p-value получтлось довольно большое, поэтому нулевую гипотезу о нормальном распределении отвергать нельзя."
   ]
  },
  {
   "cell_type": "markdown",
   "id": "3483a25a-73ea-46b7-9dfe-45844678cff3",
   "metadata": {},
   "source": [
    "### Критерий Стьюдента:\n",
    "\n",
    "$H_0\\colon$ средние значения способности к подавлению испульсивных поведенческих реакций одинаковы для пациентов, принимавших препарат, и для пациентов, принимавших плацебо.\n",
    "\n",
    "$H_1\\colon$ не одинаковы."
   ]
  },
  {
   "cell_type": "code",
   "execution_count": 38,
   "id": "3af7ae48-fc74-4c7d-8afc-9fb4d4eeaff4",
   "metadata": {},
   "outputs": [
    {
     "data": {
      "text/plain": [
       "Ttest_relResult(statistic=3.2223624451230406, pvalue=0.003771488176381471)"
      ]
     },
     "execution_count": 38,
     "metadata": {},
     "output_type": "execute_result"
    }
   ],
   "source": [
    "weightstats.stats.ttest_rel(data['Methylphenidate'], data['Placebo'])"
   ]
  },
  {
   "cell_type": "code",
   "execution_count": 39,
   "id": "7c959978-1ef6-4015-a526-84682c25caa9",
   "metadata": {},
   "outputs": [
    {
     "name": "stdout",
     "output_type": "stream",
     "text": [
      "95%% confidence interval: (1.7752357893192365, 8.14143087734743)\n"
     ]
    }
   ],
   "source": [
    "print(f\"95%% confidence interval: {weightstats.DescrStatsW(data['Methylphenidate'] - data['Placebo']).tconfint_mean()}\")"
   ]
  },
  {
   "cell_type": "markdown",
   "id": "21a43ada-3c8c-4d90-83c5-30276ff1f8bc",
   "metadata": {},
   "source": [
    "p-value довольно маленькое, поэтому нулевую гипотезу о равенстве средних мы можем отвергнуть и прийти к выводу, что способности к подавлению испульсивных поведенческих реакций не одинаковы.  \n",
    "Доверительный интервал разности лежит правее нуля, что тоже говорит о том, что нулевую гипотезу можно отвергнуть."
   ]
  },
  {
   "cell_type": "code",
   "execution_count": null,
   "id": "a7ff2a74-244b-491a-b224-357af7f8c223",
   "metadata": {},
   "outputs": [],
   "source": []
  }
 ],
 "metadata": {
  "kernelspec": {
   "display_name": "Python 3",
   "language": "python",
   "name": "python3"
  },
  "language_info": {
   "codemirror_mode": {
    "name": "ipython",
    "version": 3
   },
   "file_extension": ".py",
   "mimetype": "text/x-python",
   "name": "python",
   "nbconvert_exporter": "python",
   "pygments_lexer": "ipython3",
   "version": "3.8.8"
  }
 },
 "nbformat": 4,
 "nbformat_minor": 5
}
