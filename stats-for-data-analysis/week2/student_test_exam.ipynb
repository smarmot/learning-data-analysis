{
 "cells": [
  {
   "cell_type": "markdown",
   "id": "c544c178-89ea-4b73-9303-f8af06d6547e",
   "metadata": {},
   "source": [
    "# Проверочная работа по теме \"Критерии Стьюдента\""
   ]
  },
  {
   "cell_type": "code",
   "execution_count": 67,
   "id": "d6a970b6-b18c-4a82-9214-6521c94753f4",
   "metadata": {},
   "outputs": [],
   "source": [
    "import numpy as np\n",
    "import pandas as pd\n",
    "\n",
    "from statsmodels.stats import weightstats\n",
    "\n",
    "from sklearn.model_selection import train_test_split\n",
    "from sklearn.linear_model import LinearRegression\n",
    "from sklearn.ensemble import RandomForestRegressor\n",
    "\n",
    "import scipy"
   ]
  },
  {
   "cell_type": "code",
   "execution_count": 69,
   "id": "4f072975-b017-4fa9-b953-a34eeaf5cd85",
   "metadata": {},
   "outputs": [
    {
     "name": "stdout",
     "output_type": "stream",
     "text": [
      "Populating the interactive namespace from numpy and matplotlib\n"
     ]
    }
   ],
   "source": [
    "%pylab inline"
   ]
  },
  {
   "cell_type": "markdown",
   "id": "bcb9f104-8bad-4036-83c3-1197023eb108",
   "metadata": {},
   "source": [
    "## Задание 1"
   ]
  },
  {
   "cell_type": "markdown",
   "id": "d6d791cf-3e60-4b89-b140-fcb18e969b83",
   "metadata": {},
   "source": [
    "Уровень кальция в крови здоровых молодых женщин равен в среднем 9.5 милиграммам на децилитр и имеет характерное стандартное отклонение 0.4 мг/дл. В сельской больнице Гватемалы для 160 здоровых беременных женщин при первом обращении для ведения беременности был измерен уровень кальция; среднее значение составило 9.57 мг/дл. Можно ли утверждать, что средний уровень кальция в этой популяции отличается от 9.5?\n",
    "\n",
    "Посчитайте достигаемый уровень значимости. Поскольку известны только среднее и дисперсия, а не сама выборка, нельзя использовать стандартные функции критериев — нужно реализовать формулу достигаемого уровня значимости самостоятельно.\n",
    "\n",
    "Округлите ответ до четырёх знаков после десятичной точки."
   ]
  },
  {
   "cell_type": "markdown",
   "id": "8acfddcd-0cf9-4a3b-b0e4-91b62d3dd2e7",
   "metadata": {},
   "source": [
    "## Решение"
   ]
  },
  {
   "cell_type": "markdown",
   "id": "97cdb1ca-a855-457a-8018-59a4c81c0bb4",
   "metadata": {},
   "source": [
    "### Дано\n",
    "Первая группа: здоровые молодые женщины.   \n",
    "$\\mu = 9.5$  \n",
    "$\\sigma = 0.4$\n",
    "\n",
    "Вторая группа: беременные женщины Гватемалы.    \n",
    "$n = 160$  \n",
    "$\\bar x = 9.57$ "
   ]
  },
  {
   "cell_type": "markdown",
   "id": "373c0f57-5a48-4e39-8c4a-19fcaf1ad381",
   "metadata": {},
   "source": [
    "### Гипотезы:\n",
    "\n",
    "$H_0\\colon$ Средний уровень кальция в этой популяции равен 9.5 ($\\mu_{беременных} = \\mu = 9.5$)    \n",
    "     \n",
    "$H_1\\colon$ Средний уровень кальция в этой популяции отличается от 9.5 ($\\mu_{беременных} \\neq \\mu_ \\neq 9.5$)"
   ]
  },
  {
   "cell_type": "markdown",
   "id": "2b7b3972-c1eb-4a62-a129-f50b2d238245",
   "metadata": {},
   "source": [
    "Используем z-критерий, так как нам известна сигма.   \n",
    "Статистика будет выглядеть следующим образом:   \n",
    "$Z = \\frac{\\bar x - \\mu_0}{\\sigma / \\sqrt{n}}$"
   ]
  },
  {
   "cell_type": "code",
   "execution_count": 1,
   "id": "2ea7bb9f-2a47-4be5-962b-3d96f3b367e5",
   "metadata": {},
   "outputs": [],
   "source": [
    "mu = 9.5\n",
    "sigma = 0.4\n",
    "\n",
    "pregnant_mean = 9.57\n",
    "n = 160"
   ]
  },
  {
   "cell_type": "code",
   "execution_count": 4,
   "id": "3d121280-014c-42d6-971a-41a12f7d8155",
   "metadata": {},
   "outputs": [
    {
     "data": {
      "text/plain": [
       "2.213594362117875"
      ]
     },
     "execution_count": 4,
     "metadata": {},
     "output_type": "execute_result"
    }
   ],
   "source": [
    "z = (pregnant_mean - mu) / (sigma / np.sqrt(160))\n",
    "z"
   ]
  },
  {
   "cell_type": "code",
   "execution_count": 25,
   "id": "73d695a2-90e4-4992-a312-725df4a5dbe2",
   "metadata": {},
   "outputs": [
    {
     "data": {
      "text/plain": [
       "0.0269"
      ]
     },
     "execution_count": 25,
     "metadata": {},
     "output_type": "execute_result"
    }
   ],
   "source": [
    "p = 2 * (1 - weightstats.stats.norm.cdf(np.abs(z)))\n",
    "round(p, 4)"
   ]
  },
  {
   "cell_type": "markdown",
   "id": "37e5ec47-4543-411a-bf81-7b4ec0814a97",
   "metadata": {},
   "source": [
    "На уровне значимости $\\alpha$ = 95% мы можем отвергнуть нулевую гипотезу, т.е. средний уровень кальция в популяции здоровых беременных женщин Гватемалы отличается от 9.5."
   ]
  },
  {
   "cell_type": "markdown",
   "id": "51337749-ddea-4220-a03c-239f89e46612",
   "metadata": {},
   "source": [
    "  "
   ]
  },
  {
   "cell_type": "markdown",
   "id": "2fbdf99b-c70b-446d-85d7-41439a214486",
   "metadata": {},
   "source": [
    "## Задание 2"
   ]
  },
  {
   "cell_type": "markdown",
   "id": "b157d60a-fe3f-45af-aff8-ebefa6b5bafd",
   "metadata": {},
   "source": [
    "Имеются данные о стоимости и размерах 53940 бриллиантов (diamonds.txt).   \n",
    "\n",
    "Отделите 25% случайных наблюдений в тестовую выборку с помощью функции sklearn.cross_validation.train_test_split (зафиксируйте random state = 1). На обучающей выборке настройте две регрессионные модели:\n",
    "\n",
    "1. линейную регрессию с помощью LinearRegression без параметров\n",
    "\n",
    "2.  случайный лес из 10 деревьев с помощью RandomForestRegressor с random_state=1.\n",
    "\n",
    "Какая из моделей лучше предсказывает цену бриллиантов? Сделайте предсказания на тестовой выборке, посчитайте модули отклонений предсказаний от истинных цен. Проверьте гипотезу об одинаковом среднем качестве предсказаний, вычислите достигаемый уровень значимости. Отвергается ли гипотеза об одинаковом качестве моделей против двусторонней альтернативы на уровне значимости $\\alpha=0.05$?"
   ]
  },
  {
   "cell_type": "markdown",
   "id": "7dfdf90d-97ec-4860-9dc1-34c121c0bbf7",
   "metadata": {},
   "source": [
    "## Решение"
   ]
  },
  {
   "cell_type": "markdown",
   "id": "0368146b-df25-4d63-a59a-e9c8d626af5c",
   "metadata": {},
   "source": [
    "### Смотрим данные"
   ]
  },
  {
   "cell_type": "code",
   "execution_count": 27,
   "id": "9b128534-d69c-403b-9ed7-0511ade4e929",
   "metadata": {},
   "outputs": [],
   "source": [
    "diamonds = pd.read_csv('./data/diamonds.txt', sep='\\t')"
   ]
  },
  {
   "cell_type": "code",
   "execution_count": 29,
   "id": "450bf97c-654e-4a5f-9a7b-7c020dc0afe0",
   "metadata": {},
   "outputs": [
    {
     "data": {
      "text/html": [
       "<div>\n",
       "<style scoped>\n",
       "    .dataframe tbody tr th:only-of-type {\n",
       "        vertical-align: middle;\n",
       "    }\n",
       "\n",
       "    .dataframe tbody tr th {\n",
       "        vertical-align: top;\n",
       "    }\n",
       "\n",
       "    .dataframe thead th {\n",
       "        text-align: right;\n",
       "    }\n",
       "</style>\n",
       "<table border=\"1\" class=\"dataframe\">\n",
       "  <thead>\n",
       "    <tr style=\"text-align: right;\">\n",
       "      <th></th>\n",
       "      <th>carat</th>\n",
       "      <th>depth</th>\n",
       "      <th>table</th>\n",
       "      <th>price</th>\n",
       "      <th>x</th>\n",
       "      <th>y</th>\n",
       "      <th>z</th>\n",
       "    </tr>\n",
       "  </thead>\n",
       "  <tbody>\n",
       "    <tr>\n",
       "      <th>0</th>\n",
       "      <td>0.23</td>\n",
       "      <td>61.5</td>\n",
       "      <td>55.0</td>\n",
       "      <td>326</td>\n",
       "      <td>3.95</td>\n",
       "      <td>3.98</td>\n",
       "      <td>2.43</td>\n",
       "    </tr>\n",
       "    <tr>\n",
       "      <th>1</th>\n",
       "      <td>0.21</td>\n",
       "      <td>59.8</td>\n",
       "      <td>61.0</td>\n",
       "      <td>326</td>\n",
       "      <td>3.89</td>\n",
       "      <td>3.84</td>\n",
       "      <td>2.31</td>\n",
       "    </tr>\n",
       "    <tr>\n",
       "      <th>2</th>\n",
       "      <td>0.23</td>\n",
       "      <td>56.9</td>\n",
       "      <td>65.0</td>\n",
       "      <td>327</td>\n",
       "      <td>4.05</td>\n",
       "      <td>4.07</td>\n",
       "      <td>2.31</td>\n",
       "    </tr>\n",
       "  </tbody>\n",
       "</table>\n",
       "</div>"
      ],
      "text/plain": [
       "   carat  depth  table  price     x     y     z\n",
       "0   0.23   61.5   55.0    326  3.95  3.98  2.43\n",
       "1   0.21   59.8   61.0    326  3.89  3.84  2.31\n",
       "2   0.23   56.9   65.0    327  4.05  4.07  2.31"
      ]
     },
     "execution_count": 29,
     "metadata": {},
     "output_type": "execute_result"
    }
   ],
   "source": [
    "diamonds.head(3)"
   ]
  },
  {
   "cell_type": "code",
   "execution_count": 30,
   "id": "8103f5dd-4dec-4676-8fe3-5eb03096702d",
   "metadata": {},
   "outputs": [
    {
     "data": {
      "text/html": [
       "<div>\n",
       "<style scoped>\n",
       "    .dataframe tbody tr th:only-of-type {\n",
       "        vertical-align: middle;\n",
       "    }\n",
       "\n",
       "    .dataframe tbody tr th {\n",
       "        vertical-align: top;\n",
       "    }\n",
       "\n",
       "    .dataframe thead th {\n",
       "        text-align: right;\n",
       "    }\n",
       "</style>\n",
       "<table border=\"1\" class=\"dataframe\">\n",
       "  <thead>\n",
       "    <tr style=\"text-align: right;\">\n",
       "      <th></th>\n",
       "      <th>carat</th>\n",
       "      <th>depth</th>\n",
       "      <th>table</th>\n",
       "      <th>price</th>\n",
       "      <th>x</th>\n",
       "      <th>y</th>\n",
       "      <th>z</th>\n",
       "    </tr>\n",
       "  </thead>\n",
       "  <tbody>\n",
       "    <tr>\n",
       "      <th>count</th>\n",
       "      <td>53940.000000</td>\n",
       "      <td>53940.000000</td>\n",
       "      <td>53940.000000</td>\n",
       "      <td>53940.000000</td>\n",
       "      <td>53940.000000</td>\n",
       "      <td>53940.000000</td>\n",
       "      <td>53940.000000</td>\n",
       "    </tr>\n",
       "    <tr>\n",
       "      <th>mean</th>\n",
       "      <td>0.797940</td>\n",
       "      <td>61.749405</td>\n",
       "      <td>57.457184</td>\n",
       "      <td>3932.799722</td>\n",
       "      <td>5.731157</td>\n",
       "      <td>5.734526</td>\n",
       "      <td>3.538734</td>\n",
       "    </tr>\n",
       "    <tr>\n",
       "      <th>std</th>\n",
       "      <td>0.474011</td>\n",
       "      <td>1.432621</td>\n",
       "      <td>2.234491</td>\n",
       "      <td>3989.439738</td>\n",
       "      <td>1.121761</td>\n",
       "      <td>1.142135</td>\n",
       "      <td>0.705699</td>\n",
       "    </tr>\n",
       "    <tr>\n",
       "      <th>min</th>\n",
       "      <td>0.200000</td>\n",
       "      <td>43.000000</td>\n",
       "      <td>43.000000</td>\n",
       "      <td>326.000000</td>\n",
       "      <td>0.000000</td>\n",
       "      <td>0.000000</td>\n",
       "      <td>0.000000</td>\n",
       "    </tr>\n",
       "    <tr>\n",
       "      <th>25%</th>\n",
       "      <td>0.400000</td>\n",
       "      <td>61.000000</td>\n",
       "      <td>56.000000</td>\n",
       "      <td>950.000000</td>\n",
       "      <td>4.710000</td>\n",
       "      <td>4.720000</td>\n",
       "      <td>2.910000</td>\n",
       "    </tr>\n",
       "    <tr>\n",
       "      <th>50%</th>\n",
       "      <td>0.700000</td>\n",
       "      <td>61.800000</td>\n",
       "      <td>57.000000</td>\n",
       "      <td>2401.000000</td>\n",
       "      <td>5.700000</td>\n",
       "      <td>5.710000</td>\n",
       "      <td>3.530000</td>\n",
       "    </tr>\n",
       "    <tr>\n",
       "      <th>75%</th>\n",
       "      <td>1.040000</td>\n",
       "      <td>62.500000</td>\n",
       "      <td>59.000000</td>\n",
       "      <td>5324.250000</td>\n",
       "      <td>6.540000</td>\n",
       "      <td>6.540000</td>\n",
       "      <td>4.040000</td>\n",
       "    </tr>\n",
       "    <tr>\n",
       "      <th>max</th>\n",
       "      <td>5.010000</td>\n",
       "      <td>79.000000</td>\n",
       "      <td>95.000000</td>\n",
       "      <td>18823.000000</td>\n",
       "      <td>10.740000</td>\n",
       "      <td>58.900000</td>\n",
       "      <td>31.800000</td>\n",
       "    </tr>\n",
       "  </tbody>\n",
       "</table>\n",
       "</div>"
      ],
      "text/plain": [
       "              carat         depth         table         price             x  \\\n",
       "count  53940.000000  53940.000000  53940.000000  53940.000000  53940.000000   \n",
       "mean       0.797940     61.749405     57.457184   3932.799722      5.731157   \n",
       "std        0.474011      1.432621      2.234491   3989.439738      1.121761   \n",
       "min        0.200000     43.000000     43.000000    326.000000      0.000000   \n",
       "25%        0.400000     61.000000     56.000000    950.000000      4.710000   \n",
       "50%        0.700000     61.800000     57.000000   2401.000000      5.700000   \n",
       "75%        1.040000     62.500000     59.000000   5324.250000      6.540000   \n",
       "max        5.010000     79.000000     95.000000  18823.000000     10.740000   \n",
       "\n",
       "                  y             z  \n",
       "count  53940.000000  53940.000000  \n",
       "mean       5.734526      3.538734  \n",
       "std        1.142135      0.705699  \n",
       "min        0.000000      0.000000  \n",
       "25%        4.720000      2.910000  \n",
       "50%        5.710000      3.530000  \n",
       "75%        6.540000      4.040000  \n",
       "max       58.900000     31.800000  "
      ]
     },
     "execution_count": 30,
     "metadata": {},
     "output_type": "execute_result"
    }
   ],
   "source": [
    "diamonds.describe()"
   ]
  },
  {
   "cell_type": "code",
   "execution_count": 31,
   "id": "a800f76f-cb20-48bd-bf1e-5a6f7f1ade1b",
   "metadata": {},
   "outputs": [
    {
     "name": "stdout",
     "output_type": "stream",
     "text": [
      "<class 'pandas.core.frame.DataFrame'>\n",
      "RangeIndex: 53940 entries, 0 to 53939\n",
      "Data columns (total 7 columns):\n",
      " #   Column  Non-Null Count  Dtype  \n",
      "---  ------  --------------  -----  \n",
      " 0   carat   53940 non-null  float64\n",
      " 1   depth   53940 non-null  float64\n",
      " 2   table   53940 non-null  float64\n",
      " 3   price   53940 non-null  int64  \n",
      " 4   x       53940 non-null  float64\n",
      " 5   y       53940 non-null  float64\n",
      " 6   z       53940 non-null  float64\n",
      "dtypes: float64(6), int64(1)\n",
      "memory usage: 2.9 MB\n"
     ]
    }
   ],
   "source": [
    "diamonds.info()"
   ]
  },
  {
   "cell_type": "markdown",
   "id": "122ac082-e409-4eb3-9713-0446c7b7f629",
   "metadata": {},
   "source": [
    "### Train-Test Split"
   ]
  },
  {
   "cell_type": "code",
   "execution_count": 35,
   "id": "c157a60c-4a33-4fda-9011-1301603756ce",
   "metadata": {},
   "outputs": [],
   "source": [
    "X_train, X_test, y_train, y_test = train_test_split(diamonds.drop(['price'], axis=1), diamonds['price'], test_size=0.25, random_state=1)"
   ]
  },
  {
   "cell_type": "code",
   "execution_count": 41,
   "id": "b450251f-3c89-452a-bbcc-5e5a422dc944",
   "metadata": {},
   "outputs": [
    {
     "data": {
      "text/plain": [
       "(40455, 6)"
      ]
     },
     "execution_count": 41,
     "metadata": {},
     "output_type": "execute_result"
    }
   ],
   "source": [
    "X_train.shape"
   ]
  },
  {
   "cell_type": "code",
   "execution_count": 42,
   "id": "475b4650-d415-4f83-a61d-90260b84f31c",
   "metadata": {},
   "outputs": [
    {
     "data": {
      "text/plain": [
       "(13485, 6)"
      ]
     },
     "execution_count": 42,
     "metadata": {},
     "output_type": "execute_result"
    }
   ],
   "source": [
    "X_test.shape"
   ]
  },
  {
   "cell_type": "markdown",
   "id": "fc488fb2-c50d-43f6-9917-07d9684aa567",
   "metadata": {},
   "source": [
    "### Линейная регрессия с помощью LinearRegression без параметров"
   ]
  },
  {
   "cell_type": "code",
   "execution_count": 47,
   "id": "e4ee023d-3b75-460e-8974-7042b6ed4242",
   "metadata": {},
   "outputs": [],
   "source": [
    "linear_model = LinearRegression().fit(X_train, y_train)"
   ]
  },
  {
   "cell_type": "code",
   "execution_count": 48,
   "id": "3692ab96-0fc2-4897-b568-5f818f392561",
   "metadata": {},
   "outputs": [],
   "source": [
    "linear_prediction = linear_model.predict(X_test)"
   ]
  },
  {
   "cell_type": "code",
   "execution_count": 51,
   "id": "0b976352-ec84-4ce1-a725-0a46be88e460",
   "metadata": {},
   "outputs": [
    {
     "data": {
      "text/plain": [
       "array([ 778.42235621, 6930.46053685, 2520.12128307,  529.83435479,\n",
       "       7077.15270117])"
      ]
     },
     "execution_count": 51,
     "metadata": {},
     "output_type": "execute_result"
    }
   ],
   "source": [
    "linear_prediction[:5]"
   ]
  },
  {
   "cell_type": "code",
   "execution_count": 57,
   "id": "8ed309ee-f578-4f28-8876-cbd4a4fe9487",
   "metadata": {},
   "outputs": [],
   "source": [
    "# модули отклонений предсказаний от истинных цен\n",
    "linear_err = np.abs(linear_prediction - y_test)"
   ]
  },
  {
   "cell_type": "code",
   "execution_count": 64,
   "id": "e6bbae09-31fe-44e1-a347-50ba7c23b56e",
   "metadata": {},
   "outputs": [
    {
     "data": {
      "text/plain": [
       "890.3764004285589"
      ]
     },
     "execution_count": 64,
     "metadata": {},
     "output_type": "execute_result"
    }
   ],
   "source": [
    "linear_err.mean()"
   ]
  },
  {
   "cell_type": "raw",
   "id": "f0eaf816-05e8-46b9-a908-e2325af5b5d7",
   "metadata": {},
   "source": [
    "pd.DataFrame(data={'y_test': y_test, 'linear_prediction': linear_prediction, 'linear_err': linear_err}).head()"
   ]
  },
  {
   "cell_type": "markdown",
   "id": "290b2355-a0c6-46b0-81c8-106272c41ed5",
   "metadata": {},
   "source": [
    "### Cлучайный лес из 10 деревьев с помощью RandomForestRegressor с random_state=1"
   ]
  },
  {
   "cell_type": "code",
   "execution_count": 54,
   "id": "5e6af21f-fb64-4320-a507-2faec4a5c025",
   "metadata": {},
   "outputs": [],
   "source": [
    "random_forest_model = RandomForestRegressor(n_estimators=10, random_state=1).fit(X_train, y_train)"
   ]
  },
  {
   "cell_type": "code",
   "execution_count": 55,
   "id": "cb30cd50-c263-49da-bbf7-1b1ec7845614",
   "metadata": {},
   "outputs": [],
   "source": [
    "random_forest_prediction = random_forest_model.predict(X_test)"
   ]
  },
  {
   "cell_type": "code",
   "execution_count": 56,
   "id": "375dd5e1-aa0a-433a-9f3d-b27e653152f1",
   "metadata": {},
   "outputs": [
    {
     "data": {
      "text/plain": [
       "array([ 858.55, 7205.6 , 2108.8 ,  579.  , 8339.5 ])"
      ]
     },
     "execution_count": 56,
     "metadata": {},
     "output_type": "execute_result"
    }
   ],
   "source": [
    "random_forest_prediction[:5]"
   ]
  },
  {
   "cell_type": "code",
   "execution_count": 65,
   "id": "bd2b2d20-43d9-4c68-99e8-effddab6c560",
   "metadata": {},
   "outputs": [],
   "source": [
    "# модули отклонений предсказаний от истинных цен\n",
    "random_forest_err = np.abs(random_forest_prediction - y_test)"
   ]
  },
  {
   "cell_type": "code",
   "execution_count": 66,
   "id": "d7fb5195-4f4c-49b2-b5e3-3210ff391813",
   "metadata": {},
   "outputs": [
    {
     "data": {
      "text/plain": [
       "802.9205172724141"
      ]
     },
     "execution_count": 66,
     "metadata": {},
     "output_type": "execute_result"
    }
   ],
   "source": [
    "random_forest_err.mean()"
   ]
  },
  {
   "cell_type": "markdown",
   "id": "5468721a-49b6-49cd-864c-0e26789dfad6",
   "metadata": {},
   "source": [
    "### Сравним качесво моделей "
   ]
  },
  {
   "cell_type": "markdown",
   "id": "489c08ea-bac8-41b7-86f8-cd6ff0c27c4c",
   "metadata": {},
   "source": [
    "Имеем две независимые выборки, нужно сравнить среднее этих выборок.   \n",
    "Попробуем использовать **двухвыборочный критерий Стьюдента**.  \n",
    "\n",
    "Нам неизвестны сигмы, будем использовать t-критерий.  \n",
    "Проблема Боренца-Фишера: аппроксимация будет достаточно точна, так как размеры двух сравниваемых выборок одинаковые."
   ]
  },
  {
   "cell_type": "markdown",
   "id": "53d48ae4-c32e-4d73-bbbb-f90ca391e8aa",
   "metadata": {},
   "source": [
    "#### Гипотезы:  \n",
    "$H_0\\colon \\mu_1 = \\mu_2$ Качество двух моделей не отличается   \n",
    "\n",
    "$H_1\\colon \\mu_1 \\neq \\mu_2$ Качество двух моделей отличается"
   ]
  },
  {
   "cell_type": "code",
   "execution_count": 77,
   "id": "47b3f4be-7306-424b-88c4-688384e1fde6",
   "metadata": {},
   "outputs": [
    {
     "data": {
      "text/plain": [
       "Ttest_indResult(statistic=6.2054184467870765, pvalue=5.534495566292084e-10)"
      ]
     },
     "execution_count": 77,
     "metadata": {},
     "output_type": "execute_result"
    }
   ],
   "source": [
    "scipy.stats.ttest_ind(linear_err, random_forest_err, equal_var=False)"
   ]
  },
  {
   "cell_type": "markdown",
   "id": "9a15a420-9af9-436a-b637-c3ca04aaa57f",
   "metadata": {},
   "source": [
    "Получили очень маленькое значение p-value, следовательно, мы можем отвергнуть нулевую гипотезу и принять альтернативную, т.е. качество двух моделей отличается."
   ]
  },
  {
   "cell_type": "markdown",
   "id": "59e52029-2132-4822-b120-7e0b03372906",
   "metadata": {},
   "source": [
    "## Задание 3"
   ]
  },
  {
   "cell_type": "markdown",
   "id": "eb87d6e8-0914-44d6-83a6-611add49dd36",
   "metadata": {},
   "source": [
    "В предыдущей задаче посчитайте 95% доверительный интервал для разности средних абсолютных ошибок предсказаний регрессии и случайного леса. Чему равна его ближайшая к нулю граница? Округлите до десятков (поскольку случайный лес может давать немного разные предсказания в зависимости от версий библиотек, мы просим вас так сильно округлить, чтобы полученное значение наверняка совпало с нашим)."
   ]
  },
  {
   "cell_type": "code",
   "execution_count": 78,
   "id": "28c8be6b-023b-4ea5-9ad4-c7727caa9fb2",
   "metadata": {},
   "outputs": [
    {
     "name": "stdout",
     "output_type": "stream",
     "text": [
      "Conf interval: (59.831948333829374, 115.07981797846968)\n"
     ]
    }
   ],
   "source": [
    "cm = weightstats.CompareMeans(weightstats.DescrStatsW(linear_err), weightstats.DescrStatsW(random_forest_err))\n",
    "print(f\"Conf interval: {cm.tconfint_diff(alpha=0.05)}\")"
   ]
  },
  {
   "cell_type": "code",
   "execution_count": null,
   "id": "ceb56df8-4561-4fe0-89cb-f840fb5d4430",
   "metadata": {},
   "outputs": [],
   "source": []
  }
 ],
 "metadata": {
  "kernelspec": {
   "display_name": "Python 3",
   "language": "python",
   "name": "python3"
  },
  "language_info": {
   "codemirror_mode": {
    "name": "ipython",
    "version": 3
   },
   "file_extension": ".py",
   "mimetype": "text/x-python",
   "name": "python",
   "nbconvert_exporter": "python",
   "pygments_lexer": "ipython3",
   "version": "3.8.8"
  }
 },
 "nbformat": 4,
 "nbformat_minor": 5
}
